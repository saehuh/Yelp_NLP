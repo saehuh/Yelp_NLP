{
 "cells": [
  {
   "cell_type": "code",
   "execution_count": 3,
   "metadata": {},
   "outputs": [],
   "source": [
    "import pandas as pd\n",
    "import numpy as np\n",
    "import seaborn as sns\n",
    "import matplotlib.pyplot as plt\n",
    "%matplotlib inline\n",
    "from matplotlib.pylab import rcParams\n",
    "rcParams['figure.figsize'] = 12, 4\n",
    "pd.set_option('display.max_columns', 500)\n",
    "pd.set_option('display.max_columns', 100)"
   ]
  },
  {
   "cell_type": "code",
   "execution_count": 4,
   "metadata": {},
   "outputs": [],
   "source": [
    "from pymongo import MongoClient\n",
    "client = MongoClient()\n",
    "db = client.yelp_dump"
   ]
  },
  {
   "cell_type": "markdown",
   "metadata": {},
   "source": [
    "# Looking at Businesses"
   ]
  },
  {
   "cell_type": "code",
   "execution_count": 5,
   "metadata": {},
   "outputs": [],
   "source": [
    "df_business = pd.DataFrame(list(db.business.find({})))"
   ]
  },
  {
   "cell_type": "code",
   "execution_count": 6,
   "metadata": {},
   "outputs": [
    {
     "data": {
      "text/html": [
       "<div>\n",
       "<style scoped>\n",
       "    .dataframe tbody tr th:only-of-type {\n",
       "        vertical-align: middle;\n",
       "    }\n",
       "\n",
       "    .dataframe tbody tr th {\n",
       "        vertical-align: top;\n",
       "    }\n",
       "\n",
       "    .dataframe thead th {\n",
       "        text-align: right;\n",
       "    }\n",
       "</style>\n",
       "<table border=\"1\" class=\"dataframe\">\n",
       "  <thead>\n",
       "    <tr style=\"text-align: right;\">\n",
       "      <th></th>\n",
       "      <th>_id</th>\n",
       "      <th>business_id</th>\n",
       "      <th>name</th>\n",
       "      <th>address</th>\n",
       "      <th>city</th>\n",
       "      <th>state</th>\n",
       "      <th>postal_code</th>\n",
       "      <th>latitude</th>\n",
       "      <th>longitude</th>\n",
       "      <th>stars</th>\n",
       "      <th>review_count</th>\n",
       "      <th>is_open</th>\n",
       "      <th>attributes</th>\n",
       "      <th>categories</th>\n",
       "      <th>hours</th>\n",
       "    </tr>\n",
       "  </thead>\n",
       "  <tbody>\n",
       "    <tr>\n",
       "      <th>0</th>\n",
       "      <td>5fb9532f5884f05b67a0dca5</td>\n",
       "      <td>f9NumwFMBDn751xgFiRbNA</td>\n",
       "      <td>The Range At Lake Norman</td>\n",
       "      <td>10913 Bailey Rd</td>\n",
       "      <td>Cornelius</td>\n",
       "      <td>NC</td>\n",
       "      <td>28031</td>\n",
       "      <td>35.462724</td>\n",
       "      <td>-80.852612</td>\n",
       "      <td>3.5</td>\n",
       "      <td>36</td>\n",
       "      <td>1</td>\n",
       "      <td>{'BusinessAcceptsCreditCards': 'True', 'BikePa...</td>\n",
       "      <td>Active Life, Gun/Rifle Ranges, Guns &amp; Ammo, Sh...</td>\n",
       "      <td>{'Monday': '10:0-18:0', 'Tuesday': '11:0-20:0'...</td>\n",
       "    </tr>\n",
       "    <tr>\n",
       "      <th>1</th>\n",
       "      <td>5fb9532f5884f05b67a0dca6</td>\n",
       "      <td>51M2Kk903DFYI6gnB5I6SQ</td>\n",
       "      <td>USE MY GUY SERVICES LLC</td>\n",
       "      <td>4827 E Downing Cir</td>\n",
       "      <td>Mesa</td>\n",
       "      <td>AZ</td>\n",
       "      <td>85205</td>\n",
       "      <td>33.428065</td>\n",
       "      <td>-111.726648</td>\n",
       "      <td>4.5</td>\n",
       "      <td>26</td>\n",
       "      <td>1</td>\n",
       "      <td>{'BusinessAcceptsCreditCards': 'True', 'ByAppo...</td>\n",
       "      <td>Home Services, Plumbing, Electricians, Handyma...</td>\n",
       "      <td>{'Monday': '0:0-0:0', 'Tuesday': '9:0-16:0', '...</td>\n",
       "    </tr>\n",
       "    <tr>\n",
       "      <th>2</th>\n",
       "      <td>5fb9532f5884f05b67a0dca7</td>\n",
       "      <td>cKyLV5oWZJ2NudWgqs8VZw</td>\n",
       "      <td>Oasis Auto Center - Gilbert</td>\n",
       "      <td>1720 W Elliot Rd, Ste 105</td>\n",
       "      <td>Gilbert</td>\n",
       "      <td>AZ</td>\n",
       "      <td>85233</td>\n",
       "      <td>33.350399</td>\n",
       "      <td>-111.827142</td>\n",
       "      <td>4.5</td>\n",
       "      <td>38</td>\n",
       "      <td>1</td>\n",
       "      <td>{'BusinessAcceptsCreditCards': 'True'}</td>\n",
       "      <td>Auto Repair, Automotive, Oil Change Stations, ...</td>\n",
       "      <td>{'Monday': '7:0-18:0', 'Tuesday': '7:0-18:0', ...</td>\n",
       "    </tr>\n",
       "    <tr>\n",
       "      <th>3</th>\n",
       "      <td>5fb9532f5884f05b67a0dca8</td>\n",
       "      <td>oiAlXZPIFm2nBCt0DHLu_Q</td>\n",
       "      <td>Green World Cleaners</td>\n",
       "      <td>6870 S Rainbow Blvd, Ste 117</td>\n",
       "      <td>Las Vegas</td>\n",
       "      <td>NV</td>\n",
       "      <td>89118</td>\n",
       "      <td>36.063977</td>\n",
       "      <td>-115.241463</td>\n",
       "      <td>3.5</td>\n",
       "      <td>81</td>\n",
       "      <td>1</td>\n",
       "      <td>{'BusinessParking': '{'garage': False, 'street...</td>\n",
       "      <td>Dry Cleaning &amp; Laundry, Local Services, Laundr...</td>\n",
       "      <td>{'Monday': '7:0-19:0', 'Tuesday': '7:0-19:0', ...</td>\n",
       "    </tr>\n",
       "    <tr>\n",
       "      <th>4</th>\n",
       "      <td>5fb9532f5884f05b67a0dca9</td>\n",
       "      <td>XNoUzKckATkOD1hP6vghZg</td>\n",
       "      <td>Felinus</td>\n",
       "      <td>3554 Rue Notre-Dame O</td>\n",
       "      <td>Montreal</td>\n",
       "      <td>QC</td>\n",
       "      <td>H4C 1P4</td>\n",
       "      <td>45.479984</td>\n",
       "      <td>-73.580070</td>\n",
       "      <td>5.0</td>\n",
       "      <td>5</td>\n",
       "      <td>1</td>\n",
       "      <td>None</td>\n",
       "      <td>Pets, Pet Services, Pet Groomers</td>\n",
       "      <td>None</td>\n",
       "    </tr>\n",
       "  </tbody>\n",
       "</table>\n",
       "</div>"
      ],
      "text/plain": [
       "                        _id             business_id  \\\n",
       "0  5fb9532f5884f05b67a0dca5  f9NumwFMBDn751xgFiRbNA   \n",
       "1  5fb9532f5884f05b67a0dca6  51M2Kk903DFYI6gnB5I6SQ   \n",
       "2  5fb9532f5884f05b67a0dca7  cKyLV5oWZJ2NudWgqs8VZw   \n",
       "3  5fb9532f5884f05b67a0dca8  oiAlXZPIFm2nBCt0DHLu_Q   \n",
       "4  5fb9532f5884f05b67a0dca9  XNoUzKckATkOD1hP6vghZg   \n",
       "\n",
       "                          name                       address       city state  \\\n",
       "0     The Range At Lake Norman               10913 Bailey Rd  Cornelius    NC   \n",
       "1      USE MY GUY SERVICES LLC            4827 E Downing Cir       Mesa    AZ   \n",
       "2  Oasis Auto Center - Gilbert     1720 W Elliot Rd, Ste 105    Gilbert    AZ   \n",
       "3         Green World Cleaners  6870 S Rainbow Blvd, Ste 117  Las Vegas    NV   \n",
       "4                      Felinus         3554 Rue Notre-Dame O   Montreal    QC   \n",
       "\n",
       "  postal_code   latitude   longitude  stars  review_count  is_open  \\\n",
       "0       28031  35.462724  -80.852612    3.5            36        1   \n",
       "1       85205  33.428065 -111.726648    4.5            26        1   \n",
       "2       85233  33.350399 -111.827142    4.5            38        1   \n",
       "3       89118  36.063977 -115.241463    3.5            81        1   \n",
       "4     H4C 1P4  45.479984  -73.580070    5.0             5        1   \n",
       "\n",
       "                                          attributes  \\\n",
       "0  {'BusinessAcceptsCreditCards': 'True', 'BikePa...   \n",
       "1  {'BusinessAcceptsCreditCards': 'True', 'ByAppo...   \n",
       "2             {'BusinessAcceptsCreditCards': 'True'}   \n",
       "3  {'BusinessParking': '{'garage': False, 'street...   \n",
       "4                                               None   \n",
       "\n",
       "                                          categories  \\\n",
       "0  Active Life, Gun/Rifle Ranges, Guns & Ammo, Sh...   \n",
       "1  Home Services, Plumbing, Electricians, Handyma...   \n",
       "2  Auto Repair, Automotive, Oil Change Stations, ...   \n",
       "3  Dry Cleaning & Laundry, Local Services, Laundr...   \n",
       "4                   Pets, Pet Services, Pet Groomers   \n",
       "\n",
       "                                               hours  \n",
       "0  {'Monday': '10:0-18:0', 'Tuesday': '11:0-20:0'...  \n",
       "1  {'Monday': '0:0-0:0', 'Tuesday': '9:0-16:0', '...  \n",
       "2  {'Monday': '7:0-18:0', 'Tuesday': '7:0-18:0', ...  \n",
       "3  {'Monday': '7:0-19:0', 'Tuesday': '7:0-19:0', ...  \n",
       "4                                               None  "
      ]
     },
     "execution_count": 6,
     "metadata": {},
     "output_type": "execute_result"
    }
   ],
   "source": [
    "df_business.head()\n"
   ]
  },
  {
   "cell_type": "code",
   "execution_count": 7,
   "metadata": {},
   "outputs": [
    {
     "data": {
      "text/plain": [
       "(209393, 15)"
      ]
     },
     "execution_count": 7,
     "metadata": {},
     "output_type": "execute_result"
    }
   ],
   "source": [
    "df_business.shape"
   ]
  },
  {
   "cell_type": "code",
   "execution_count": 187,
   "metadata": {},
   "outputs": [],
   "source": [
    "df_business.to_csv(\"data/yelp_business.csv\")"
   ]
  },
  {
   "cell_type": "code",
   "execution_count": 8,
   "metadata": {},
   "outputs": [
    {
     "data": {
      "text/plain": [
       "hours           44843\n",
       "attributes      29045\n",
       "categories        524\n",
       "is_open             0\n",
       "review_count        0\n",
       "stars               0\n",
       "longitude           0\n",
       "latitude            0\n",
       "postal_code         0\n",
       "state               0\n",
       "city                0\n",
       "address             0\n",
       "name                0\n",
       "business_id         0\n",
       "_id                 0\n",
       "dtype: int64"
      ]
     },
     "execution_count": 8,
     "metadata": {},
     "output_type": "execute_result"
    }
   ],
   "source": [
    "df_business.isnull().sum().sort_values(ascending=False)"
   ]
  },
  {
   "cell_type": "code",
   "execution_count": 9,
   "metadata": {},
   "outputs": [
    {
     "data": {
      "text/plain": [
       "Las Vegas                   31631\n",
       "Toronto                     20366\n",
       "Phoenix                     20171\n",
       "Charlotte                   10422\n",
       "Scottsdale                   9342\n",
       "                            ...  \n",
       "Saint-Jean-Sur-Richelieu        1\n",
       "Saint-Liboire                   1\n",
       "Bedford Hts.                    1\n",
       "Huntingdon                      1\n",
       "CHANDLER                        1\n",
       "Name: city, Length: 1251, dtype: int64"
      ]
     },
     "execution_count": 9,
     "metadata": {},
     "output_type": "execute_result"
    }
   ],
   "source": [
    "df_business.city.value_counts()\n"
   ]
  },
  {
   "cell_type": "markdown",
   "metadata": {},
   "source": [
    "## Top 50 most reviewed business"
   ]
  },
  {
   "cell_type": "code",
   "execution_count": 10,
   "metadata": {},
   "outputs": [
    {
     "data": {
      "text/html": [
       "<div>\n",
       "<style scoped>\n",
       "    .dataframe tbody tr th:only-of-type {\n",
       "        vertical-align: middle;\n",
       "    }\n",
       "\n",
       "    .dataframe tbody tr th {\n",
       "        vertical-align: top;\n",
       "    }\n",
       "\n",
       "    .dataframe thead th {\n",
       "        text-align: right;\n",
       "    }\n",
       "</style>\n",
       "<table border=\"1\" class=\"dataframe\">\n",
       "  <thead>\n",
       "    <tr style=\"text-align: right;\">\n",
       "      <th></th>\n",
       "      <th>name</th>\n",
       "      <th>review_count</th>\n",
       "      <th>city</th>\n",
       "      <th>stars</th>\n",
       "    </tr>\n",
       "  </thead>\n",
       "  <tbody>\n",
       "    <tr>\n",
       "      <th>81550</th>\n",
       "      <td>Bacchanal Buffet</td>\n",
       "      <td>10129</td>\n",
       "      <td>Las Vegas</td>\n",
       "      <td>4.0</td>\n",
       "    </tr>\n",
       "    <tr>\n",
       "      <th>118013</th>\n",
       "      <td>Mon Ami Gabi</td>\n",
       "      <td>9264</td>\n",
       "      <td>Las Vegas</td>\n",
       "      <td>4.0</td>\n",
       "    </tr>\n",
       "    <tr>\n",
       "      <th>147377</th>\n",
       "      <td>Wicked Spoon</td>\n",
       "      <td>7383</td>\n",
       "      <td>Las Vegas</td>\n",
       "      <td>3.5</td>\n",
       "    </tr>\n",
       "    <tr>\n",
       "      <th>83020</th>\n",
       "      <td>Hash House A Go Go</td>\n",
       "      <td>6751</td>\n",
       "      <td>Las Vegas</td>\n",
       "      <td>4.0</td>\n",
       "    </tr>\n",
       "    <tr>\n",
       "      <th>201974</th>\n",
       "      <td>Gordon Ramsay BurGR</td>\n",
       "      <td>5494</td>\n",
       "      <td>Las Vegas</td>\n",
       "      <td>4.0</td>\n",
       "    </tr>\n",
       "    <tr>\n",
       "      <th>95962</th>\n",
       "      <td>Earl of Sandwich</td>\n",
       "      <td>5232</td>\n",
       "      <td>Las Vegas</td>\n",
       "      <td>4.5</td>\n",
       "    </tr>\n",
       "    <tr>\n",
       "      <th>22753</th>\n",
       "      <td>Yardbird Southern Table &amp; Bar</td>\n",
       "      <td>4828</td>\n",
       "      <td>Las Vegas</td>\n",
       "      <td>4.5</td>\n",
       "    </tr>\n",
       "    <tr>\n",
       "      <th>145299</th>\n",
       "      <td>Secret Pizza</td>\n",
       "      <td>4803</td>\n",
       "      <td>Las Vegas</td>\n",
       "      <td>4.0</td>\n",
       "    </tr>\n",
       "    <tr>\n",
       "      <th>205741</th>\n",
       "      <td>The Buffet At Wynn</td>\n",
       "      <td>4803</td>\n",
       "      <td>Las Vegas</td>\n",
       "      <td>3.5</td>\n",
       "    </tr>\n",
       "    <tr>\n",
       "      <th>77430</th>\n",
       "      <td>The Cosmopolitan of Las Vegas</td>\n",
       "      <td>4740</td>\n",
       "      <td>Las Vegas</td>\n",
       "      <td>4.0</td>\n",
       "    </tr>\n",
       "    <tr>\n",
       "      <th>89279</th>\n",
       "      <td>Gordon Ramsay Hell's Kitchen</td>\n",
       "      <td>4672</td>\n",
       "      <td>Las Vegas</td>\n",
       "      <td>4.5</td>\n",
       "    </tr>\n",
       "    <tr>\n",
       "      <th>112687</th>\n",
       "      <td>Luxor Hotel and Casino Las Vegas</td>\n",
       "      <td>4670</td>\n",
       "      <td>Las Vegas</td>\n",
       "      <td>2.5</td>\n",
       "    </tr>\n",
       "    <tr>\n",
       "      <th>145544</th>\n",
       "      <td>The Buffet at Bellagio</td>\n",
       "      <td>4628</td>\n",
       "      <td>Las Vegas</td>\n",
       "      <td>3.5</td>\n",
       "    </tr>\n",
       "    <tr>\n",
       "      <th>30491</th>\n",
       "      <td>ARIA Resort &amp; Casino</td>\n",
       "      <td>4580</td>\n",
       "      <td>Las Vegas</td>\n",
       "      <td>3.5</td>\n",
       "    </tr>\n",
       "    <tr>\n",
       "      <th>197935</th>\n",
       "      <td>MGM Grand Hotel</td>\n",
       "      <td>4424</td>\n",
       "      <td>Las Vegas</td>\n",
       "      <td>3.0</td>\n",
       "    </tr>\n",
       "    <tr>\n",
       "      <th>75351</th>\n",
       "      <td>Nacho Daddy</td>\n",
       "      <td>4276</td>\n",
       "      <td>Las Vegas</td>\n",
       "      <td>4.5</td>\n",
       "    </tr>\n",
       "    <tr>\n",
       "      <th>3653</th>\n",
       "      <td>Bouchon</td>\n",
       "      <td>4138</td>\n",
       "      <td>Las Vegas</td>\n",
       "      <td>4.0</td>\n",
       "    </tr>\n",
       "    <tr>\n",
       "      <th>144007</th>\n",
       "      <td>Gordon Ramsay Steak</td>\n",
       "      <td>4095</td>\n",
       "      <td>Las Vegas</td>\n",
       "      <td>4.0</td>\n",
       "    </tr>\n",
       "    <tr>\n",
       "      <th>103114</th>\n",
       "      <td>Egg &amp; I</td>\n",
       "      <td>4048</td>\n",
       "      <td>Las Vegas</td>\n",
       "      <td>4.5</td>\n",
       "    </tr>\n",
       "    <tr>\n",
       "      <th>47498</th>\n",
       "      <td>Gordon Ramsay Pub &amp; Grill</td>\n",
       "      <td>4019</td>\n",
       "      <td>Las Vegas</td>\n",
       "      <td>3.5</td>\n",
       "    </tr>\n",
       "    <tr>\n",
       "      <th>107765</th>\n",
       "      <td>Tacos El Gordo</td>\n",
       "      <td>4016</td>\n",
       "      <td>Las Vegas</td>\n",
       "      <td>4.0</td>\n",
       "    </tr>\n",
       "    <tr>\n",
       "      <th>202271</th>\n",
       "      <td>Lotus of Siam</td>\n",
       "      <td>3986</td>\n",
       "      <td>Las Vegas</td>\n",
       "      <td>4.0</td>\n",
       "    </tr>\n",
       "    <tr>\n",
       "      <th>76446</th>\n",
       "      <td>McCarran International Airport</td>\n",
       "      <td>3972</td>\n",
       "      <td>Las Vegas</td>\n",
       "      <td>3.5</td>\n",
       "    </tr>\n",
       "    <tr>\n",
       "      <th>70011</th>\n",
       "      <td>El Dorado Cantina</td>\n",
       "      <td>3928</td>\n",
       "      <td>Las Vegas</td>\n",
       "      <td>4.5</td>\n",
       "    </tr>\n",
       "    <tr>\n",
       "      <th>168207</th>\n",
       "      <td>Serendipity 3</td>\n",
       "      <td>3914</td>\n",
       "      <td>Las Vegas</td>\n",
       "      <td>3.0</td>\n",
       "    </tr>\n",
       "    <tr>\n",
       "      <th>18942</th>\n",
       "      <td>Flamingo Las Vegas Hotel &amp; Casino</td>\n",
       "      <td>3905</td>\n",
       "      <td>Las Vegas</td>\n",
       "      <td>2.5</td>\n",
       "    </tr>\n",
       "    <tr>\n",
       "      <th>179616</th>\n",
       "      <td>The Venetian Las Vegas</td>\n",
       "      <td>3873</td>\n",
       "      <td>Las Vegas</td>\n",
       "      <td>4.0</td>\n",
       "    </tr>\n",
       "    <tr>\n",
       "      <th>39419</th>\n",
       "      <td>The Peppermill Restaurant &amp; Fireside Lounge</td>\n",
       "      <td>3771</td>\n",
       "      <td>Las Vegas</td>\n",
       "      <td>4.0</td>\n",
       "    </tr>\n",
       "    <tr>\n",
       "      <th>85362</th>\n",
       "      <td>Guy Fieri's Vegas Kitchen</td>\n",
       "      <td>3763</td>\n",
       "      <td>Las Vegas</td>\n",
       "      <td>3.5</td>\n",
       "    </tr>\n",
       "    <tr>\n",
       "      <th>59274</th>\n",
       "      <td>Bellagio Hotel</td>\n",
       "      <td>3617</td>\n",
       "      <td>Las Vegas</td>\n",
       "      <td>3.5</td>\n",
       "    </tr>\n",
       "    <tr>\n",
       "      <th>16684</th>\n",
       "      <td>Mesa Grill</td>\n",
       "      <td>3533</td>\n",
       "      <td>Las Vegas</td>\n",
       "      <td>4.0</td>\n",
       "    </tr>\n",
       "    <tr>\n",
       "      <th>207686</th>\n",
       "      <td>Snooze, An A.M. Eatery</td>\n",
       "      <td>3515</td>\n",
       "      <td>Phoenix</td>\n",
       "      <td>4.0</td>\n",
       "    </tr>\n",
       "    <tr>\n",
       "      <th>19267</th>\n",
       "      <td>Gangnam Asian BBQ Dining</td>\n",
       "      <td>3512</td>\n",
       "      <td>Las Vegas</td>\n",
       "      <td>4.5</td>\n",
       "    </tr>\n",
       "    <tr>\n",
       "      <th>198637</th>\n",
       "      <td>Hash House A Go Go</td>\n",
       "      <td>3463</td>\n",
       "      <td>Las Vegas</td>\n",
       "      <td>4.0</td>\n",
       "    </tr>\n",
       "    <tr>\n",
       "      <th>153532</th>\n",
       "      <td>Mandalay Bay Resort &amp; Casino</td>\n",
       "      <td>3439</td>\n",
       "      <td>Las Vegas</td>\n",
       "      <td>3.0</td>\n",
       "    </tr>\n",
       "    <tr>\n",
       "      <th>206404</th>\n",
       "      <td>Giada</td>\n",
       "      <td>3421</td>\n",
       "      <td>Las Vegas</td>\n",
       "      <td>3.5</td>\n",
       "    </tr>\n",
       "    <tr>\n",
       "      <th>23554</th>\n",
       "      <td>Holsteins</td>\n",
       "      <td>3414</td>\n",
       "      <td>Las Vegas</td>\n",
       "      <td>4.0</td>\n",
       "    </tr>\n",
       "    <tr>\n",
       "      <th>116101</th>\n",
       "      <td>Pho Kim Long</td>\n",
       "      <td>3398</td>\n",
       "      <td>Las Vegas</td>\n",
       "      <td>3.5</td>\n",
       "    </tr>\n",
       "    <tr>\n",
       "      <th>59577</th>\n",
       "      <td>Bachi Burger</td>\n",
       "      <td>3356</td>\n",
       "      <td>Las Vegas</td>\n",
       "      <td>4.0</td>\n",
       "    </tr>\n",
       "    <tr>\n",
       "      <th>106043</th>\n",
       "      <td>Mr Mamas</td>\n",
       "      <td>3344</td>\n",
       "      <td>Las Vegas</td>\n",
       "      <td>4.5</td>\n",
       "    </tr>\n",
       "    <tr>\n",
       "      <th>60622</th>\n",
       "      <td>HEXX kitchen + bar</td>\n",
       "      <td>3305</td>\n",
       "      <td>Las Vegas</td>\n",
       "      <td>4.0</td>\n",
       "    </tr>\n",
       "    <tr>\n",
       "      <th>171252</th>\n",
       "      <td>Bobby Q</td>\n",
       "      <td>3302</td>\n",
       "      <td>Phoenix</td>\n",
       "      <td>4.5</td>\n",
       "    </tr>\n",
       "    <tr>\n",
       "      <th>124064</th>\n",
       "      <td>Excalibur Hotel</td>\n",
       "      <td>3263</td>\n",
       "      <td>Las Vegas</td>\n",
       "      <td>2.5</td>\n",
       "    </tr>\n",
       "    <tr>\n",
       "      <th>75011</th>\n",
       "      <td>XS Nightclub</td>\n",
       "      <td>3250</td>\n",
       "      <td>Las Vegas</td>\n",
       "      <td>4.0</td>\n",
       "    </tr>\n",
       "    <tr>\n",
       "      <th>71813</th>\n",
       "      <td>Rollin Smoke Barbeque</td>\n",
       "      <td>3249</td>\n",
       "      <td>Las Vegas</td>\n",
       "      <td>4.5</td>\n",
       "    </tr>\n",
       "    <tr>\n",
       "      <th>134905</th>\n",
       "      <td>Caesars Palace Las Vegas Hotel &amp; Casino</td>\n",
       "      <td>3237</td>\n",
       "      <td>Las Vegas</td>\n",
       "      <td>3.0</td>\n",
       "    </tr>\n",
       "    <tr>\n",
       "      <th>83280</th>\n",
       "      <td>Planet Hollywood Las Vegas Resort &amp; Casino</td>\n",
       "      <td>3228</td>\n",
       "      <td>Las Vegas</td>\n",
       "      <td>3.0</td>\n",
       "    </tr>\n",
       "    <tr>\n",
       "      <th>153300</th>\n",
       "      <td>Shake Shack</td>\n",
       "      <td>3097</td>\n",
       "      <td>Las Vegas</td>\n",
       "      <td>4.0</td>\n",
       "    </tr>\n",
       "    <tr>\n",
       "      <th>145386</th>\n",
       "      <td>Wynn Las Vegas</td>\n",
       "      <td>3096</td>\n",
       "      <td>Las Vegas</td>\n",
       "      <td>4.0</td>\n",
       "    </tr>\n",
       "    <tr>\n",
       "      <th>31528</th>\n",
       "      <td>Pampas Las Vegas</td>\n",
       "      <td>3040</td>\n",
       "      <td>Las Vegas</td>\n",
       "      <td>3.0</td>\n",
       "    </tr>\n",
       "  </tbody>\n",
       "</table>\n",
       "</div>"
      ],
      "text/plain": [
       "                                               name  review_count       city  \\\n",
       "81550                              Bacchanal Buffet         10129  Las Vegas   \n",
       "118013                                 Mon Ami Gabi          9264  Las Vegas   \n",
       "147377                                 Wicked Spoon          7383  Las Vegas   \n",
       "83020                            Hash House A Go Go          6751  Las Vegas   \n",
       "201974                          Gordon Ramsay BurGR          5494  Las Vegas   \n",
       "95962                              Earl of Sandwich          5232  Las Vegas   \n",
       "22753                 Yardbird Southern Table & Bar          4828  Las Vegas   \n",
       "145299                                 Secret Pizza          4803  Las Vegas   \n",
       "205741                           The Buffet At Wynn          4803  Las Vegas   \n",
       "77430                 The Cosmopolitan of Las Vegas          4740  Las Vegas   \n",
       "89279                  Gordon Ramsay Hell's Kitchen          4672  Las Vegas   \n",
       "112687             Luxor Hotel and Casino Las Vegas          4670  Las Vegas   \n",
       "145544                       The Buffet at Bellagio          4628  Las Vegas   \n",
       "30491                          ARIA Resort & Casino          4580  Las Vegas   \n",
       "197935                              MGM Grand Hotel          4424  Las Vegas   \n",
       "75351                                   Nacho Daddy          4276  Las Vegas   \n",
       "3653                                        Bouchon          4138  Las Vegas   \n",
       "144007                          Gordon Ramsay Steak          4095  Las Vegas   \n",
       "103114                                      Egg & I          4048  Las Vegas   \n",
       "47498                     Gordon Ramsay Pub & Grill          4019  Las Vegas   \n",
       "107765                               Tacos El Gordo          4016  Las Vegas   \n",
       "202271                                Lotus of Siam          3986  Las Vegas   \n",
       "76446                McCarran International Airport          3972  Las Vegas   \n",
       "70011                             El Dorado Cantina          3928  Las Vegas   \n",
       "168207                                Serendipity 3          3914  Las Vegas   \n",
       "18942             Flamingo Las Vegas Hotel & Casino          3905  Las Vegas   \n",
       "179616                       The Venetian Las Vegas          3873  Las Vegas   \n",
       "39419   The Peppermill Restaurant & Fireside Lounge          3771  Las Vegas   \n",
       "85362                     Guy Fieri's Vegas Kitchen          3763  Las Vegas   \n",
       "59274                                Bellagio Hotel          3617  Las Vegas   \n",
       "16684                                    Mesa Grill          3533  Las Vegas   \n",
       "207686                       Snooze, An A.M. Eatery          3515    Phoenix   \n",
       "19267                      Gangnam Asian BBQ Dining          3512  Las Vegas   \n",
       "198637                           Hash House A Go Go          3463  Las Vegas   \n",
       "153532                 Mandalay Bay Resort & Casino          3439  Las Vegas   \n",
       "206404                                        Giada          3421  Las Vegas   \n",
       "23554                                     Holsteins          3414  Las Vegas   \n",
       "116101                                 Pho Kim Long          3398  Las Vegas   \n",
       "59577                                  Bachi Burger          3356  Las Vegas   \n",
       "106043                                     Mr Mamas          3344  Las Vegas   \n",
       "60622                            HEXX kitchen + bar          3305  Las Vegas   \n",
       "171252                                      Bobby Q          3302    Phoenix   \n",
       "124064                              Excalibur Hotel          3263  Las Vegas   \n",
       "75011                                  XS Nightclub          3250  Las Vegas   \n",
       "71813                         Rollin Smoke Barbeque          3249  Las Vegas   \n",
       "134905      Caesars Palace Las Vegas Hotel & Casino          3237  Las Vegas   \n",
       "83280    Planet Hollywood Las Vegas Resort & Casino          3228  Las Vegas   \n",
       "153300                                  Shake Shack          3097  Las Vegas   \n",
       "145386                               Wynn Las Vegas          3096  Las Vegas   \n",
       "31528                              Pampas Las Vegas          3040  Las Vegas   \n",
       "\n",
       "        stars  \n",
       "81550     4.0  \n",
       "118013    4.0  \n",
       "147377    3.5  \n",
       "83020     4.0  \n",
       "201974    4.0  \n",
       "95962     4.5  \n",
       "22753     4.5  \n",
       "145299    4.0  \n",
       "205741    3.5  \n",
       "77430     4.0  \n",
       "89279     4.5  \n",
       "112687    2.5  \n",
       "145544    3.5  \n",
       "30491     3.5  \n",
       "197935    3.0  \n",
       "75351     4.5  \n",
       "3653      4.0  \n",
       "144007    4.0  \n",
       "103114    4.5  \n",
       "47498     3.5  \n",
       "107765    4.0  \n",
       "202271    4.0  \n",
       "76446     3.5  \n",
       "70011     4.5  \n",
       "168207    3.0  \n",
       "18942     2.5  \n",
       "179616    4.0  \n",
       "39419     4.0  \n",
       "85362     3.5  \n",
       "59274     3.5  \n",
       "16684     4.0  \n",
       "207686    4.0  \n",
       "19267     4.5  \n",
       "198637    4.0  \n",
       "153532    3.0  \n",
       "206404    3.5  \n",
       "23554     4.0  \n",
       "116101    3.5  \n",
       "59577     4.0  \n",
       "106043    4.5  \n",
       "60622     4.0  \n",
       "171252    4.5  \n",
       "124064    2.5  \n",
       "75011     4.0  \n",
       "71813     4.5  \n",
       "134905    3.0  \n",
       "83280     3.0  \n",
       "153300    4.0  \n",
       "145386    4.0  \n",
       "31528     3.0  "
      ]
     },
     "execution_count": 10,
     "metadata": {},
     "output_type": "execute_result"
    }
   ],
   "source": [
    "df_business[['name', 'review_count', 'city', 'stars']].sort_values(ascending=False, by=\"review_count\")[0:50]\n"
   ]
  },
  {
   "cell_type": "markdown",
   "metadata": {},
   "source": [
    "# Number of businesses listed in different cities"
   ]
  },
  {
   "cell_type": "code",
   "execution_count": 11,
   "metadata": {},
   "outputs": [],
   "source": [
    "city_business_counts = df_business[['city', 'business_id']].groupby(['city'])\\\n",
    "['business_id'].agg('count').sort_values(ascending=False)"
   ]
  },
  {
   "cell_type": "code",
   "execution_count": 12,
   "metadata": {},
   "outputs": [],
   "source": [
    "city_business_counts = pd.DataFrame(data=city_business_counts)"
   ]
  },
  {
   "cell_type": "code",
   "execution_count": 13,
   "metadata": {},
   "outputs": [],
   "source": [
    "city_business_counts.rename(columns={'business_id' : 'number_of_businesses'}, inplace=True)"
   ]
  },
  {
   "cell_type": "code",
   "execution_count": 14,
   "metadata": {},
   "outputs": [
    {
     "data": {
      "text/plain": [
       "Text(0.5, 1.0, 'Top 50 cities by businesses listed')"
      ]
     },
     "execution_count": 14,
     "metadata": {},
     "output_type": "execute_result"
    },
    {
     "data": {
      "image/png": "[encoded data removed]",
      "text/plain": [
       "<Figure size 720x720 with 1 Axes>"
      ]
     },
     "metadata": {
      "needs_background": "light"
     },
     "output_type": "display_data"
    }
   ],
   "source": [
    "city_business_counts[0:50].sort_values(ascending=False, by=\"number_of_businesses\")\\\n",
    ".plot(kind='barh', stacked=False, figsize=[10,10])\n",
    "plt.title('Top 50 cities by businesses listed')"
   ]
  },
  {
   "cell_type": "markdown",
   "metadata": {},
   "source": [
    "## No Data on NYC!!!"
   ]
  },
  {
   "cell_type": "code",
   "execution_count": 15,
   "metadata": {},
   "outputs": [],
   "source": [
    "test_df = df_business[df_business['city']=='New York']"
   ]
  },
  {
   "cell_type": "code",
   "execution_count": 16,
   "metadata": {},
   "outputs": [
    {
     "data": {
      "text/plain": [
       "(1, 15)"
      ]
     },
     "execution_count": 16,
     "metadata": {},
     "output_type": "execute_result"
    }
   ],
   "source": [
    "test_df.shape"
   ]
  },
  {
   "cell_type": "markdown",
   "metadata": {},
   "source": [
    "## Cities with most reviews and best ratings for their businesses"
   ]
  },
  {
   "cell_type": "code",
   "execution_count": 17,
   "metadata": {},
   "outputs": [
    {
     "data": {
      "text/html": [
       "<div>\n",
       "<style scoped>\n",
       "    .dataframe tbody tr th:only-of-type {\n",
       "        vertical-align: middle;\n",
       "    }\n",
       "\n",
       "    .dataframe tbody tr th {\n",
       "        vertical-align: top;\n",
       "    }\n",
       "\n",
       "    .dataframe thead th {\n",
       "        text-align: right;\n",
       "    }\n",
       "</style>\n",
       "<table border=\"1\" class=\"dataframe\">\n",
       "  <thead>\n",
       "    <tr style=\"text-align: right;\">\n",
       "      <th></th>\n",
       "      <th>review_count</th>\n",
       "      <th>stars</th>\n",
       "    </tr>\n",
       "    <tr>\n",
       "      <th>city</th>\n",
       "      <th></th>\n",
       "      <th></th>\n",
       "    </tr>\n",
       "  </thead>\n",
       "  <tbody>\n",
       "    <tr>\n",
       "      <th>Las Vegas</th>\n",
       "      <td>2360735</td>\n",
       "      <td>3.653726</td>\n",
       "    </tr>\n",
       "    <tr>\n",
       "      <th>Phoenix</th>\n",
       "      <td>842321</td>\n",
       "      <td>3.583808</td>\n",
       "    </tr>\n",
       "    <tr>\n",
       "      <th>Toronto</th>\n",
       "      <td>583512</td>\n",
       "      <td>3.414367</td>\n",
       "    </tr>\n",
       "    <tr>\n",
       "      <th>Scottsdale</th>\n",
       "      <td>439439</td>\n",
       "      <td>3.874331</td>\n",
       "    </tr>\n",
       "    <tr>\n",
       "      <th>Charlotte</th>\n",
       "      <td>371580</td>\n",
       "      <td>3.492660</td>\n",
       "    </tr>\n",
       "    <tr>\n",
       "      <th>Pittsburgh</th>\n",
       "      <td>262412</td>\n",
       "      <td>3.586632</td>\n",
       "    </tr>\n",
       "    <tr>\n",
       "      <th>Henderson</th>\n",
       "      <td>261244</td>\n",
       "      <td>3.729230</td>\n",
       "    </tr>\n",
       "    <tr>\n",
       "      <th>Tempe</th>\n",
       "      <td>229594</td>\n",
       "      <td>3.639671</td>\n",
       "    </tr>\n",
       "    <tr>\n",
       "      <th>Mesa</th>\n",
       "      <td>197214</td>\n",
       "      <td>3.562795</td>\n",
       "    </tr>\n",
       "    <tr>\n",
       "      <th>Chandler</th>\n",
       "      <td>183475</td>\n",
       "      <td>3.683624</td>\n",
       "    </tr>\n",
       "  </tbody>\n",
       "</table>\n",
       "</div>"
      ],
      "text/plain": [
       "            review_count     stars\n",
       "city                              \n",
       "Las Vegas        2360735  3.653726\n",
       "Phoenix           842321  3.583808\n",
       "Toronto           583512  3.414367\n",
       "Scottsdale        439439  3.874331\n",
       "Charlotte         371580  3.492660\n",
       "Pittsburgh        262412  3.586632\n",
       "Henderson         261244  3.729230\n",
       "Tempe             229594  3.639671\n",
       "Mesa              197214  3.562795\n",
       "Chandler          183475  3.683624"
      ]
     },
     "execution_count": 17,
     "metadata": {},
     "output_type": "execute_result"
    }
   ],
   "source": [
    "city_business_reviews = df_business[['city', 'review_count', 'stars']].groupby(['city']).\\\n",
    "agg({'review_count': 'sum', 'stars': 'mean'}).sort_values(by='review_count', ascending=False)\n",
    "city_business_reviews.head(10)"
   ]
  },
  {
   "cell_type": "code",
   "execution_count": 18,
   "metadata": {},
   "outputs": [
    {
     "data": {
      "text/plain": [
       "Text(0.5, 1.0, 'Top 50 cities by reviews')"
      ]
     },
     "execution_count": 18,
     "metadata": {},
     "output_type": "execute_result"
    },
    {
     "data": {
      "image/png": "[encoded data removed]",
      "text/plain": [
       "<Figure size 720x720 with 1 Axes>"
      ]
     },
     "metadata": {
      "needs_background": "light"
     },
     "output_type": "display_data"
    }
   ],
   "source": [
    "city_business_reviews['review_count'][0:50].plot(kind='barh', stacked=False, figsize=[10,10])\n",
    "plt.title('Top 50 cities by reviews')"
   ]
  },
  {
   "cell_type": "code",
   "execution_count": 19,
   "metadata": {},
   "outputs": [
    {
     "data": {
      "text/plain": [
       "Text(0.5, 1.0, 'Cities with greater than 50k reviews ranked by average stars')"
      ]
     },
     "execution_count": 19,
     "metadata": {},
     "output_type": "execute_result"
    },
    {
     "data": {
      "image/png": "[encoded data removed]",
      "text/plain": [
       "<Figure size 720x720 with 1 Axes>"
      ]
     },
     "metadata": {
      "needs_background": "light"
     },
     "output_type": "display_data"
    }
   ],
   "source": [
    "city_business_reviews[city_business_reviews.review_count > 50000]['stars'].sort_values()\\\n",
    ".plot(kind='barh', stacked=False, figsize=[10,10])\n",
    "plt.title('Cities with greater than 50k reviews ranked by average stars')"
   ]
  },
  {
   "cell_type": "code",
   "execution_count": 20,
   "metadata": {},
   "outputs": [
    {
     "data": {
      "text/html": [
       "<div>\n",
       "<style scoped>\n",
       "    .dataframe tbody tr th:only-of-type {\n",
       "        vertical-align: middle;\n",
       "    }\n",
       "\n",
       "    .dataframe tbody tr th {\n",
       "        vertical-align: top;\n",
       "    }\n",
       "\n",
       "    .dataframe thead th {\n",
       "        text-align: right;\n",
       "    }\n",
       "</style>\n",
       "<table border=\"1\" class=\"dataframe\">\n",
       "  <thead>\n",
       "    <tr style=\"text-align: right;\">\n",
       "      <th></th>\n",
       "      <th>_id</th>\n",
       "      <th>business_id</th>\n",
       "      <th>name</th>\n",
       "      <th>address</th>\n",
       "      <th>city</th>\n",
       "      <th>state</th>\n",
       "      <th>postal_code</th>\n",
       "      <th>latitude</th>\n",
       "      <th>longitude</th>\n",
       "      <th>stars</th>\n",
       "      <th>review_count</th>\n",
       "      <th>is_open</th>\n",
       "      <th>attributes</th>\n",
       "      <th>categories</th>\n",
       "      <th>hours</th>\n",
       "    </tr>\n",
       "  </thead>\n",
       "  <tbody>\n",
       "    <tr>\n",
       "      <th>13</th>\n",
       "      <td>5fb9532f5884f05b67a0dcb2</td>\n",
       "      <td>Yzvjg0SayhoZgCljUJRF9Q</td>\n",
       "      <td>Carlos Santo, NMD</td>\n",
       "      <td>8880 E Via Linda, Ste 107</td>\n",
       "      <td>Scottsdale</td>\n",
       "      <td>AZ</td>\n",
       "      <td>85258</td>\n",
       "      <td>33.569404</td>\n",
       "      <td>-111.890264</td>\n",
       "      <td>5.0</td>\n",
       "      <td>4</td>\n",
       "      <td>1</td>\n",
       "      <td>{'GoodForKids': 'True', 'ByAppointmentOnly': '...</td>\n",
       "      <td>Health &amp; Medical, Fitness &amp; Instruction, Yoga,...</td>\n",
       "      <td>None</td>\n",
       "    </tr>\n",
       "    <tr>\n",
       "      <th>53</th>\n",
       "      <td>5fb9532f5884f05b67a0dcda</td>\n",
       "      <td>gflx3mAzi4iG20NOUz19eA</td>\n",
       "      <td>BeStitched Needlepoint</td>\n",
       "      <td>6990 E Shea Blvd, Ste 124</td>\n",
       "      <td>Scottsdale</td>\n",
       "      <td>AZ</td>\n",
       "      <td>85254</td>\n",
       "      <td>33.582962</td>\n",
       "      <td>-111.930651</td>\n",
       "      <td>3.5</td>\n",
       "      <td>11</td>\n",
       "      <td>1</td>\n",
       "      <td>{'BusinessParking': '{'garage': False, 'street...</td>\n",
       "      <td>Arts &amp; Crafts, Shopping</td>\n",
       "      <td>{'Wednesday': '10:0-15:0', 'Thursday': '10:0-1...</td>\n",
       "    </tr>\n",
       "    <tr>\n",
       "      <th>72</th>\n",
       "      <td>5fb9532f5884f05b67a0dced</td>\n",
       "      <td>5ZgMwaMPLV4EB71KtLg7EQ</td>\n",
       "      <td>Maximum Performance Batting Cages &amp; Training C...</td>\n",
       "      <td>7625 E Redfield Rd, Ste 400</td>\n",
       "      <td>Scottsdale</td>\n",
       "      <td>AZ</td>\n",
       "      <td>85260</td>\n",
       "      <td>33.612633</td>\n",
       "      <td>-111.916143</td>\n",
       "      <td>5.0</td>\n",
       "      <td>3</td>\n",
       "      <td>1</td>\n",
       "      <td>{'ByAppointmentOnly': 'False', 'BusinessAccept...</td>\n",
       "      <td>Batting Cages, Active Life</td>\n",
       "      <td>{'Monday': '15:0-21:0', 'Tuesday': '15:0-21:0'...</td>\n",
       "    </tr>\n",
       "    <tr>\n",
       "      <th>88</th>\n",
       "      <td>5fb9532f5884f05b67a0dcfd</td>\n",
       "      <td>dee5uffullqnbI7VM0K7FA</td>\n",
       "      <td>Darroch Motorsports</td>\n",
       "      <td>501 N Scottsdale Rd</td>\n",
       "      <td>Scottsdale</td>\n",
       "      <td>AZ</td>\n",
       "      <td>85257</td>\n",
       "      <td>33.453842</td>\n",
       "      <td>-111.926003</td>\n",
       "      <td>3.5</td>\n",
       "      <td>3</td>\n",
       "      <td>0</td>\n",
       "      <td>None</td>\n",
       "      <td>Automotive, Car Dealers</td>\n",
       "      <td>{'Monday': '9:0-18:0', 'Tuesday': '9:0-18:0', ...</td>\n",
       "    </tr>\n",
       "    <tr>\n",
       "      <th>106</th>\n",
       "      <td>5fb9532f5884f05b67a0dd0f</td>\n",
       "      <td>2sbmuE1_cJrEP7JwO0l-zQ</td>\n",
       "      <td>Royal skincare</td>\n",
       "      <td>7127 E Sahuaro Dr S, Suit 105</td>\n",
       "      <td>Scottsdale</td>\n",
       "      <td>AZ</td>\n",
       "      <td>85254</td>\n",
       "      <td>33.583540</td>\n",
       "      <td>-111.926826</td>\n",
       "      <td>5.0</td>\n",
       "      <td>4</td>\n",
       "      <td>1</td>\n",
       "      <td>{'WiFi': 'u'free'', 'BusinessAcceptsCreditCard...</td>\n",
       "      <td>Skin Care, Beauty &amp; Spas, Acne Treatment</td>\n",
       "      <td>{'Monday': '8:0-19:0', 'Tuesday': '8:0-19:0', ...</td>\n",
       "    </tr>\n",
       "    <tr>\n",
       "      <th>...</th>\n",
       "      <td>...</td>\n",
       "      <td>...</td>\n",
       "      <td>...</td>\n",
       "      <td>...</td>\n",
       "      <td>...</td>\n",
       "      <td>...</td>\n",
       "      <td>...</td>\n",
       "      <td>...</td>\n",
       "      <td>...</td>\n",
       "      <td>...</td>\n",
       "      <td>...</td>\n",
       "      <td>...</td>\n",
       "      <td>...</td>\n",
       "      <td>...</td>\n",
       "      <td>...</td>\n",
       "    </tr>\n",
       "    <tr>\n",
       "      <th>209319</th>\n",
       "      <td>5fb9533d5884f05b67a40e4c</td>\n",
       "      <td>00liP5s4IKsq97EH4Cc0Tw</td>\n",
       "      <td>Starbucks</td>\n",
       "      <td>9051 E. Indian Bend Road</td>\n",
       "      <td>Scottsdale</td>\n",
       "      <td>AZ</td>\n",
       "      <td>85250</td>\n",
       "      <td>33.538119</td>\n",
       "      <td>-111.886227</td>\n",
       "      <td>2.0</td>\n",
       "      <td>69</td>\n",
       "      <td>1</td>\n",
       "      <td>{'BikeParking': 'True', 'BusinessAcceptsCredit...</td>\n",
       "      <td>Coffee &amp; Tea, Food</td>\n",
       "      <td>{'Monday': '4:0-20:0', 'Tuesday': '4:0-20:0', ...</td>\n",
       "    </tr>\n",
       "    <tr>\n",
       "      <th>209323</th>\n",
       "      <td>5fb9533d5884f05b67a40e50</td>\n",
       "      <td>flQWX5Gz3R32-kaebf0fPA</td>\n",
       "      <td>Ziegler Fiesta Bowl Museum</td>\n",
       "      <td>7135 E Camelback Rd, Ste 190</td>\n",
       "      <td>Scottsdale</td>\n",
       "      <td>AZ</td>\n",
       "      <td>85251</td>\n",
       "      <td>33.500506</td>\n",
       "      <td>-111.928525</td>\n",
       "      <td>4.5</td>\n",
       "      <td>7</td>\n",
       "      <td>1</td>\n",
       "      <td>{'GoodForKids': 'True'}</td>\n",
       "      <td>Museums, Arts &amp; Entertainment</td>\n",
       "      <td>{'Monday': '8:30-17:0', 'Tuesday': '8:30-17:0'...</td>\n",
       "    </tr>\n",
       "    <tr>\n",
       "      <th>209326</th>\n",
       "      <td>5fb9533d5884f05b67a40e53</td>\n",
       "      <td>btnFN2GT-uVk_CbxFBYIFA</td>\n",
       "      <td>Raintree Dental</td>\n",
       "      <td>9304 E Raintree Dr, Ste 130</td>\n",
       "      <td>Scottsdale</td>\n",
       "      <td>AZ</td>\n",
       "      <td>85260</td>\n",
       "      <td>33.619742</td>\n",
       "      <td>-111.881428</td>\n",
       "      <td>4.0</td>\n",
       "      <td>43</td>\n",
       "      <td>1</td>\n",
       "      <td>{'AcceptsInsurance': 'True', 'ByAppointmentOnl...</td>\n",
       "      <td>Health &amp; Medical, General Dentistry, Dentists,...</td>\n",
       "      <td>{'Monday': '7:30-16:30', 'Tuesday': '7:30-16:3...</td>\n",
       "    </tr>\n",
       "    <tr>\n",
       "      <th>209375</th>\n",
       "      <td>5fb9533d5884f05b67a40e84</td>\n",
       "      <td>TLEXFQf9UT4PV5QJrc3QPw</td>\n",
       "      <td>PC Pool Care</td>\n",
       "      <td>7735 E Evans Rd, Ste 203</td>\n",
       "      <td>Scottsdale</td>\n",
       "      <td>AZ</td>\n",
       "      <td>85260</td>\n",
       "      <td>33.616084</td>\n",
       "      <td>-111.914113</td>\n",
       "      <td>4.0</td>\n",
       "      <td>6</td>\n",
       "      <td>1</td>\n",
       "      <td>{'BusinessAcceptsCreditCards': 'True', 'ByAppo...</td>\n",
       "      <td>Home Services, Active Life, Swimming Pools, Po...</td>\n",
       "      <td>{'Monday': '0:0-0:0', 'Tuesday': '8:0-17:0', '...</td>\n",
       "    </tr>\n",
       "    <tr>\n",
       "      <th>209390</th>\n",
       "      <td>5fb9533d5884f05b67a40e93</td>\n",
       "      <td>SYa2j1boLF8DcGVOYfHPcA</td>\n",
       "      <td>Five Guys</td>\n",
       "      <td>7014-590 E Camelback Rd</td>\n",
       "      <td>Scottsdale</td>\n",
       "      <td>AZ</td>\n",
       "      <td>85251</td>\n",
       "      <td>33.504062</td>\n",
       "      <td>-111.929431</td>\n",
       "      <td>3.5</td>\n",
       "      <td>97</td>\n",
       "      <td>1</td>\n",
       "      <td>{'BusinessAcceptsCreditCards': 'True', 'Restau...</td>\n",
       "      <td>American (New), Food, Burgers, Restaurants, Fa...</td>\n",
       "      <td>{'Monday': '11:0-22:0', 'Tuesday': '11:0-22:0'...</td>\n",
       "    </tr>\n",
       "  </tbody>\n",
       "</table>\n",
       "<p>9342 rows × 15 columns</p>\n",
       "</div>"
      ],
      "text/plain": [
       "                             _id             business_id  \\\n",
       "13      5fb9532f5884f05b67a0dcb2  Yzvjg0SayhoZgCljUJRF9Q   \n",
       "53      5fb9532f5884f05b67a0dcda  gflx3mAzi4iG20NOUz19eA   \n",
       "72      5fb9532f5884f05b67a0dced  5ZgMwaMPLV4EB71KtLg7EQ   \n",
       "88      5fb9532f5884f05b67a0dcfd  dee5uffullqnbI7VM0K7FA   \n",
       "106     5fb9532f5884f05b67a0dd0f  2sbmuE1_cJrEP7JwO0l-zQ   \n",
       "...                          ...                     ...   \n",
       "209319  5fb9533d5884f05b67a40e4c  00liP5s4IKsq97EH4Cc0Tw   \n",
       "209323  5fb9533d5884f05b67a40e50  flQWX5Gz3R32-kaebf0fPA   \n",
       "209326  5fb9533d5884f05b67a40e53  btnFN2GT-uVk_CbxFBYIFA   \n",
       "209375  5fb9533d5884f05b67a40e84  TLEXFQf9UT4PV5QJrc3QPw   \n",
       "209390  5fb9533d5884f05b67a40e93  SYa2j1boLF8DcGVOYfHPcA   \n",
       "\n",
       "                                                     name  \\\n",
       "13                                      Carlos Santo, NMD   \n",
       "53                                 BeStitched Needlepoint   \n",
       "72      Maximum Performance Batting Cages & Training C...   \n",
       "88                                    Darroch Motorsports   \n",
       "106                                        Royal skincare   \n",
       "...                                                   ...   \n",
       "209319                                          Starbucks   \n",
       "209323                         Ziegler Fiesta Bowl Museum   \n",
       "209326                                    Raintree Dental   \n",
       "209375                                       PC Pool Care   \n",
       "209390                                          Five Guys   \n",
       "\n",
       "                              address        city state postal_code  \\\n",
       "13          8880 E Via Linda, Ste 107  Scottsdale    AZ       85258   \n",
       "53          6990 E Shea Blvd, Ste 124  Scottsdale    AZ       85254   \n",
       "72        7625 E Redfield Rd, Ste 400  Scottsdale    AZ       85260   \n",
       "88                501 N Scottsdale Rd  Scottsdale    AZ       85257   \n",
       "106     7127 E Sahuaro Dr S, Suit 105  Scottsdale    AZ       85254   \n",
       "...                               ...         ...   ...         ...   \n",
       "209319       9051 E. Indian Bend Road  Scottsdale    AZ       85250   \n",
       "209323   7135 E Camelback Rd, Ste 190  Scottsdale    AZ       85251   \n",
       "209326    9304 E Raintree Dr, Ste 130  Scottsdale    AZ       85260   \n",
       "209375       7735 E Evans Rd, Ste 203  Scottsdale    AZ       85260   \n",
       "209390        7014-590 E Camelback Rd  Scottsdale    AZ       85251   \n",
       "\n",
       "         latitude   longitude  stars  review_count  is_open  \\\n",
       "13      33.569404 -111.890264    5.0             4        1   \n",
       "53      33.582962 -111.930651    3.5            11        1   \n",
       "72      33.612633 -111.916143    5.0             3        1   \n",
       "88      33.453842 -111.926003    3.5             3        0   \n",
       "106     33.583540 -111.926826    5.0             4        1   \n",
       "...           ...         ...    ...           ...      ...   \n",
       "209319  33.538119 -111.886227    2.0            69        1   \n",
       "209323  33.500506 -111.928525    4.5             7        1   \n",
       "209326  33.619742 -111.881428    4.0            43        1   \n",
       "209375  33.616084 -111.914113    4.0             6        1   \n",
       "209390  33.504062 -111.929431    3.5            97        1   \n",
       "\n",
       "                                               attributes  \\\n",
       "13      {'GoodForKids': 'True', 'ByAppointmentOnly': '...   \n",
       "53      {'BusinessParking': '{'garage': False, 'street...   \n",
       "72      {'ByAppointmentOnly': 'False', 'BusinessAccept...   \n",
       "88                                                   None   \n",
       "106     {'WiFi': 'u'free'', 'BusinessAcceptsCreditCard...   \n",
       "...                                                   ...   \n",
       "209319  {'BikeParking': 'True', 'BusinessAcceptsCredit...   \n",
       "209323                            {'GoodForKids': 'True'}   \n",
       "209326  {'AcceptsInsurance': 'True', 'ByAppointmentOnl...   \n",
       "209375  {'BusinessAcceptsCreditCards': 'True', 'ByAppo...   \n",
       "209390  {'BusinessAcceptsCreditCards': 'True', 'Restau...   \n",
       "\n",
       "                                               categories  \\\n",
       "13      Health & Medical, Fitness & Instruction, Yoga,...   \n",
       "53                                Arts & Crafts, Shopping   \n",
       "72                             Batting Cages, Active Life   \n",
       "88                                Automotive, Car Dealers   \n",
       "106              Skin Care, Beauty & Spas, Acne Treatment   \n",
       "...                                                   ...   \n",
       "209319                                 Coffee & Tea, Food   \n",
       "209323                      Museums, Arts & Entertainment   \n",
       "209326  Health & Medical, General Dentistry, Dentists,...   \n",
       "209375  Home Services, Active Life, Swimming Pools, Po...   \n",
       "209390  American (New), Food, Burgers, Restaurants, Fa...   \n",
       "\n",
       "                                                    hours  \n",
       "13                                                   None  \n",
       "53      {'Wednesday': '10:0-15:0', 'Thursday': '10:0-1...  \n",
       "72      {'Monday': '15:0-21:0', 'Tuesday': '15:0-21:0'...  \n",
       "88      {'Monday': '9:0-18:0', 'Tuesday': '9:0-18:0', ...  \n",
       "106     {'Monday': '8:0-19:0', 'Tuesday': '8:0-19:0', ...  \n",
       "...                                                   ...  \n",
       "209319  {'Monday': '4:0-20:0', 'Tuesday': '4:0-20:0', ...  \n",
       "209323  {'Monday': '8:30-17:0', 'Tuesday': '8:30-17:0'...  \n",
       "209326  {'Monday': '7:30-16:30', 'Tuesday': '7:30-16:3...  \n",
       "209375  {'Monday': '0:0-0:0', 'Tuesday': '8:0-17:0', '...  \n",
       "209390  {'Monday': '11:0-22:0', 'Tuesday': '11:0-22:0'...  \n",
       "\n",
       "[9342 rows x 15 columns]"
      ]
     },
     "execution_count": 20,
     "metadata": {},
     "output_type": "execute_result"
    }
   ],
   "source": [
    "df_business[df_business['city']=='Scottsdale']"
   ]
  },
  {
   "cell_type": "code",
   "execution_count": 21,
   "metadata": {},
   "outputs": [
    {
     "data": {
      "text/plain": [
       "4.0    39199\n",
       "3.5    38079\n",
       "4.5    29940\n",
       "3.0    28634\n",
       "5.0    27080\n",
       "2.5    21435\n",
       "2.0    13124\n",
       "1.5     6004\n",
       "1.0     5898\n",
       "Name: stars, dtype: int64"
      ]
     },
     "execution_count": 21,
     "metadata": {},
     "output_type": "execute_result"
    }
   ],
   "source": [
    "df_business['stars'].value_counts()\n"
   ]
  },
  {
   "cell_type": "code",
   "execution_count": 22,
   "metadata": {},
   "outputs": [
    {
     "data": {
      "text/plain": [
       "<matplotlib.axes._subplots.AxesSubplot at 0x7ffb58c97a90>"
      ]
     },
     "execution_count": 22,
     "metadata": {},
     "output_type": "execute_result"
    },
    {
     "data": {
      "image/png": "[encoded data removed]",
      "text/plain": [
       "<Figure size 864x288 with 1 Axes>"
      ]
     },
     "metadata": {
      "needs_background": "light"
     },
     "output_type": "display_data"
    }
   ],
   "source": [
    "sns.distplot(df_business.stars, kde=False)\n"
   ]
  },
  {
   "cell_type": "markdown",
   "metadata": {},
   "source": [
    "## Open vs Closed"
   ]
  },
  {
   "cell_type": "code",
   "execution_count": 23,
   "metadata": {},
   "outputs": [
    {
     "data": {
      "text/plain": [
       "1    168903\n",
       "0     40490\n",
       "Name: is_open, dtype: int64"
      ]
     },
     "execution_count": 23,
     "metadata": {},
     "output_type": "execute_result"
    }
   ],
   "source": [
    "df_business['is_open'].value_counts()"
   ]
  },
  {
   "cell_type": "markdown",
   "metadata": {},
   "source": [
    "# Let's look into user tips on business before looking at reviews"
   ]
  },
  {
   "cell_type": "code",
   "execution_count": 24,
   "metadata": {},
   "outputs": [],
   "source": [
    "df_tip = pd.DataFrame(list(db.tip.find({})))"
   ]
  },
  {
   "cell_type": "code",
   "execution_count": 25,
   "metadata": {},
   "outputs": [
    {
     "data": {
      "text/html": [
       "<div>\n",
       "<style scoped>\n",
       "    .dataframe tbody tr th:only-of-type {\n",
       "        vertical-align: middle;\n",
       "    }\n",
       "\n",
       "    .dataframe tbody tr th {\n",
       "        vertical-align: top;\n",
       "    }\n",
       "\n",
       "    .dataframe thead th {\n",
       "        text-align: right;\n",
       "    }\n",
       "</style>\n",
       "<table border=\"1\" class=\"dataframe\">\n",
       "  <thead>\n",
       "    <tr style=\"text-align: right;\">\n",
       "      <th></th>\n",
       "      <th>_id</th>\n",
       "      <th>user_id</th>\n",
       "      <th>business_id</th>\n",
       "      <th>text</th>\n",
       "      <th>date</th>\n",
       "      <th>compliment_count</th>\n",
       "    </tr>\n",
       "  </thead>\n",
       "  <tbody>\n",
       "    <tr>\n",
       "      <th>0</th>\n",
       "      <td>5fb94e63c64442e3c11d1f2f</td>\n",
       "      <td>Ue_7yUlkEbX4AhnYdUfL7g</td>\n",
       "      <td>OHXnDV01gLokiX1ELaQufA</td>\n",
       "      <td>It's a small place. The staff is friendly.</td>\n",
       "      <td>2014-06-06 01:10:34</td>\n",
       "      <td>0</td>\n",
       "    </tr>\n",
       "    <tr>\n",
       "      <th>1</th>\n",
       "      <td>5fb94e63c64442e3c11d1f30</td>\n",
       "      <td>AY-laIws3S7YXNl_f_D6rQ</td>\n",
       "      <td>rDoT-MgxGRiYqCmi0bG10g</td>\n",
       "      <td>Very nice good service good food</td>\n",
       "      <td>2016-07-18 22:03:42</td>\n",
       "      <td>0</td>\n",
       "    </tr>\n",
       "    <tr>\n",
       "      <th>2</th>\n",
       "      <td>5fb94e63c64442e3c11d1f31</td>\n",
       "      <td>LltbT_fUMqZ-ZJP-vJ84IQ</td>\n",
       "      <td>GMrwDXRlAZU2zj5nH6l4vQ</td>\n",
       "      <td>8 sandwiches, $24 total...what a bargain!!! An...</td>\n",
       "      <td>2011-04-08 18:12:01</td>\n",
       "      <td>0</td>\n",
       "    </tr>\n",
       "    <tr>\n",
       "      <th>3</th>\n",
       "      <td>5fb94e63c64442e3c11d1f32</td>\n",
       "      <td>hf27xTME3EiCp6NL6VtWZQ</td>\n",
       "      <td>UYX5zL_Xj9WEc_Wp-FrqHw</td>\n",
       "      <td>Here for a quick mtg</td>\n",
       "      <td>2013-11-26 18:20:08</td>\n",
       "      <td>0</td>\n",
       "    </tr>\n",
       "    <tr>\n",
       "      <th>4</th>\n",
       "      <td>5fb94e63c64442e3c11d1f33</td>\n",
       "      <td>HHNBqfbDR8b1iq-QGxu8ww</td>\n",
       "      <td>ALwAlxItASeEs2vYAeLXHA</td>\n",
       "      <td>Great ramen! Not only is the presentation gorg...</td>\n",
       "      <td>2015-05-20 20:17:38</td>\n",
       "      <td>0</td>\n",
       "    </tr>\n",
       "    <tr>\n",
       "      <th>5</th>\n",
       "      <td>5fb94e63c64442e3c11d1f34</td>\n",
       "      <td>2hdR7KYAmnCk2FjTnPFsuw</td>\n",
       "      <td>rcaPajgKOJC2vo_l3xa42A</td>\n",
       "      <td>Kelly is an awesome waitress there!</td>\n",
       "      <td>2012-05-29 02:05:56</td>\n",
       "      <td>0</td>\n",
       "    </tr>\n",
       "    <tr>\n",
       "      <th>6</th>\n",
       "      <td>5fb94e63c64442e3c11d1f35</td>\n",
       "      <td>gxVQZJVeKBUk7jEhSyqv-A</td>\n",
       "      <td>5FIOXmUE3qMviX9GafGH-Q</td>\n",
       "      <td>Get a tsoynami for sure.</td>\n",
       "      <td>2010-01-30 02:03:16</td>\n",
       "      <td>0</td>\n",
       "    </tr>\n",
       "    <tr>\n",
       "      <th>7</th>\n",
       "      <td>5fb94e63c64442e3c11d1f36</td>\n",
       "      <td>r0j4IpUbcdC1-HfoMYae4w</td>\n",
       "      <td>d_L-rfS1vT3JMzgCUGtiow</td>\n",
       "      <td>Cochinita Pibil was memorable &amp; delicious !</td>\n",
       "      <td>2014-09-01 01:23:48</td>\n",
       "      <td>0</td>\n",
       "    </tr>\n",
       "    <tr>\n",
       "      <th>8</th>\n",
       "      <td>5fb94e63c64442e3c11d1f37</td>\n",
       "      <td>DsWg3leomfasGs3j0rOfbQ</td>\n",
       "      <td>hfBrethLHS9iXeBNR8MtzQ</td>\n",
       "      <td>Check out the great assortment of organic &amp; co...</td>\n",
       "      <td>2011-09-30 18:38:47</td>\n",
       "      <td>0</td>\n",
       "    </tr>\n",
       "    <tr>\n",
       "      <th>9</th>\n",
       "      <td>5fb94e63c64442e3c11d1f38</td>\n",
       "      <td>SF83eQjb7XUiXuZVzMtzjQ</td>\n",
       "      <td>ow3oP3cfmhlfmSsGaXe25Q</td>\n",
       "      <td>Lovely locale, good food, but felt pricy.</td>\n",
       "      <td>2013-08-16 15:14:22</td>\n",
       "      <td>0</td>\n",
       "    </tr>\n",
       "  </tbody>\n",
       "</table>\n",
       "</div>"
      ],
      "text/plain": [
       "                        _id                 user_id             business_id  \\\n",
       "0  5fb94e63c64442e3c11d1f2f  Ue_7yUlkEbX4AhnYdUfL7g  OHXnDV01gLokiX1ELaQufA   \n",
       "1  5fb94e63c64442e3c11d1f30  AY-laIws3S7YXNl_f_D6rQ  rDoT-MgxGRiYqCmi0bG10g   \n",
       "2  5fb94e63c64442e3c11d1f31  LltbT_fUMqZ-ZJP-vJ84IQ  GMrwDXRlAZU2zj5nH6l4vQ   \n",
       "3  5fb94e63c64442e3c11d1f32  hf27xTME3EiCp6NL6VtWZQ  UYX5zL_Xj9WEc_Wp-FrqHw   \n",
       "4  5fb94e63c64442e3c11d1f33  HHNBqfbDR8b1iq-QGxu8ww  ALwAlxItASeEs2vYAeLXHA   \n",
       "5  5fb94e63c64442e3c11d1f34  2hdR7KYAmnCk2FjTnPFsuw  rcaPajgKOJC2vo_l3xa42A   \n",
       "6  5fb94e63c64442e3c11d1f35  gxVQZJVeKBUk7jEhSyqv-A  5FIOXmUE3qMviX9GafGH-Q   \n",
       "7  5fb94e63c64442e3c11d1f36  r0j4IpUbcdC1-HfoMYae4w  d_L-rfS1vT3JMzgCUGtiow   \n",
       "8  5fb94e63c64442e3c11d1f37  DsWg3leomfasGs3j0rOfbQ  hfBrethLHS9iXeBNR8MtzQ   \n",
       "9  5fb94e63c64442e3c11d1f38  SF83eQjb7XUiXuZVzMtzjQ  ow3oP3cfmhlfmSsGaXe25Q   \n",
       "\n",
       "                                                text                 date  \\\n",
       "0         It's a small place. The staff is friendly.  2014-06-06 01:10:34   \n",
       "1                   Very nice good service good food  2016-07-18 22:03:42   \n",
       "2  8 sandwiches, $24 total...what a bargain!!! An...  2011-04-08 18:12:01   \n",
       "3                               Here for a quick mtg  2013-11-26 18:20:08   \n",
       "4  Great ramen! Not only is the presentation gorg...  2015-05-20 20:17:38   \n",
       "5                Kelly is an awesome waitress there!  2012-05-29 02:05:56   \n",
       "6                           Get a tsoynami for sure.  2010-01-30 02:03:16   \n",
       "7        Cochinita Pibil was memorable & delicious !  2014-09-01 01:23:48   \n",
       "8  Check out the great assortment of organic & co...  2011-09-30 18:38:47   \n",
       "9          Lovely locale, good food, but felt pricy.  2013-08-16 15:14:22   \n",
       "\n",
       "   compliment_count  \n",
       "0                 0  \n",
       "1                 0  \n",
       "2                 0  \n",
       "3                 0  \n",
       "4                 0  \n",
       "5                 0  \n",
       "6                 0  \n",
       "7                 0  \n",
       "8                 0  \n",
       "9                 0  "
      ]
     },
     "execution_count": 25,
     "metadata": {},
     "output_type": "execute_result"
    }
   ],
   "source": [
    "df_tip.head(10)"
   ]
  },
  {
   "cell_type": "code",
   "execution_count": 26,
   "metadata": {},
   "outputs": [
    {
     "data": {
      "text/plain": [
       "(1320761, 6)"
      ]
     },
     "execution_count": 26,
     "metadata": {},
     "output_type": "execute_result"
    }
   ],
   "source": [
    "df_tip.shape"
   ]
  },
  {
   "cell_type": "markdown",
   "metadata": {},
   "source": [
    "## How many of the selected words are used in the user tips?"
   ]
  },
  {
   "cell_type": "code",
   "execution_count": 27,
   "metadata": {},
   "outputs": [
    {
     "data": {
      "text/plain": [
       "['awesome',\n",
       " 'great',\n",
       " 'fantastic',\n",
       " 'amazing',\n",
       " 'love',\n",
       " 'horrible',\n",
       " 'bad',\n",
       " 'terrible',\n",
       " 'awful',\n",
       " 'wow',\n",
       " 'hate']"
      ]
     },
     "execution_count": 27,
     "metadata": {},
     "output_type": "execute_result"
    }
   ],
   "source": [
    "selected_words = ['awesome', 'great', 'fantastic', 'amazing', 'love', 'horrible', 'bad', 'terrible', \n",
    "                  'awful', 'wow', 'hate']\n",
    "selected_words"
   ]
  },
  {
   "cell_type": "code",
   "execution_count": 28,
   "metadata": {},
   "outputs": [
    {
     "data": {
      "text/plain": [
       "['awesome',\n",
       " 'great',\n",
       " 'fantastic',\n",
       " 'amazing',\n",
       " 'love',\n",
       " 'horrible',\n",
       " 'bad',\n",
       " 'terrible',\n",
       " 'awful',\n",
       " 'wow',\n",
       " 'hate']"
      ]
     },
     "execution_count": 28,
     "metadata": {},
     "output_type": "execute_result"
    }
   ],
   "source": [
    "from sklearn.feature_extraction.text import CountVectorizer\n",
    "vectorizer = CountVectorizer(vocabulary=selected_words, lowercase=False)\n",
    "#corpus = ['This is the first document.','This is the second second document.']\n",
    "#print corpus\n",
    "selected_word_count = vectorizer.fit_transform(df_tip['text'].values.astype('U'))\n",
    "vectorizer.get_feature_names()"
   ]
  },
  {
   "cell_type": "code",
   "execution_count": 29,
   "metadata": {},
   "outputs": [
    {
     "data": {
      "text/plain": [
       "(1320761, 11)"
      ]
     },
     "execution_count": 29,
     "metadata": {},
     "output_type": "execute_result"
    }
   ],
   "source": [
    "word_count_array = selected_word_count.toarray()\n",
    "word_count_array.shape"
   ]
  },
  {
   "cell_type": "code",
   "execution_count": 30,
   "metadata": {},
   "outputs": [
    {
     "data": {
      "text/plain": [
       "array([[0, 0, 0, ..., 0, 0, 0],\n",
       "       [0, 0, 0, ..., 0, 0, 0],\n",
       "       [1, 0, 0, ..., 0, 0, 0],\n",
       "       ...,\n",
       "       [0, 0, 0, ..., 0, 0, 0],\n",
       "       [0, 0, 0, ..., 0, 0, 0],\n",
       "       [0, 0, 0, ..., 0, 0, 0]])"
      ]
     },
     "execution_count": 30,
     "metadata": {},
     "output_type": "execute_result"
    }
   ],
   "source": [
    "word_count_array"
   ]
  },
  {
   "cell_type": "code",
   "execution_count": 31,
   "metadata": {},
   "outputs": [
    {
     "data": {
      "text/plain": [
       "array([26777, 98862,  6298, 34070, 34640,  4017, 12400,  3281,  1664,\n",
       "        1025,  1360])"
      ]
     },
     "execution_count": 31,
     "metadata": {},
     "output_type": "execute_result"
    }
   ],
   "source": [
    "word_count_array.sum(axis=0)\n"
   ]
  },
  {
   "cell_type": "code",
   "execution_count": 32,
   "metadata": {},
   "outputs": [],
   "source": [
    "temp = pd.DataFrame(index=vectorizer.get_feature_names(), \\\n",
    "                    data=word_count_array.sum(axis=0)).rename(columns={0: 'Count'})\n"
   ]
  },
  {
   "cell_type": "code",
   "execution_count": 33,
   "metadata": {},
   "outputs": [
    {
     "data": {
      "text/plain": [
       "<matplotlib.axes._subplots.AxesSubplot at 0x7ffb5a02b450>"
      ]
     },
     "execution_count": 33,
     "metadata": {},
     "output_type": "execute_result"
    },
    {
     "data": {
      "image/png": "[encoded data removed]",
      "text/plain": [
       "<Figure size 504x504 with 1 Axes>"
      ]
     },
     "metadata": {
      "needs_background": "light"
     },
     "output_type": "display_data"
    }
   ],
   "source": [
    "temp.plot(kind='bar', stacked=False, figsize=[7,7])\n"
   ]
  },
  {
   "cell_type": "markdown",
   "metadata": {},
   "source": [
    "## Let's look at one restaurant with high star rating and one with low star rating and see what the user tips look like"
   ]
  },
  {
   "cell_type": "code",
   "execution_count": 34,
   "metadata": {},
   "outputs": [
    {
     "data": {
      "text/html": [
       "<div>\n",
       "<style scoped>\n",
       "    .dataframe tbody tr th:only-of-type {\n",
       "        vertical-align: middle;\n",
       "    }\n",
       "\n",
       "    .dataframe tbody tr th {\n",
       "        vertical-align: top;\n",
       "    }\n",
       "\n",
       "    .dataframe thead th {\n",
       "        text-align: right;\n",
       "    }\n",
       "</style>\n",
       "<table border=\"1\" class=\"dataframe\">\n",
       "  <thead>\n",
       "    <tr style=\"text-align: right;\">\n",
       "      <th></th>\n",
       "      <th>_id</th>\n",
       "      <th>business_id</th>\n",
       "      <th>name</th>\n",
       "      <th>address</th>\n",
       "      <th>city</th>\n",
       "      <th>state</th>\n",
       "      <th>postal_code</th>\n",
       "      <th>latitude</th>\n",
       "      <th>longitude</th>\n",
       "      <th>stars</th>\n",
       "      <th>review_count</th>\n",
       "      <th>is_open</th>\n",
       "      <th>attributes</th>\n",
       "      <th>categories</th>\n",
       "      <th>hours</th>\n",
       "    </tr>\n",
       "  </thead>\n",
       "  <tbody>\n",
       "    <tr>\n",
       "      <th>17</th>\n",
       "      <td>5fb9532f5884f05b67a0dcb6</td>\n",
       "      <td>uZuh51lXu7tsrC8RAwkg1A</td>\n",
       "      <td>Manolo Blahnik</td>\n",
       "      <td>3131 Las Vegas Blvd</td>\n",
       "      <td>Las Vegas</td>\n",
       "      <td>NV</td>\n",
       "      <td>89109</td>\n",
       "      <td>36.125732</td>\n",
       "      <td>-115.167608</td>\n",
       "      <td>4.5</td>\n",
       "      <td>32</td>\n",
       "      <td>0</td>\n",
       "      <td>{'BusinessParking': '{'garage': True, 'street'...</td>\n",
       "      <td>Shopping, Shoe Stores, Fashion</td>\n",
       "      <td>None</td>\n",
       "    </tr>\n",
       "    <tr>\n",
       "      <th>84</th>\n",
       "      <td>5fb9532f5884f05b67a0dcf9</td>\n",
       "      <td>OWkS1FXNJbozn-qPg3LWxg</td>\n",
       "      <td>Mama Napoli Pizza</td>\n",
       "      <td></td>\n",
       "      <td>Las Vegas</td>\n",
       "      <td>NV</td>\n",
       "      <td>89109</td>\n",
       "      <td>36.128561</td>\n",
       "      <td>-115.171130</td>\n",
       "      <td>4.5</td>\n",
       "      <td>11</td>\n",
       "      <td>1</td>\n",
       "      <td>{'RestaurantsDelivery': 'False', 'BusinessAcce...</td>\n",
       "      <td>Food, Food Trucks, Restaurants, Pizza</td>\n",
       "      <td>{'Friday': '18:0-0:0'}</td>\n",
       "    </tr>\n",
       "    <tr>\n",
       "      <th>210</th>\n",
       "      <td>5fb9532f5884f05b67a0dd77</td>\n",
       "      <td>4jIwNa8twpfqvsHuWBphZw</td>\n",
       "      <td>103 Hot Pilates &amp; Yoga</td>\n",
       "      <td>4245 S Grand Canyon, Ste 118</td>\n",
       "      <td>Las Vegas</td>\n",
       "      <td>NV</td>\n",
       "      <td>89147</td>\n",
       "      <td>36.112381</td>\n",
       "      <td>-115.306631</td>\n",
       "      <td>4.5</td>\n",
       "      <td>81</td>\n",
       "      <td>1</td>\n",
       "      <td>{'BusinessAcceptsCreditCards': 'True', 'BikePa...</td>\n",
       "      <td>Yoga, Pilates, Active Life, Fitness &amp; Instruct...</td>\n",
       "      <td>{'Monday': '6:0-20:0', 'Tuesday': '6:0-20:0', ...</td>\n",
       "    </tr>\n",
       "    <tr>\n",
       "      <th>244</th>\n",
       "      <td>5fb9532f5884f05b67a0dd99</td>\n",
       "      <td>AtD6B83S4Mbmq0t7iDnUVA</td>\n",
       "      <td>Veggie House</td>\n",
       "      <td>5115 Spring Mountain Rd, Ste 203</td>\n",
       "      <td>Las Vegas</td>\n",
       "      <td>NV</td>\n",
       "      <td>89146</td>\n",
       "      <td>36.125569</td>\n",
       "      <td>-115.210911</td>\n",
       "      <td>4.5</td>\n",
       "      <td>1142</td>\n",
       "      <td>1</td>\n",
       "      <td>{'RestaurantsPriceRange2': '2', 'BikeParking':...</td>\n",
       "      <td>Restaurants, Specialty Food, Japanese, Sushi B...</td>\n",
       "      <td>{'Monday': '11:30-21:30', 'Tuesday': '11:30-21...</td>\n",
       "    </tr>\n",
       "    <tr>\n",
       "      <th>276</th>\n",
       "      <td>5fb9532f5884f05b67a0ddb9</td>\n",
       "      <td>V6A5FZ9OfZ7r1Tc7x4CYXg</td>\n",
       "      <td>Verizon Authorized Retailer - GoWireless</td>\n",
       "      <td>9360 W Flamingo Rd, Ste 105</td>\n",
       "      <td>Las Vegas</td>\n",
       "      <td>NV</td>\n",
       "      <td>89147</td>\n",
       "      <td>36.116179</td>\n",
       "      <td>-115.295056</td>\n",
       "      <td>4.5</td>\n",
       "      <td>20</td>\n",
       "      <td>1</td>\n",
       "      <td>{'BusinessAcceptsCreditCards': 'True', 'Busine...</td>\n",
       "      <td>Mobile Phone Accessories, Wholesale Stores, Sh...</td>\n",
       "      <td>{'Monday': '0:0-0:0', 'Tuesday': '11:0-18:0', ...</td>\n",
       "    </tr>\n",
       "    <tr>\n",
       "      <th>...</th>\n",
       "      <td>...</td>\n",
       "      <td>...</td>\n",
       "      <td>...</td>\n",
       "      <td>...</td>\n",
       "      <td>...</td>\n",
       "      <td>...</td>\n",
       "      <td>...</td>\n",
       "      <td>...</td>\n",
       "      <td>...</td>\n",
       "      <td>...</td>\n",
       "      <td>...</td>\n",
       "      <td>...</td>\n",
       "      <td>...</td>\n",
       "      <td>...</td>\n",
       "      <td>...</td>\n",
       "    </tr>\n",
       "    <tr>\n",
       "      <th>209170</th>\n",
       "      <td>5fb9533d5884f05b67a40db7</td>\n",
       "      <td>PIXl4WvAqjl2w9Lj81zXvQ</td>\n",
       "      <td>Zest - Bistro &amp; Bar</td>\n",
       "      <td>10670 Southern Highlands Pkwy, Ste 102</td>\n",
       "      <td>Las Vegas</td>\n",
       "      <td>NV</td>\n",
       "      <td>89141</td>\n",
       "      <td>35.995151</td>\n",
       "      <td>-115.206840</td>\n",
       "      <td>4.5</td>\n",
       "      <td>744</td>\n",
       "      <td>1</td>\n",
       "      <td>{'RestaurantsPriceRange2': '2', 'RestaurantsGo...</td>\n",
       "      <td>American (New), Karaoke, Restaurants, Lounges,...</td>\n",
       "      <td>{'Monday': '16:0-22:0', 'Tuesday': '16:0-22:0'...</td>\n",
       "    </tr>\n",
       "    <tr>\n",
       "      <th>209194</th>\n",
       "      <td>5fb9533d5884f05b67a40dcf</td>\n",
       "      <td>9y01C_R58zY0NjRb4IxNgA</td>\n",
       "      <td>Centennial Hills Orthodontics</td>\n",
       "      <td>7445 W Azure Dr, Ste 120</td>\n",
       "      <td>Las Vegas</td>\n",
       "      <td>NV</td>\n",
       "      <td>89130</td>\n",
       "      <td>36.273987</td>\n",
       "      <td>-115.257596</td>\n",
       "      <td>4.5</td>\n",
       "      <td>7</td>\n",
       "      <td>1</td>\n",
       "      <td>{'ByAppointmentOnly': 'True', 'AcceptsInsuranc...</td>\n",
       "      <td>Dentists, Orthodontists, Health &amp; Medical</td>\n",
       "      <td>{'Monday': '9:0-17:30', 'Tuesday': '9:0-17:30'...</td>\n",
       "    </tr>\n",
       "    <tr>\n",
       "      <th>209259</th>\n",
       "      <td>5fb9533d5884f05b67a40e10</td>\n",
       "      <td>0JWGJCjbWEx3cSSfFRW7Ug</td>\n",
       "      <td>Lora Boudreaux</td>\n",
       "      <td>7331 W Lake Mead Blvd, Ste 103, Canyon Falls Spa</td>\n",
       "      <td>Las Vegas</td>\n",
       "      <td>NV</td>\n",
       "      <td>89128</td>\n",
       "      <td>36.194769</td>\n",
       "      <td>-115.252503</td>\n",
       "      <td>4.5</td>\n",
       "      <td>7</td>\n",
       "      <td>1</td>\n",
       "      <td>{'BusinessParking': '{'garage': False, 'street...</td>\n",
       "      <td>Hair Salons, Massage, Day Spas, Skin Care, Bea...</td>\n",
       "      <td>{'Monday': '9:0-19:0', 'Tuesday': '9:0-19:0', ...</td>\n",
       "    </tr>\n",
       "    <tr>\n",
       "      <th>209309</th>\n",
       "      <td>5fb9533d5884f05b67a40e42</td>\n",
       "      <td>8yidA5O39XM4I1yvlTp2Fw</td>\n",
       "      <td>Patty's Closet</td>\n",
       "      <td>7920 S Rainbow Blvd, Ste 115</td>\n",
       "      <td>Las Vegas</td>\n",
       "      <td>NV</td>\n",
       "      <td>89139</td>\n",
       "      <td>36.044718</td>\n",
       "      <td>-115.242705</td>\n",
       "      <td>4.5</td>\n",
       "      <td>52</td>\n",
       "      <td>0</td>\n",
       "      <td>{'BusinessAcceptsCreditCards': 'True', 'BikePa...</td>\n",
       "      <td>Women's Clothing, Shopping, Fashion, Shoe Stores</td>\n",
       "      <td>None</td>\n",
       "    </tr>\n",
       "    <tr>\n",
       "      <th>209382</th>\n",
       "      <td>5fb9533d5884f05b67a40e8b</td>\n",
       "      <td>fNil19SUfPAPnLQrYnFrGQ</td>\n",
       "      <td>Cheyenne West Animal Hospital</td>\n",
       "      <td>3650 N Buffalo Dr</td>\n",
       "      <td>Las Vegas</td>\n",
       "      <td>NV</td>\n",
       "      <td>89129</td>\n",
       "      <td>36.226339</td>\n",
       "      <td>-115.259958</td>\n",
       "      <td>4.5</td>\n",
       "      <td>124</td>\n",
       "      <td>1</td>\n",
       "      <td>{'ByAppointmentOnly': 'True'}</td>\n",
       "      <td>Pets, Pet Sitting, Veterinarians, Pet Services</td>\n",
       "      <td>{'Monday': '8:0-18:0', 'Tuesday': '8:0-18:0', ...</td>\n",
       "    </tr>\n",
       "  </tbody>\n",
       "</table>\n",
       "<p>5245 rows × 15 columns</p>\n",
       "</div>"
      ],
      "text/plain": [
       "                             _id             business_id  \\\n",
       "17      5fb9532f5884f05b67a0dcb6  uZuh51lXu7tsrC8RAwkg1A   \n",
       "84      5fb9532f5884f05b67a0dcf9  OWkS1FXNJbozn-qPg3LWxg   \n",
       "210     5fb9532f5884f05b67a0dd77  4jIwNa8twpfqvsHuWBphZw   \n",
       "244     5fb9532f5884f05b67a0dd99  AtD6B83S4Mbmq0t7iDnUVA   \n",
       "276     5fb9532f5884f05b67a0ddb9  V6A5FZ9OfZ7r1Tc7x4CYXg   \n",
       "...                          ...                     ...   \n",
       "209170  5fb9533d5884f05b67a40db7  PIXl4WvAqjl2w9Lj81zXvQ   \n",
       "209194  5fb9533d5884f05b67a40dcf  9y01C_R58zY0NjRb4IxNgA   \n",
       "209259  5fb9533d5884f05b67a40e10  0JWGJCjbWEx3cSSfFRW7Ug   \n",
       "209309  5fb9533d5884f05b67a40e42  8yidA5O39XM4I1yvlTp2Fw   \n",
       "209382  5fb9533d5884f05b67a40e8b  fNil19SUfPAPnLQrYnFrGQ   \n",
       "\n",
       "                                            name  \\\n",
       "17                                Manolo Blahnik   \n",
       "84                             Mama Napoli Pizza   \n",
       "210                       103 Hot Pilates & Yoga   \n",
       "244                                 Veggie House   \n",
       "276     Verizon Authorized Retailer - GoWireless   \n",
       "...                                          ...   \n",
       "209170                       Zest - Bistro & Bar   \n",
       "209194             Centennial Hills Orthodontics   \n",
       "209259                            Lora Boudreaux   \n",
       "209309                            Patty's Closet   \n",
       "209382             Cheyenne West Animal Hospital   \n",
       "\n",
       "                                                 address       city state  \\\n",
       "17                                   3131 Las Vegas Blvd  Las Vegas    NV   \n",
       "84                                                        Las Vegas    NV   \n",
       "210                         4245 S Grand Canyon, Ste 118  Las Vegas    NV   \n",
       "244                     5115 Spring Mountain Rd, Ste 203  Las Vegas    NV   \n",
       "276                          9360 W Flamingo Rd, Ste 105  Las Vegas    NV   \n",
       "...                                                  ...        ...   ...   \n",
       "209170            10670 Southern Highlands Pkwy, Ste 102  Las Vegas    NV   \n",
       "209194                          7445 W Azure Dr, Ste 120  Las Vegas    NV   \n",
       "209259  7331 W Lake Mead Blvd, Ste 103, Canyon Falls Spa  Las Vegas    NV   \n",
       "209309                      7920 S Rainbow Blvd, Ste 115  Las Vegas    NV   \n",
       "209382                                 3650 N Buffalo Dr  Las Vegas    NV   \n",
       "\n",
       "       postal_code   latitude   longitude  stars  review_count  is_open  \\\n",
       "17           89109  36.125732 -115.167608    4.5            32        0   \n",
       "84           89109  36.128561 -115.171130    4.5            11        1   \n",
       "210          89147  36.112381 -115.306631    4.5            81        1   \n",
       "244          89146  36.125569 -115.210911    4.5          1142        1   \n",
       "276          89147  36.116179 -115.295056    4.5            20        1   \n",
       "...            ...        ...         ...    ...           ...      ...   \n",
       "209170       89141  35.995151 -115.206840    4.5           744        1   \n",
       "209194       89130  36.273987 -115.257596    4.5             7        1   \n",
       "209259       89128  36.194769 -115.252503    4.5             7        1   \n",
       "209309       89139  36.044718 -115.242705    4.5            52        0   \n",
       "209382       89129  36.226339 -115.259958    4.5           124        1   \n",
       "\n",
       "                                               attributes  \\\n",
       "17      {'BusinessParking': '{'garage': True, 'street'...   \n",
       "84      {'RestaurantsDelivery': 'False', 'BusinessAcce...   \n",
       "210     {'BusinessAcceptsCreditCards': 'True', 'BikePa...   \n",
       "244     {'RestaurantsPriceRange2': '2', 'BikeParking':...   \n",
       "276     {'BusinessAcceptsCreditCards': 'True', 'Busine...   \n",
       "...                                                   ...   \n",
       "209170  {'RestaurantsPriceRange2': '2', 'RestaurantsGo...   \n",
       "209194  {'ByAppointmentOnly': 'True', 'AcceptsInsuranc...   \n",
       "209259  {'BusinessParking': '{'garage': False, 'street...   \n",
       "209309  {'BusinessAcceptsCreditCards': 'True', 'BikePa...   \n",
       "209382                      {'ByAppointmentOnly': 'True'}   \n",
       "\n",
       "                                               categories  \\\n",
       "17                         Shopping, Shoe Stores, Fashion   \n",
       "84                  Food, Food Trucks, Restaurants, Pizza   \n",
       "210     Yoga, Pilates, Active Life, Fitness & Instruct...   \n",
       "244     Restaurants, Specialty Food, Japanese, Sushi B...   \n",
       "276     Mobile Phone Accessories, Wholesale Stores, Sh...   \n",
       "...                                                   ...   \n",
       "209170  American (New), Karaoke, Restaurants, Lounges,...   \n",
       "209194          Dentists, Orthodontists, Health & Medical   \n",
       "209259  Hair Salons, Massage, Day Spas, Skin Care, Bea...   \n",
       "209309   Women's Clothing, Shopping, Fashion, Shoe Stores   \n",
       "209382     Pets, Pet Sitting, Veterinarians, Pet Services   \n",
       "\n",
       "                                                    hours  \n",
       "17                                                   None  \n",
       "84                                 {'Friday': '18:0-0:0'}  \n",
       "210     {'Monday': '6:0-20:0', 'Tuesday': '6:0-20:0', ...  \n",
       "244     {'Monday': '11:30-21:30', 'Tuesday': '11:30-21...  \n",
       "276     {'Monday': '0:0-0:0', 'Tuesday': '11:0-18:0', ...  \n",
       "...                                                   ...  \n",
       "209170  {'Monday': '16:0-22:0', 'Tuesday': '16:0-22:0'...  \n",
       "209194  {'Monday': '9:0-17:30', 'Tuesday': '9:0-17:30'...  \n",
       "209259  {'Monday': '9:0-19:0', 'Tuesday': '9:0-19:0', ...  \n",
       "209309                                               None  \n",
       "209382  {'Monday': '8:0-18:0', 'Tuesday': '8:0-18:0', ...  \n",
       "\n",
       "[5245 rows x 15 columns]"
      ]
     },
     "execution_count": 34,
     "metadata": {},
     "output_type": "execute_result"
    }
   ],
   "source": [
    "df_business[(df_business['city'] == 'Las Vegas') & (df_business['stars'] == 4.5)]"
   ]
  },
  {
   "cell_type": "code",
   "execution_count": 35,
   "metadata": {},
   "outputs": [
    {
     "data": {
      "text/html": [
       "<div>\n",
       "<style scoped>\n",
       "    .dataframe tbody tr th:only-of-type {\n",
       "        vertical-align: middle;\n",
       "    }\n",
       "\n",
       "    .dataframe tbody tr th {\n",
       "        vertical-align: top;\n",
       "    }\n",
       "\n",
       "    .dataframe thead th {\n",
       "        text-align: right;\n",
       "    }\n",
       "</style>\n",
       "<table border=\"1\" class=\"dataframe\">\n",
       "  <thead>\n",
       "    <tr style=\"text-align: right;\">\n",
       "      <th></th>\n",
       "      <th>_id</th>\n",
       "      <th>business_id</th>\n",
       "      <th>name</th>\n",
       "      <th>address</th>\n",
       "      <th>city</th>\n",
       "      <th>state</th>\n",
       "      <th>postal_code</th>\n",
       "      <th>latitude</th>\n",
       "      <th>longitude</th>\n",
       "      <th>stars</th>\n",
       "      <th>review_count</th>\n",
       "      <th>is_open</th>\n",
       "      <th>attributes</th>\n",
       "      <th>categories</th>\n",
       "      <th>hours</th>\n",
       "    </tr>\n",
       "  </thead>\n",
       "  <tbody>\n",
       "    <tr>\n",
       "      <th>244</th>\n",
       "      <td>5fb9532f5884f05b67a0dd99</td>\n",
       "      <td>AtD6B83S4Mbmq0t7iDnUVA</td>\n",
       "      <td>Veggie House</td>\n",
       "      <td>5115 Spring Mountain Rd, Ste 203</td>\n",
       "      <td>Las Vegas</td>\n",
       "      <td>NV</td>\n",
       "      <td>89146</td>\n",
       "      <td>36.125569</td>\n",
       "      <td>-115.210911</td>\n",
       "      <td>4.5</td>\n",
       "      <td>1142</td>\n",
       "      <td>1</td>\n",
       "      <td>{'RestaurantsPriceRange2': '2', 'BikeParking':...</td>\n",
       "      <td>Restaurants, Specialty Food, Japanese, Sushi B...</td>\n",
       "      <td>{'Monday': '11:30-21:30', 'Tuesday': '11:30-21...</td>\n",
       "    </tr>\n",
       "    <tr>\n",
       "      <th>196380</th>\n",
       "      <td>5fb9533c5884f05b67a3dbc1</td>\n",
       "      <td>azZB7_4acdXpzTU3GAFZTQ</td>\n",
       "      <td>Veggie House</td>\n",
       "      <td>303 Centre St SW</td>\n",
       "      <td>Calgary</td>\n",
       "      <td>AB</td>\n",
       "      <td>T2G 2B9</td>\n",
       "      <td>51.050222</td>\n",
       "      <td>-114.062726</td>\n",
       "      <td>3.5</td>\n",
       "      <td>3</td>\n",
       "      <td>0</td>\n",
       "      <td>None</td>\n",
       "      <td>Restaurants, Vegan</td>\n",
       "      <td>None</td>\n",
       "    </tr>\n",
       "  </tbody>\n",
       "</table>\n",
       "</div>"
      ],
      "text/plain": [
       "                             _id             business_id          name  \\\n",
       "244     5fb9532f5884f05b67a0dd99  AtD6B83S4Mbmq0t7iDnUVA  Veggie House   \n",
       "196380  5fb9533c5884f05b67a3dbc1  azZB7_4acdXpzTU3GAFZTQ  Veggie House   \n",
       "\n",
       "                                 address       city state postal_code  \\\n",
       "244     5115 Spring Mountain Rd, Ste 203  Las Vegas    NV       89146   \n",
       "196380                  303 Centre St SW    Calgary    AB     T2G 2B9   \n",
       "\n",
       "         latitude   longitude  stars  review_count  is_open  \\\n",
       "244     36.125569 -115.210911    4.5          1142        1   \n",
       "196380  51.050222 -114.062726    3.5             3        0   \n",
       "\n",
       "                                               attributes  \\\n",
       "244     {'RestaurantsPriceRange2': '2', 'BikeParking':...   \n",
       "196380                                               None   \n",
       "\n",
       "                                               categories  \\\n",
       "244     Restaurants, Specialty Food, Japanese, Sushi B...   \n",
       "196380                                 Restaurants, Vegan   \n",
       "\n",
       "                                                    hours  \n",
       "244     {'Monday': '11:30-21:30', 'Tuesday': '11:30-21...  \n",
       "196380                                               None  "
      ]
     },
     "execution_count": 35,
     "metadata": {},
     "output_type": "execute_result"
    }
   ],
   "source": [
    "df_business[df_business.name==\"Veggie House\"]\n"
   ]
  },
  {
   "cell_type": "code",
   "execution_count": 36,
   "metadata": {},
   "outputs": [],
   "source": [
    "veggie_house = df_tip[df_tip.business_id=='AtD6B83S4Mbmq0t7iDnUVA']"
   ]
  },
  {
   "cell_type": "code",
   "execution_count": 37,
   "metadata": {},
   "outputs": [
    {
     "data": {
      "text/html": [
       "<div>\n",
       "<style scoped>\n",
       "    .dataframe tbody tr th:only-of-type {\n",
       "        vertical-align: middle;\n",
       "    }\n",
       "\n",
       "    .dataframe tbody tr th {\n",
       "        vertical-align: top;\n",
       "    }\n",
       "\n",
       "    .dataframe thead th {\n",
       "        text-align: right;\n",
       "    }\n",
       "</style>\n",
       "<table border=\"1\" class=\"dataframe\">\n",
       "  <thead>\n",
       "    <tr style=\"text-align: right;\">\n",
       "      <th></th>\n",
       "      <th>_id</th>\n",
       "      <th>user_id</th>\n",
       "      <th>business_id</th>\n",
       "      <th>text</th>\n",
       "      <th>date</th>\n",
       "      <th>compliment_count</th>\n",
       "    </tr>\n",
       "  </thead>\n",
       "  <tbody>\n",
       "    <tr>\n",
       "      <th>3070</th>\n",
       "      <td>5fb94e63c64442e3c11d2b2d</td>\n",
       "      <td>8fsZcLADFrPTbGrFqMACpg</td>\n",
       "      <td>AtD6B83S4Mbmq0t7iDnUVA</td>\n",
       "      <td>Don't go here.  Service sucks. They just don't...</td>\n",
       "      <td>2012-10-20 22:24:47</td>\n",
       "      <td>0</td>\n",
       "    </tr>\n",
       "    <tr>\n",
       "      <th>10503</th>\n",
       "      <td>5fb94e64c64442e3c11d4836</td>\n",
       "      <td>xLoEhU6zvFzcc0erH7gfyg</td>\n",
       "      <td>AtD6B83S4Mbmq0t7iDnUVA</td>\n",
       "      <td>Chef Kenny comes around and talks to his guest...</td>\n",
       "      <td>2014-04-06 20:09:22</td>\n",
       "      <td>0</td>\n",
       "    </tr>\n",
       "    <tr>\n",
       "      <th>13563</th>\n",
       "      <td>5fb94e64c64442e3c11d542a</td>\n",
       "      <td>MfFGe1yzLKlfiH0s_Lkpfw</td>\n",
       "      <td>AtD6B83S4Mbmq0t7iDnUVA</td>\n",
       "      <td>Hot Sweet &amp; Sour Soup was yummy!!</td>\n",
       "      <td>2016-01-04 20:39:16</td>\n",
       "      <td>0</td>\n",
       "    </tr>\n",
       "    <tr>\n",
       "      <th>18267</th>\n",
       "      <td>5fb94e64c64442e3c11d668a</td>\n",
       "      <td>XR8aay5RuQSBdGppG1dFmA</td>\n",
       "      <td>AtD6B83S4Mbmq0t7iDnUVA</td>\n",
       "      <td>Try Kenny's fried oyster mushrooms! Yum!</td>\n",
       "      <td>2012-10-22 20:34:43</td>\n",
       "      <td>0</td>\n",
       "    </tr>\n",
       "    <tr>\n",
       "      <th>20511</th>\n",
       "      <td>5fb94e64c64442e3c11d6f4e</td>\n",
       "      <td>blJ-tBqBCqg9WU2MM8fPew</td>\n",
       "      <td>AtD6B83S4Mbmq0t7iDnUVA</td>\n",
       "      <td>Great food, one of the best vegan restaurants ...</td>\n",
       "      <td>2017-04-02 01:50:03</td>\n",
       "      <td>0</td>\n",
       "    </tr>\n",
       "    <tr>\n",
       "      <th>23734</th>\n",
       "      <td>5fb94e64c64442e3c11d7be5</td>\n",
       "      <td>KQm9OgdujLZiMRTksmj83w</td>\n",
       "      <td>AtD6B83S4Mbmq0t7iDnUVA</td>\n",
       "      <td>Spicy Cajun Fish and Roti with Curry is a must...</td>\n",
       "      <td>2017-11-04 21:21:15</td>\n",
       "      <td>0</td>\n",
       "    </tr>\n",
       "    <tr>\n",
       "      <th>42670</th>\n",
       "      <td>5fb94e64c64442e3c11dc5dd</td>\n",
       "      <td>Z24wWXLyJ9K1ftiHZrP8Sw</td>\n",
       "      <td>AtD6B83S4Mbmq0t7iDnUVA</td>\n",
       "      <td>Great food!  All vegetarian.  Will return</td>\n",
       "      <td>2014-05-11 19:25:58</td>\n",
       "      <td>0</td>\n",
       "    </tr>\n",
       "    <tr>\n",
       "      <th>47683</th>\n",
       "      <td>5fb94e65c64442e3c11dd972</td>\n",
       "      <td>7mLmD8lUsIrL-MP0lU445g</td>\n",
       "      <td>AtD6B83S4Mbmq0t7iDnUVA</td>\n",
       "      <td>Most delicious Chinese food in Vegas! Can't wa...</td>\n",
       "      <td>2012-10-07 05:01:13</td>\n",
       "      <td>0</td>\n",
       "    </tr>\n",
       "    <tr>\n",
       "      <th>50194</th>\n",
       "      <td>5fb94e65c64442e3c11de341</td>\n",
       "      <td>2iIZE5hj78sSdbwGFrZ1jA</td>\n",
       "      <td>AtD6B83S4Mbmq0t7iDnUVA</td>\n",
       "      <td>Excellent!!!</td>\n",
       "      <td>2013-03-02 04:24:34</td>\n",
       "      <td>0</td>\n",
       "    </tr>\n",
       "    <tr>\n",
       "      <th>59442</th>\n",
       "      <td>5fb94e65c64442e3c11e0761</td>\n",
       "      <td>Ws4PEHZHZQ13_sovIIDUsQ</td>\n",
       "      <td>AtD6B83S4Mbmq0t7iDnUVA</td>\n",
       "      <td>Access: If you have bad knees and can't do the...</td>\n",
       "      <td>2014-04-16 02:29:07</td>\n",
       "      <td>0</td>\n",
       "    </tr>\n",
       "  </tbody>\n",
       "</table>\n",
       "</div>"
      ],
      "text/plain": [
       "                            _id                 user_id  \\\n",
       "3070   5fb94e63c64442e3c11d2b2d  8fsZcLADFrPTbGrFqMACpg   \n",
       "10503  5fb94e64c64442e3c11d4836  xLoEhU6zvFzcc0erH7gfyg   \n",
       "13563  5fb94e64c64442e3c11d542a  MfFGe1yzLKlfiH0s_Lkpfw   \n",
       "18267  5fb94e64c64442e3c11d668a  XR8aay5RuQSBdGppG1dFmA   \n",
       "20511  5fb94e64c64442e3c11d6f4e  blJ-tBqBCqg9WU2MM8fPew   \n",
       "23734  5fb94e64c64442e3c11d7be5  KQm9OgdujLZiMRTksmj83w   \n",
       "42670  5fb94e64c64442e3c11dc5dd  Z24wWXLyJ9K1ftiHZrP8Sw   \n",
       "47683  5fb94e65c64442e3c11dd972  7mLmD8lUsIrL-MP0lU445g   \n",
       "50194  5fb94e65c64442e3c11de341  2iIZE5hj78sSdbwGFrZ1jA   \n",
       "59442  5fb94e65c64442e3c11e0761  Ws4PEHZHZQ13_sovIIDUsQ   \n",
       "\n",
       "                  business_id  \\\n",
       "3070   AtD6B83S4Mbmq0t7iDnUVA   \n",
       "10503  AtD6B83S4Mbmq0t7iDnUVA   \n",
       "13563  AtD6B83S4Mbmq0t7iDnUVA   \n",
       "18267  AtD6B83S4Mbmq0t7iDnUVA   \n",
       "20511  AtD6B83S4Mbmq0t7iDnUVA   \n",
       "23734  AtD6B83S4Mbmq0t7iDnUVA   \n",
       "42670  AtD6B83S4Mbmq0t7iDnUVA   \n",
       "47683  AtD6B83S4Mbmq0t7iDnUVA   \n",
       "50194  AtD6B83S4Mbmq0t7iDnUVA   \n",
       "59442  AtD6B83S4Mbmq0t7iDnUVA   \n",
       "\n",
       "                                                    text                 date  \\\n",
       "3070   Don't go here.  Service sucks. They just don't...  2012-10-20 22:24:47   \n",
       "10503  Chef Kenny comes around and talks to his guest...  2014-04-06 20:09:22   \n",
       "13563                  Hot Sweet & Sour Soup was yummy!!  2016-01-04 20:39:16   \n",
       "18267           Try Kenny's fried oyster mushrooms! Yum!  2012-10-22 20:34:43   \n",
       "20511  Great food, one of the best vegan restaurants ...  2017-04-02 01:50:03   \n",
       "23734  Spicy Cajun Fish and Roti with Curry is a must...  2017-11-04 21:21:15   \n",
       "42670          Great food!  All vegetarian.  Will return  2014-05-11 19:25:58   \n",
       "47683  Most delicious Chinese food in Vegas! Can't wa...  2012-10-07 05:01:13   \n",
       "50194                                       Excellent!!!  2013-03-02 04:24:34   \n",
       "59442  Access: If you have bad knees and can't do the...  2014-04-16 02:29:07   \n",
       "\n",
       "       compliment_count  \n",
       "3070                  0  \n",
       "10503                 0  \n",
       "13563                 0  \n",
       "18267                 0  \n",
       "20511                 0  \n",
       "23734                 0  \n",
       "42670                 0  \n",
       "47683                 0  \n",
       "50194                 0  \n",
       "59442                 0  "
      ]
     },
     "execution_count": 37,
     "metadata": {},
     "output_type": "execute_result"
    }
   ],
   "source": [
    "veggie_house.head(10)"
   ]
  },
  {
   "cell_type": "code",
   "execution_count": 38,
   "metadata": {},
   "outputs": [
    {
     "data": {
      "text/plain": [
       "(242, 6)"
      ]
     },
     "execution_count": 38,
     "metadata": {},
     "output_type": "execute_result"
    }
   ],
   "source": [
    "veggie_house.shape"
   ]
  },
  {
   "cell_type": "code",
   "execution_count": 39,
   "metadata": {},
   "outputs": [],
   "source": [
    "veggie_house_selected_word_count = vectorizer.fit_transform(veggie_house['text'].values.astype('U'))\n",
    "\n"
   ]
  },
  {
   "cell_type": "code",
   "execution_count": 40,
   "metadata": {},
   "outputs": [],
   "source": [
    "word_count_array = veggie_house_selected_word_count.toarray()\n",
    "temp = pd.DataFrame(index=vectorizer.get_feature_names(), data=word_count_array.sum(axis=0)).rename(columns={0: 'Count'})\n"
   ]
  },
  {
   "cell_type": "code",
   "execution_count": 41,
   "metadata": {},
   "outputs": [
    {
     "data": {
      "text/html": [
       "<div>\n",
       "<style scoped>\n",
       "    .dataframe tbody tr th:only-of-type {\n",
       "        vertical-align: middle;\n",
       "    }\n",
       "\n",
       "    .dataframe tbody tr th {\n",
       "        vertical-align: top;\n",
       "    }\n",
       "\n",
       "    .dataframe thead th {\n",
       "        text-align: right;\n",
       "    }\n",
       "</style>\n",
       "<table border=\"1\" class=\"dataframe\">\n",
       "  <thead>\n",
       "    <tr style=\"text-align: right;\">\n",
       "      <th></th>\n",
       "      <th>Count</th>\n",
       "    </tr>\n",
       "  </thead>\n",
       "  <tbody>\n",
       "    <tr>\n",
       "      <th>awesome</th>\n",
       "      <td>12</td>\n",
       "    </tr>\n",
       "    <tr>\n",
       "      <th>great</th>\n",
       "      <td>20</td>\n",
       "    </tr>\n",
       "    <tr>\n",
       "      <th>fantastic</th>\n",
       "      <td>0</td>\n",
       "    </tr>\n",
       "    <tr>\n",
       "      <th>amazing</th>\n",
       "      <td>17</td>\n",
       "    </tr>\n",
       "    <tr>\n",
       "      <th>love</th>\n",
       "      <td>16</td>\n",
       "    </tr>\n",
       "    <tr>\n",
       "      <th>horrible</th>\n",
       "      <td>0</td>\n",
       "    </tr>\n",
       "    <tr>\n",
       "      <th>bad</th>\n",
       "      <td>3</td>\n",
       "    </tr>\n",
       "    <tr>\n",
       "      <th>terrible</th>\n",
       "      <td>0</td>\n",
       "    </tr>\n",
       "    <tr>\n",
       "      <th>awful</th>\n",
       "      <td>0</td>\n",
       "    </tr>\n",
       "    <tr>\n",
       "      <th>wow</th>\n",
       "      <td>0</td>\n",
       "    </tr>\n",
       "    <tr>\n",
       "      <th>hate</th>\n",
       "      <td>0</td>\n",
       "    </tr>\n",
       "  </tbody>\n",
       "</table>\n",
       "</div>"
      ],
      "text/plain": [
       "           Count\n",
       "awesome       12\n",
       "great         20\n",
       "fantastic      0\n",
       "amazing       17\n",
       "love          16\n",
       "horrible       0\n",
       "bad            3\n",
       "terrible       0\n",
       "awful          0\n",
       "wow            0\n",
       "hate           0"
      ]
     },
     "execution_count": 41,
     "metadata": {},
     "output_type": "execute_result"
    }
   ],
   "source": [
    "temp"
   ]
  },
  {
   "cell_type": "code",
   "execution_count": 42,
   "metadata": {},
   "outputs": [
    {
     "data": {
      "text/plain": [
       "<matplotlib.axes._subplots.AxesSubplot at 0x7ffb5a073a50>"
      ]
     },
     "execution_count": 42,
     "metadata": {},
     "output_type": "execute_result"
    },
    {
     "data": {
      "image/png": "[encoded data removed]",
      "text/plain": [
       "<Figure size 504x504 with 1 Axes>"
      ]
     },
     "metadata": {
      "needs_background": "light"
     },
     "output_type": "display_data"
    }
   ],
   "source": [
    "temp.plot(kind='bar', stacked=False, figsize=[7,7])"
   ]
  },
  {
   "cell_type": "code",
   "execution_count": 43,
   "metadata": {},
   "outputs": [
    {
     "data": {
      "text/html": [
       "<div>\n",
       "<style scoped>\n",
       "    .dataframe tbody tr th:only-of-type {\n",
       "        vertical-align: middle;\n",
       "    }\n",
       "\n",
       "    .dataframe tbody tr th {\n",
       "        vertical-align: top;\n",
       "    }\n",
       "\n",
       "    .dataframe thead th {\n",
       "        text-align: right;\n",
       "    }\n",
       "</style>\n",
       "<table border=\"1\" class=\"dataframe\">\n",
       "  <thead>\n",
       "    <tr style=\"text-align: right;\">\n",
       "      <th></th>\n",
       "      <th>name</th>\n",
       "      <th>review_count</th>\n",
       "      <th>city</th>\n",
       "      <th>stars</th>\n",
       "    </tr>\n",
       "  </thead>\n",
       "  <tbody>\n",
       "    <tr>\n",
       "      <th>175656</th>\n",
       "      <td>Cox Communications</td>\n",
       "      <td>1008</td>\n",
       "      <td>Phoenix</td>\n",
       "      <td>1.0</td>\n",
       "    </tr>\n",
       "    <tr>\n",
       "      <th>87338</th>\n",
       "      <td>Spirit Airlines</td>\n",
       "      <td>1288</td>\n",
       "      <td>Las Vegas</td>\n",
       "      <td>1.5</td>\n",
       "    </tr>\n",
       "    <tr>\n",
       "      <th>79159</th>\n",
       "      <td>Cirque du Soleil - Criss Angel Believe</td>\n",
       "      <td>1037</td>\n",
       "      <td>Las Vegas</td>\n",
       "      <td>1.5</td>\n",
       "    </tr>\n",
       "    <tr>\n",
       "      <th>62234</th>\n",
       "      <td>Fox Rent A Car</td>\n",
       "      <td>1513</td>\n",
       "      <td>Las Vegas</td>\n",
       "      <td>1.5</td>\n",
       "    </tr>\n",
       "    <tr>\n",
       "      <th>168825</th>\n",
       "      <td>Circus Circus Las Vegas Hotel and Casino</td>\n",
       "      <td>3037</td>\n",
       "      <td>Las Vegas</td>\n",
       "      <td>2.0</td>\n",
       "    </tr>\n",
       "    <tr>\n",
       "      <th>132075</th>\n",
       "      <td>Westgate Las Vegas Resort &amp; Casino</td>\n",
       "      <td>1932</td>\n",
       "      <td>Las Vegas</td>\n",
       "      <td>2.0</td>\n",
       "    </tr>\n",
       "    <tr>\n",
       "      <th>68193</th>\n",
       "      <td>Hakkasan Nightclub</td>\n",
       "      <td>1914</td>\n",
       "      <td>Las Vegas</td>\n",
       "      <td>2.5</td>\n",
       "    </tr>\n",
       "    <tr>\n",
       "      <th>11884</th>\n",
       "      <td>Plaza Hotel &amp; Casino</td>\n",
       "      <td>1236</td>\n",
       "      <td>Las Vegas</td>\n",
       "      <td>2.5</td>\n",
       "    </tr>\n",
       "    <tr>\n",
       "      <th>32120</th>\n",
       "      <td>Senor Frog's</td>\n",
       "      <td>1056</td>\n",
       "      <td>Las Vegas</td>\n",
       "      <td>2.5</td>\n",
       "    </tr>\n",
       "    <tr>\n",
       "      <th>96939</th>\n",
       "      <td>Monte Carlo Hotel And Casino</td>\n",
       "      <td>2659</td>\n",
       "      <td>Las Vegas</td>\n",
       "      <td>2.5</td>\n",
       "    </tr>\n",
       "    <tr>\n",
       "      <th>72231</th>\n",
       "      <td>MGM Grand Buffet</td>\n",
       "      <td>1308</td>\n",
       "      <td>Las Vegas</td>\n",
       "      <td>2.5</td>\n",
       "    </tr>\n",
       "    <tr>\n",
       "      <th>130311</th>\n",
       "      <td>Harrah's Las Vegas Hotel &amp; Casino</td>\n",
       "      <td>1925</td>\n",
       "      <td>Las Vegas</td>\n",
       "      <td>2.5</td>\n",
       "    </tr>\n",
       "    <tr>\n",
       "      <th>124064</th>\n",
       "      <td>Excalibur Hotel</td>\n",
       "      <td>3263</td>\n",
       "      <td>Las Vegas</td>\n",
       "      <td>2.5</td>\n",
       "    </tr>\n",
       "    <tr>\n",
       "      <th>204860</th>\n",
       "      <td>Rio All-Suite Hotel &amp; Casino</td>\n",
       "      <td>2855</td>\n",
       "      <td>Las Vegas</td>\n",
       "      <td>2.5</td>\n",
       "    </tr>\n",
       "    <tr>\n",
       "      <th>112687</th>\n",
       "      <td>Luxor Hotel and Casino Las Vegas</td>\n",
       "      <td>4670</td>\n",
       "      <td>Las Vegas</td>\n",
       "      <td>2.5</td>\n",
       "    </tr>\n",
       "  </tbody>\n",
       "</table>\n",
       "</div>"
      ],
      "text/plain": [
       "                                            name  review_count       city  \\\n",
       "175656                        Cox Communications          1008    Phoenix   \n",
       "87338                            Spirit Airlines          1288  Las Vegas   \n",
       "79159     Cirque du Soleil - Criss Angel Believe          1037  Las Vegas   \n",
       "62234                             Fox Rent A Car          1513  Las Vegas   \n",
       "168825  Circus Circus Las Vegas Hotel and Casino          3037  Las Vegas   \n",
       "132075        Westgate Las Vegas Resort & Casino          1932  Las Vegas   \n",
       "68193                         Hakkasan Nightclub          1914  Las Vegas   \n",
       "11884                       Plaza Hotel & Casino          1236  Las Vegas   \n",
       "32120                               Senor Frog's          1056  Las Vegas   \n",
       "96939               Monte Carlo Hotel And Casino          2659  Las Vegas   \n",
       "72231                           MGM Grand Buffet          1308  Las Vegas   \n",
       "130311         Harrah's Las Vegas Hotel & Casino          1925  Las Vegas   \n",
       "124064                           Excalibur Hotel          3263  Las Vegas   \n",
       "204860              Rio All-Suite Hotel & Casino          2855  Las Vegas   \n",
       "112687          Luxor Hotel and Casino Las Vegas          4670  Las Vegas   \n",
       "\n",
       "        stars  \n",
       "175656    1.0  \n",
       "87338     1.5  \n",
       "79159     1.5  \n",
       "62234     1.5  \n",
       "168825    2.0  \n",
       "132075    2.0  \n",
       "68193     2.5  \n",
       "11884     2.5  \n",
       "32120     2.5  \n",
       "96939     2.5  \n",
       "72231     2.5  \n",
       "130311    2.5  \n",
       "124064    2.5  \n",
       "204860    2.5  \n",
       "112687    2.5  "
      ]
     },
     "execution_count": 43,
     "metadata": {},
     "output_type": "execute_result"
    }
   ],
   "source": [
    "df_business[['name', 'review_count', 'city', 'stars']][df_business.review_count>1000].sort_values(ascending=True, by=\"stars\")[0:15]\n"
   ]
  },
  {
   "cell_type": "code",
   "execution_count": 44,
   "metadata": {},
   "outputs": [
    {
     "data": {
      "text/html": [
       "<div>\n",
       "<style scoped>\n",
       "    .dataframe tbody tr th:only-of-type {\n",
       "        vertical-align: middle;\n",
       "    }\n",
       "\n",
       "    .dataframe tbody tr th {\n",
       "        vertical-align: top;\n",
       "    }\n",
       "\n",
       "    .dataframe thead th {\n",
       "        text-align: right;\n",
       "    }\n",
       "</style>\n",
       "<table border=\"1\" class=\"dataframe\">\n",
       "  <thead>\n",
       "    <tr style=\"text-align: right;\">\n",
       "      <th></th>\n",
       "      <th>_id</th>\n",
       "      <th>business_id</th>\n",
       "      <th>name</th>\n",
       "      <th>address</th>\n",
       "      <th>city</th>\n",
       "      <th>state</th>\n",
       "      <th>postal_code</th>\n",
       "      <th>latitude</th>\n",
       "      <th>longitude</th>\n",
       "      <th>stars</th>\n",
       "      <th>review_count</th>\n",
       "      <th>is_open</th>\n",
       "      <th>attributes</th>\n",
       "      <th>categories</th>\n",
       "      <th>hours</th>\n",
       "    </tr>\n",
       "  </thead>\n",
       "  <tbody>\n",
       "    <tr>\n",
       "      <th>112687</th>\n",
       "      <td>5fb953375884f05b67a294d4</td>\n",
       "      <td>AV6weBrZFFBfRGCbcRGO4g</td>\n",
       "      <td>Luxor Hotel and Casino Las Vegas</td>\n",
       "      <td>3900 Las Vegas Blvd S</td>\n",
       "      <td>Las Vegas</td>\n",
       "      <td>NV</td>\n",
       "      <td>89109</td>\n",
       "      <td>36.097341</td>\n",
       "      <td>-115.176339</td>\n",
       "      <td>2.5</td>\n",
       "      <td>4670</td>\n",
       "      <td>1</td>\n",
       "      <td>{'RestaurantsDelivery': 'False', 'RestaurantsA...</td>\n",
       "      <td>Nightlife, Hotels &amp; Travel, Arts &amp; Entertainme...</td>\n",
       "      <td>{'Monday': '0:0-0:0', 'Tuesday': '0:0-0:0', 'W...</td>\n",
       "    </tr>\n",
       "  </tbody>\n",
       "</table>\n",
       "</div>"
      ],
      "text/plain": [
       "                             _id             business_id  \\\n",
       "112687  5fb953375884f05b67a294d4  AV6weBrZFFBfRGCbcRGO4g   \n",
       "\n",
       "                                    name                address       city  \\\n",
       "112687  Luxor Hotel and Casino Las Vegas  3900 Las Vegas Blvd S  Las Vegas   \n",
       "\n",
       "       state postal_code   latitude   longitude  stars  review_count  is_open  \\\n",
       "112687    NV       89109  36.097341 -115.176339    2.5          4670        1   \n",
       "\n",
       "                                               attributes  \\\n",
       "112687  {'RestaurantsDelivery': 'False', 'RestaurantsA...   \n",
       "\n",
       "                                               categories  \\\n",
       "112687  Nightlife, Hotels & Travel, Arts & Entertainme...   \n",
       "\n",
       "                                                    hours  \n",
       "112687  {'Monday': '0:0-0:0', 'Tuesday': '0:0-0:0', 'W...  "
      ]
     },
     "execution_count": 44,
     "metadata": {},
     "output_type": "execute_result"
    }
   ],
   "source": [
    "df_business[df_business['name'] == \"Luxor Hotel and Casino Las Vegas\"]"
   ]
  },
  {
   "cell_type": "code",
   "execution_count": 45,
   "metadata": {},
   "outputs": [],
   "source": [
    "luxor_hotel = df_tip[df_tip.business_id=='AV6weBrZFFBfRGCbcRGO4g']"
   ]
  },
  {
   "cell_type": "code",
   "execution_count": 46,
   "metadata": {},
   "outputs": [
    {
     "name": "stdout",
     "output_type": "stream",
     "text": [
      "<class 'pandas.core.frame.DataFrame'>\n",
      "Int64Index: 715 entries, 440 to 1314922\n",
      "Data columns (total 6 columns):\n",
      " #   Column            Non-Null Count  Dtype \n",
      "---  ------            --------------  ----- \n",
      " 0   _id               715 non-null    object\n",
      " 1   user_id           715 non-null    object\n",
      " 2   business_id       715 non-null    object\n",
      " 3   text              715 non-null    object\n",
      " 4   date              715 non-null    object\n",
      " 5   compliment_count  715 non-null    int64 \n",
      "dtypes: int64(1), object(5)\n",
      "memory usage: 39.1+ KB\n"
     ]
    }
   ],
   "source": [
    "luxor_hotel.info()"
   ]
  },
  {
   "cell_type": "code",
   "execution_count": 47,
   "metadata": {},
   "outputs": [],
   "source": [
    "luxor_hotel_selected_word_count = vectorizer.fit_transform(luxor_hotel['text'].values.astype('U'))\n"
   ]
  },
  {
   "cell_type": "code",
   "execution_count": 48,
   "metadata": {},
   "outputs": [],
   "source": [
    "word_count_array = luxor_hotel_selected_word_count.toarray()\n",
    "temp = pd.DataFrame(index=vectorizer.get_feature_names(), \\\n",
    "                    data=word_count_array.sum(axis=0)).rename(columns={0: 'Count'})"
   ]
  },
  {
   "cell_type": "code",
   "execution_count": 49,
   "metadata": {},
   "outputs": [
    {
     "data": {
      "text/plain": [
       "<matplotlib.axes._subplots.AxesSubplot at 0x7ffb5a0d1710>"
      ]
     },
     "execution_count": 49,
     "metadata": {},
     "output_type": "execute_result"
    },
    {
     "data": {
      "image/png": "[encoded data removed]",
      "text/plain": [
       "<Figure size 720x360 with 1 Axes>"
      ]
     },
     "metadata": {
      "needs_background": "light"
     },
     "output_type": "display_data"
    }
   ],
   "source": [
    "temp.plot(kind='bar', stacked=False, figsize=[10,5])\n"
   ]
  },
  {
   "cell_type": "markdown",
   "metadata": {},
   "source": [
    "## Top 10 Categories of Business"
   ]
  },
  {
   "cell_type": "code",
   "execution_count": 50,
   "metadata": {},
   "outputs": [],
   "source": [
    "category_business_counts = df_business[['categories', 'business_id']].groupby(['categories'])['business_id'].agg('count').sort_values(ascending=False)\n",
    "\n"
   ]
  },
  {
   "cell_type": "code",
   "execution_count": 51,
   "metadata": {},
   "outputs": [],
   "source": [
    "category_business_counts = pd.DataFrame(data=category_business_counts)"
   ]
  },
  {
   "cell_type": "code",
   "execution_count": 52,
   "metadata": {},
   "outputs": [],
   "source": [
    "category_business_counts.rename(columns={'business_id' : 'number_of_businesses'}, inplace=True)"
   ]
  },
  {
   "cell_type": "code",
   "execution_count": 53,
   "metadata": {},
   "outputs": [
    {
     "data": {
      "text/plain": [
       "Text(0.5, 1.0, 'Top 10 categories by businesses listed')"
      ]
     },
     "execution_count": 53,
     "metadata": {},
     "output_type": "execute_result"
    },
    {
     "data": {
      "image/png": "[encoded data removed]",
      "text/plain": [
       "<Figure size 720x720 with 1 Axes>"
      ]
     },
     "metadata": {
      "needs_background": "light"
     },
     "output_type": "display_data"
    }
   ],
   "source": [
    "category_business_counts[0:10].sort_values(ascending=True, by=\"number_of_businesses\")\\\n",
    ".plot(kind='barh', stacked=False, figsize=[10,10])\n",
    "plt.title('Top 10 categories by businesses listed')"
   ]
  },
  {
   "cell_type": "markdown",
   "metadata": {},
   "source": [
    "## What else can I look at?\n"
   ]
  },
  {
   "cell_type": "code",
   "execution_count": 54,
   "metadata": {},
   "outputs": [
    {
     "data": {
      "text/html": [
       "<div>\n",
       "<style scoped>\n",
       "    .dataframe tbody tr th:only-of-type {\n",
       "        vertical-align: middle;\n",
       "    }\n",
       "\n",
       "    .dataframe tbody tr th {\n",
       "        vertical-align: top;\n",
       "    }\n",
       "\n",
       "    .dataframe thead th {\n",
       "        text-align: right;\n",
       "    }\n",
       "</style>\n",
       "<table border=\"1\" class=\"dataframe\">\n",
       "  <thead>\n",
       "    <tr style=\"text-align: right;\">\n",
       "      <th></th>\n",
       "      <th>latitude</th>\n",
       "      <th>longitude</th>\n",
       "      <th>stars</th>\n",
       "      <th>review_count</th>\n",
       "      <th>is_open</th>\n",
       "    </tr>\n",
       "  </thead>\n",
       "  <tbody>\n",
       "    <tr>\n",
       "      <th>count</th>\n",
       "      <td>209393.000000</td>\n",
       "      <td>209393.000000</td>\n",
       "      <td>209393.000000</td>\n",
       "      <td>209393.000000</td>\n",
       "      <td>209393.000000</td>\n",
       "    </tr>\n",
       "    <tr>\n",
       "      <th>mean</th>\n",
       "      <td>38.579934</td>\n",
       "      <td>-97.390217</td>\n",
       "      <td>3.538055</td>\n",
       "      <td>36.937505</td>\n",
       "      <td>0.806632</td>\n",
       "    </tr>\n",
       "    <tr>\n",
       "      <th>std</th>\n",
       "      <td>4.940448</td>\n",
       "      <td>16.718535</td>\n",
       "      <td>1.023543</td>\n",
       "      <td>123.343597</td>\n",
       "      <td>0.394940</td>\n",
       "    </tr>\n",
       "    <tr>\n",
       "      <th>min</th>\n",
       "      <td>21.497258</td>\n",
       "      <td>-158.025525</td>\n",
       "      <td>1.000000</td>\n",
       "      <td>3.000000</td>\n",
       "      <td>0.000000</td>\n",
       "    </tr>\n",
       "    <tr>\n",
       "      <th>25%</th>\n",
       "      <td>33.638658</td>\n",
       "      <td>-112.269476</td>\n",
       "      <td>3.000000</td>\n",
       "      <td>4.000000</td>\n",
       "      <td>1.000000</td>\n",
       "    </tr>\n",
       "    <tr>\n",
       "      <th>50%</th>\n",
       "      <td>36.147408</td>\n",
       "      <td>-111.743531</td>\n",
       "      <td>3.500000</td>\n",
       "      <td>9.000000</td>\n",
       "      <td>1.000000</td>\n",
       "    </tr>\n",
       "    <tr>\n",
       "      <th>75%</th>\n",
       "      <td>43.611693</td>\n",
       "      <td>-79.972679</td>\n",
       "      <td>4.500000</td>\n",
       "      <td>27.000000</td>\n",
       "      <td>1.000000</td>\n",
       "    </tr>\n",
       "    <tr>\n",
       "      <th>max</th>\n",
       "      <td>51.299943</td>\n",
       "      <td>-72.806550</td>\n",
       "      <td>5.000000</td>\n",
       "      <td>10129.000000</td>\n",
       "      <td>1.000000</td>\n",
       "    </tr>\n",
       "  </tbody>\n",
       "</table>\n",
       "</div>"
      ],
      "text/plain": [
       "            latitude      longitude          stars   review_count  \\\n",
       "count  209393.000000  209393.000000  209393.000000  209393.000000   \n",
       "mean       38.579934     -97.390217       3.538055      36.937505   \n",
       "std         4.940448      16.718535       1.023543     123.343597   \n",
       "min        21.497258    -158.025525       1.000000       3.000000   \n",
       "25%        33.638658    -112.269476       3.000000       4.000000   \n",
       "50%        36.147408    -111.743531       3.500000       9.000000   \n",
       "75%        43.611693     -79.972679       4.500000      27.000000   \n",
       "max        51.299943     -72.806550       5.000000   10129.000000   \n",
       "\n",
       "             is_open  \n",
       "count  209393.000000  \n",
       "mean        0.806632  \n",
       "std         0.394940  \n",
       "min         0.000000  \n",
       "25%         1.000000  \n",
       "50%         1.000000  \n",
       "75%         1.000000  \n",
       "max         1.000000  "
      ]
     },
     "execution_count": 54,
     "metadata": {},
     "output_type": "execute_result"
    }
   ],
   "source": [
    "df_business.describe()"
   ]
  },
  {
   "cell_type": "code",
   "execution_count": 55,
   "metadata": {},
   "outputs": [
    {
     "data": {
      "text/plain": [
       "4.0    39199\n",
       "3.5    38079\n",
       "4.5    29940\n",
       "3.0    28634\n",
       "5.0    27080\n",
       "2.5    21435\n",
       "2.0    13124\n",
       "1.5     6004\n",
       "1.0     5898\n",
       "Name: stars, dtype: int64"
      ]
     },
     "execution_count": 55,
     "metadata": {},
     "output_type": "execute_result"
    }
   ],
   "source": [
    "df_business.stars.value_counts()\n"
   ]
  },
  {
   "cell_type": "code",
   "execution_count": 57,
   "metadata": {},
   "outputs": [
    {
     "data": {
      "text/html": [
       "<div>\n",
       "<style scoped>\n",
       "    .dataframe tbody tr th:only-of-type {\n",
       "        vertical-align: middle;\n",
       "    }\n",
       "\n",
       "    .dataframe tbody tr th {\n",
       "        vertical-align: top;\n",
       "    }\n",
       "\n",
       "    .dataframe thead th {\n",
       "        text-align: right;\n",
       "    }\n",
       "</style>\n",
       "<table border=\"1\" class=\"dataframe\">\n",
       "  <thead>\n",
       "    <tr style=\"text-align: right;\">\n",
       "      <th></th>\n",
       "      <th>_id</th>\n",
       "      <th>business_id</th>\n",
       "      <th>name</th>\n",
       "      <th>address</th>\n",
       "      <th>city</th>\n",
       "      <th>state</th>\n",
       "      <th>postal_code</th>\n",
       "      <th>latitude</th>\n",
       "      <th>longitude</th>\n",
       "      <th>stars</th>\n",
       "      <th>review_count</th>\n",
       "      <th>is_open</th>\n",
       "      <th>attributes</th>\n",
       "      <th>categories</th>\n",
       "      <th>hours</th>\n",
       "    </tr>\n",
       "  </thead>\n",
       "  <tbody>\n",
       "    <tr>\n",
       "      <th>0</th>\n",
       "      <td>5fb9532f5884f05b67a0dca5</td>\n",
       "      <td>f9NumwFMBDn751xgFiRbNA</td>\n",
       "      <td>The Range At Lake Norman</td>\n",
       "      <td>10913 Bailey Rd</td>\n",
       "      <td>Cornelius</td>\n",
       "      <td>NC</td>\n",
       "      <td>28031</td>\n",
       "      <td>35.462724</td>\n",
       "      <td>-80.852612</td>\n",
       "      <td>3.5</td>\n",
       "      <td>36</td>\n",
       "      <td>1</td>\n",
       "      <td>{'BusinessAcceptsCreditCards': 'True', 'BikePa...</td>\n",
       "      <td>Active Life, Gun/Rifle Ranges, Guns &amp; Ammo, Sh...</td>\n",
       "      <td>{'Monday': '10:0-18:0', 'Tuesday': '11:0-20:0'...</td>\n",
       "    </tr>\n",
       "    <tr>\n",
       "      <th>1</th>\n",
       "      <td>5fb9532f5884f05b67a0dca6</td>\n",
       "      <td>51M2Kk903DFYI6gnB5I6SQ</td>\n",
       "      <td>USE MY GUY SERVICES LLC</td>\n",
       "      <td>4827 E Downing Cir</td>\n",
       "      <td>Mesa</td>\n",
       "      <td>AZ</td>\n",
       "      <td>85205</td>\n",
       "      <td>33.428065</td>\n",
       "      <td>-111.726648</td>\n",
       "      <td>4.5</td>\n",
       "      <td>26</td>\n",
       "      <td>1</td>\n",
       "      <td>{'BusinessAcceptsCreditCards': 'True', 'ByAppo...</td>\n",
       "      <td>Home Services, Plumbing, Electricians, Handyma...</td>\n",
       "      <td>{'Monday': '0:0-0:0', 'Tuesday': '9:0-16:0', '...</td>\n",
       "    </tr>\n",
       "    <tr>\n",
       "      <th>2</th>\n",
       "      <td>5fb9532f5884f05b67a0dca7</td>\n",
       "      <td>cKyLV5oWZJ2NudWgqs8VZw</td>\n",
       "      <td>Oasis Auto Center - Gilbert</td>\n",
       "      <td>1720 W Elliot Rd, Ste 105</td>\n",
       "      <td>Gilbert</td>\n",
       "      <td>AZ</td>\n",
       "      <td>85233</td>\n",
       "      <td>33.350399</td>\n",
       "      <td>-111.827142</td>\n",
       "      <td>4.5</td>\n",
       "      <td>38</td>\n",
       "      <td>1</td>\n",
       "      <td>{'BusinessAcceptsCreditCards': 'True'}</td>\n",
       "      <td>Auto Repair, Automotive, Oil Change Stations, ...</td>\n",
       "      <td>{'Monday': '7:0-18:0', 'Tuesday': '7:0-18:0', ...</td>\n",
       "    </tr>\n",
       "    <tr>\n",
       "      <th>3</th>\n",
       "      <td>5fb9532f5884f05b67a0dca8</td>\n",
       "      <td>oiAlXZPIFm2nBCt0DHLu_Q</td>\n",
       "      <td>Green World Cleaners</td>\n",
       "      <td>6870 S Rainbow Blvd, Ste 117</td>\n",
       "      <td>Las Vegas</td>\n",
       "      <td>NV</td>\n",
       "      <td>89118</td>\n",
       "      <td>36.063977</td>\n",
       "      <td>-115.241463</td>\n",
       "      <td>3.5</td>\n",
       "      <td>81</td>\n",
       "      <td>1</td>\n",
       "      <td>{'BusinessParking': '{'garage': False, 'street...</td>\n",
       "      <td>Dry Cleaning &amp; Laundry, Local Services, Laundr...</td>\n",
       "      <td>{'Monday': '7:0-19:0', 'Tuesday': '7:0-19:0', ...</td>\n",
       "    </tr>\n",
       "    <tr>\n",
       "      <th>4</th>\n",
       "      <td>5fb9532f5884f05b67a0dca9</td>\n",
       "      <td>XNoUzKckATkOD1hP6vghZg</td>\n",
       "      <td>Felinus</td>\n",
       "      <td>3554 Rue Notre-Dame O</td>\n",
       "      <td>Montreal</td>\n",
       "      <td>QC</td>\n",
       "      <td>H4C 1P4</td>\n",
       "      <td>45.479984</td>\n",
       "      <td>-73.580070</td>\n",
       "      <td>5.0</td>\n",
       "      <td>5</td>\n",
       "      <td>1</td>\n",
       "      <td>None</td>\n",
       "      <td>Pets, Pet Services, Pet Groomers</td>\n",
       "      <td>None</td>\n",
       "    </tr>\n",
       "  </tbody>\n",
       "</table>\n",
       "</div>"
      ],
      "text/plain": [
       "                        _id             business_id  \\\n",
       "0  5fb9532f5884f05b67a0dca5  f9NumwFMBDn751xgFiRbNA   \n",
       "1  5fb9532f5884f05b67a0dca6  51M2Kk903DFYI6gnB5I6SQ   \n",
       "2  5fb9532f5884f05b67a0dca7  cKyLV5oWZJ2NudWgqs8VZw   \n",
       "3  5fb9532f5884f05b67a0dca8  oiAlXZPIFm2nBCt0DHLu_Q   \n",
       "4  5fb9532f5884f05b67a0dca9  XNoUzKckATkOD1hP6vghZg   \n",
       "\n",
       "                          name                       address       city state  \\\n",
       "0     The Range At Lake Norman               10913 Bailey Rd  Cornelius    NC   \n",
       "1      USE MY GUY SERVICES LLC            4827 E Downing Cir       Mesa    AZ   \n",
       "2  Oasis Auto Center - Gilbert     1720 W Elliot Rd, Ste 105    Gilbert    AZ   \n",
       "3         Green World Cleaners  6870 S Rainbow Blvd, Ste 117  Las Vegas    NV   \n",
       "4                      Felinus         3554 Rue Notre-Dame O   Montreal    QC   \n",
       "\n",
       "  postal_code   latitude   longitude  stars  review_count  is_open  \\\n",
       "0       28031  35.462724  -80.852612    3.5            36        1   \n",
       "1       85205  33.428065 -111.726648    4.5            26        1   \n",
       "2       85233  33.350399 -111.827142    4.5            38        1   \n",
       "3       89118  36.063977 -115.241463    3.5            81        1   \n",
       "4     H4C 1P4  45.479984  -73.580070    5.0             5        1   \n",
       "\n",
       "                                          attributes  \\\n",
       "0  {'BusinessAcceptsCreditCards': 'True', 'BikePa...   \n",
       "1  {'BusinessAcceptsCreditCards': 'True', 'ByAppo...   \n",
       "2             {'BusinessAcceptsCreditCards': 'True'}   \n",
       "3  {'BusinessParking': '{'garage': False, 'street...   \n",
       "4                                               None   \n",
       "\n",
       "                                          categories  \\\n",
       "0  Active Life, Gun/Rifle Ranges, Guns & Ammo, Sh...   \n",
       "1  Home Services, Plumbing, Electricians, Handyma...   \n",
       "2  Auto Repair, Automotive, Oil Change Stations, ...   \n",
       "3  Dry Cleaning & Laundry, Local Services, Laundr...   \n",
       "4                   Pets, Pet Services, Pet Groomers   \n",
       "\n",
       "                                               hours  \n",
       "0  {'Monday': '10:0-18:0', 'Tuesday': '11:0-20:0'...  \n",
       "1  {'Monday': '0:0-0:0', 'Tuesday': '9:0-16:0', '...  \n",
       "2  {'Monday': '7:0-18:0', 'Tuesday': '7:0-18:0', ...  \n",
       "3  {'Monday': '7:0-19:0', 'Tuesday': '7:0-19:0', ...  \n",
       "4                                               None  "
      ]
     },
     "execution_count": 57,
     "metadata": {},
     "output_type": "execute_result"
    }
   ],
   "source": [
    "df_business.head()"
   ]
  },
  {
   "cell_type": "code",
   "execution_count": 60,
   "metadata": {},
   "outputs": [
    {
     "data": {
      "text/html": [
       "<div>\n",
       "<style scoped>\n",
       "    .dataframe tbody tr th:only-of-type {\n",
       "        vertical-align: middle;\n",
       "    }\n",
       "\n",
       "    .dataframe tbody tr th {\n",
       "        vertical-align: top;\n",
       "    }\n",
       "\n",
       "    .dataframe thead th {\n",
       "        text-align: right;\n",
       "    }\n",
       "</style>\n",
       "<table border=\"1\" class=\"dataframe\">\n",
       "  <thead>\n",
       "    <tr style=\"text-align: right;\">\n",
       "      <th></th>\n",
       "      <th>_id</th>\n",
       "      <th>business_id</th>\n",
       "      <th>name</th>\n",
       "      <th>address</th>\n",
       "      <th>city</th>\n",
       "      <th>state</th>\n",
       "      <th>postal_code</th>\n",
       "      <th>latitude</th>\n",
       "      <th>longitude</th>\n",
       "      <th>stars</th>\n",
       "      <th>review_count</th>\n",
       "      <th>is_open</th>\n",
       "      <th>attributes</th>\n",
       "      <th>categories</th>\n",
       "      <th>hours</th>\n",
       "    </tr>\n",
       "  </thead>\n",
       "  <tbody>\n",
       "    <tr>\n",
       "      <th>81550</th>\n",
       "      <td>5fb953355884f05b67a21b33</td>\n",
       "      <td>RESDUcs7fIiihp38-d6_6g</td>\n",
       "      <td>Bacchanal Buffet</td>\n",
       "      <td>3570 S Las Vegas Blvd</td>\n",
       "      <td>Las Vegas</td>\n",
       "      <td>NV</td>\n",
       "      <td>89109</td>\n",
       "      <td>36.115929</td>\n",
       "      <td>-115.176238</td>\n",
       "      <td>4.0</td>\n",
       "      <td>10129</td>\n",
       "      <td>1</td>\n",
       "      <td>{'BikeParking': 'False', 'OutdoorSeating': 'Fa...</td>\n",
       "      <td>Sandwiches, Breakfast &amp; Brunch, Food, Restaura...</td>\n",
       "      <td>{'Monday': '7:30-22:0', 'Tuesday': '7:30-22:0'...</td>\n",
       "    </tr>\n",
       "  </tbody>\n",
       "</table>\n",
       "</div>"
      ],
      "text/plain": [
       "                            _id             business_id              name  \\\n",
       "81550  5fb953355884f05b67a21b33  RESDUcs7fIiihp38-d6_6g  Bacchanal Buffet   \n",
       "\n",
       "                     address       city state postal_code   latitude  \\\n",
       "81550  3570 S Las Vegas Blvd  Las Vegas    NV       89109  36.115929   \n",
       "\n",
       "        longitude  stars  review_count  is_open  \\\n",
       "81550 -115.176238    4.0         10129        1   \n",
       "\n",
       "                                              attributes  \\\n",
       "81550  {'BikeParking': 'False', 'OutdoorSeating': 'Fa...   \n",
       "\n",
       "                                              categories  \\\n",
       "81550  Sandwiches, Breakfast & Brunch, Food, Restaura...   \n",
       "\n",
       "                                                   hours  \n",
       "81550  {'Monday': '7:30-22:0', 'Tuesday': '7:30-22:0'...  "
      ]
     },
     "execution_count": 60,
     "metadata": {},
     "output_type": "execute_result"
    }
   ],
   "source": [
    "bc_buffet = df_business[df_business.name==\"Bacchanal Buffet\"]\n",
    "bc_buffet"
   ]
  },
  {
   "cell_type": "code",
   "execution_count": 61,
   "metadata": {},
   "outputs": [
    {
     "data": {
      "text/html": [
       "<div>\n",
       "<style scoped>\n",
       "    .dataframe tbody tr th:only-of-type {\n",
       "        vertical-align: middle;\n",
       "    }\n",
       "\n",
       "    .dataframe tbody tr th {\n",
       "        vertical-align: top;\n",
       "    }\n",
       "\n",
       "    .dataframe thead th {\n",
       "        text-align: right;\n",
       "    }\n",
       "</style>\n",
       "<table border=\"1\" class=\"dataframe\">\n",
       "  <thead>\n",
       "    <tr style=\"text-align: right;\">\n",
       "      <th></th>\n",
       "      <th>_id</th>\n",
       "      <th>user_id</th>\n",
       "      <th>business_id</th>\n",
       "      <th>text</th>\n",
       "      <th>date</th>\n",
       "      <th>compliment_count</th>\n",
       "    </tr>\n",
       "  </thead>\n",
       "  <tbody>\n",
       "    <tr>\n",
       "      <th>1908</th>\n",
       "      <td>5fb94e63c64442e3c11d26a3</td>\n",
       "      <td>FUHxeKjaVuuiFWrJwQaNaQ</td>\n",
       "      <td>RESDUcs7fIiihp38-d6_6g</td>\n",
       "      <td>Free soft drinks served by waiters!</td>\n",
       "      <td>2015-09-15 21:30:10</td>\n",
       "      <td>0</td>\n",
       "    </tr>\n",
       "    <tr>\n",
       "      <th>6277</th>\n",
       "      <td>5fb94e64c64442e3c11d37b4</td>\n",
       "      <td>jOW3BGthCDL3l7Dd6AWZtA</td>\n",
       "      <td>RESDUcs7fIiihp38-d6_6g</td>\n",
       "      <td>Hands down best buffet i have ever had!!!!!!!!...</td>\n",
       "      <td>2012-10-29 01:13:05</td>\n",
       "      <td>1</td>\n",
       "    </tr>\n",
       "    <tr>\n",
       "      <th>8903</th>\n",
       "      <td>5fb94e64c64442e3c11d41f6</td>\n",
       "      <td>lDKbTlZqjIn2gn490gU2HQ</td>\n",
       "      <td>RESDUcs7fIiihp38-d6_6g</td>\n",
       "      <td>Weekday lunch: $40s. \\nWeekday dinner: $50s\\nL...</td>\n",
       "      <td>2015-09-04 01:56:16</td>\n",
       "      <td>0</td>\n",
       "    </tr>\n",
       "    <tr>\n",
       "      <th>11700</th>\n",
       "      <td>5fb94e64c64442e3c11d4ce3</td>\n",
       "      <td>F_5_UNX-wrAFCXuAkBZRDw</td>\n",
       "      <td>RESDUcs7fIiihp38-d6_6g</td>\n",
       "      <td>24 hours of Bacchanal starts now. LOL</td>\n",
       "      <td>2012-12-12 18:03:17</td>\n",
       "      <td>1</td>\n",
       "    </tr>\n",
       "    <tr>\n",
       "      <th>11978</th>\n",
       "      <td>5fb94e64c64442e3c11d4df9</td>\n",
       "      <td>FUHxeKjaVuuiFWrJwQaNaQ</td>\n",
       "      <td>RESDUcs7fIiihp38-d6_6g</td>\n",
       "      <td>The best Italian starts at 3pm</td>\n",
       "      <td>2015-09-15 21:32:52</td>\n",
       "      <td>0</td>\n",
       "    </tr>\n",
       "  </tbody>\n",
       "</table>\n",
       "</div>"
      ],
      "text/plain": [
       "                            _id                 user_id  \\\n",
       "1908   5fb94e63c64442e3c11d26a3  FUHxeKjaVuuiFWrJwQaNaQ   \n",
       "6277   5fb94e64c64442e3c11d37b4  jOW3BGthCDL3l7Dd6AWZtA   \n",
       "8903   5fb94e64c64442e3c11d41f6  lDKbTlZqjIn2gn490gU2HQ   \n",
       "11700  5fb94e64c64442e3c11d4ce3  F_5_UNX-wrAFCXuAkBZRDw   \n",
       "11978  5fb94e64c64442e3c11d4df9  FUHxeKjaVuuiFWrJwQaNaQ   \n",
       "\n",
       "                  business_id  \\\n",
       "1908   RESDUcs7fIiihp38-d6_6g   \n",
       "6277   RESDUcs7fIiihp38-d6_6g   \n",
       "8903   RESDUcs7fIiihp38-d6_6g   \n",
       "11700  RESDUcs7fIiihp38-d6_6g   \n",
       "11978  RESDUcs7fIiihp38-d6_6g   \n",
       "\n",
       "                                                    text                 date  \\\n",
       "1908                 Free soft drinks served by waiters!  2015-09-15 21:30:10   \n",
       "6277   Hands down best buffet i have ever had!!!!!!!!...  2012-10-29 01:13:05   \n",
       "8903   Weekday lunch: $40s. \\nWeekday dinner: $50s\\nL...  2015-09-04 01:56:16   \n",
       "11700              24 hours of Bacchanal starts now. LOL  2012-12-12 18:03:17   \n",
       "11978                     The best Italian starts at 3pm  2015-09-15 21:32:52   \n",
       "\n",
       "       compliment_count  \n",
       "1908                  0  \n",
       "6277                  1  \n",
       "8903                  0  \n",
       "11700                 1  \n",
       "11978                 0  "
      ]
     },
     "execution_count": 61,
     "metadata": {},
     "output_type": "execute_result"
    }
   ],
   "source": [
    "bc_buffet_tip = df_tip[df_tip.business_id=='RESDUcs7fIiihp38-d6_6g']\n",
    "bc_buffet_tip.head()"
   ]
  },
  {
   "cell_type": "code",
   "execution_count": 56,
   "metadata": {},
   "outputs": [],
   "source": [
    "# Group the businesses by ratings?\n",
    "# what about reviews? they are too big...should I start small with specific businesses? \n"
   ]
  },
  {
   "cell_type": "code",
   "execution_count": 68,
   "metadata": {},
   "outputs": [
    {
     "data": {
      "text/plain": [
       "4.0    39199\n",
       "3.5    38079\n",
       "4.5    29940\n",
       "3.0    28634\n",
       "5.0    27080\n",
       "2.5    21435\n",
       "2.0    13124\n",
       "1.5     6004\n",
       "1.0     5898\n",
       "Name: stars, dtype: int64"
      ]
     },
     "execution_count": 68,
     "metadata": {},
     "output_type": "execute_result"
    }
   ],
   "source": [
    "df_business.stars.value_counts()\n"
   ]
  },
  {
   "cell_type": "code",
   "execution_count": 75,
   "metadata": {},
   "outputs": [],
   "source": [
    "df_scottsdale = df_business[df_business.city == 'Scottsdale']"
   ]
  },
  {
   "cell_type": "code",
   "execution_count": 74,
   "metadata": {},
   "outputs": [
    {
     "name": "stdout",
     "output_type": "stream",
     "text": [
      "<class 'pandas.core.frame.DataFrame'>\n",
      "RangeIndex: 209393 entries, 0 to 209392\n",
      "Data columns (total 15 columns):\n",
      " #   Column        Non-Null Count   Dtype  \n",
      "---  ------        --------------   -----  \n",
      " 0   _id           209393 non-null  object \n",
      " 1   business_id   209393 non-null  object \n",
      " 2   name          209393 non-null  object \n",
      " 3   address       209393 non-null  object \n",
      " 4   city          209393 non-null  object \n",
      " 5   state         209393 non-null  object \n",
      " 6   postal_code   209393 non-null  object \n",
      " 7   latitude      209393 non-null  float64\n",
      " 8   longitude     209393 non-null  float64\n",
      " 9   stars         209393 non-null  float64\n",
      " 10  review_count  209393 non-null  int64  \n",
      " 11  is_open       209393 non-null  int64  \n",
      " 12  attributes    180348 non-null  object \n",
      " 13  categories    208869 non-null  object \n",
      " 14  hours         164550 non-null  object \n",
      "dtypes: float64(3), int64(2), object(10)\n",
      "memory usage: 24.0+ MB\n"
     ]
    }
   ],
   "source": [
    "df_business.info()"
   ]
  },
  {
   "cell_type": "code",
   "execution_count": 77,
   "metadata": {},
   "outputs": [
    {
     "data": {
      "text/plain": [
       "5.0    2213\n",
       "4.0    1746\n",
       "4.5    1638\n",
       "3.5    1479\n",
       "3.0     959\n",
       "2.5     667\n",
       "2.0     348\n",
       "1.0     162\n",
       "1.5     130\n",
       "Name: stars, dtype: int64"
      ]
     },
     "execution_count": 77,
     "metadata": {},
     "output_type": "execute_result"
    }
   ],
   "source": [
    "df_scottsdale.stars.value_counts()"
   ]
  },
  {
   "cell_type": "code",
   "execution_count": 78,
   "metadata": {},
   "outputs": [],
   "source": [
    "df_vegas = df_business[df_business.city == 'Las Vegas']"
   ]
  },
  {
   "cell_type": "code",
   "execution_count": 79,
   "metadata": {},
   "outputs": [
    {
     "data": {
      "text/plain": [
       "4.0    5971\n",
       "4.5    5245\n",
       "5.0    5138\n",
       "3.5    5130\n",
       "3.0    3865\n",
       "2.5    2862\n",
       "2.0    1851\n",
       "1.5     837\n",
       "1.0     732\n",
       "Name: stars, dtype: int64"
      ]
     },
     "execution_count": 79,
     "metadata": {},
     "output_type": "execute_result"
    }
   ],
   "source": [
    "df_vegas.stars.value_counts()"
   ]
  },
  {
   "cell_type": "code",
   "execution_count": 87,
   "metadata": {},
   "outputs": [
    {
     "ename": "TypeError",
     "evalue": "pipeline must be a list",
     "output_type": "error",
     "traceback": [
      "\u001b[0;31m---------------------------------------------------------------------------\u001b[0m",
      "\u001b[0;31mTypeError\u001b[0m                                 Traceback (most recent call last)",
      "\u001b[0;32m<ipython-input-87-ea79f9dd6c71>\u001b[0m in \u001b[0;36m<module>\u001b[0;34m\u001b[0m\n\u001b[0;32m----> 1\u001b[0;31m \u001b[0mdf_review\u001b[0m \u001b[0;34m=\u001b[0m \u001b[0mpd\u001b[0m\u001b[0;34m.\u001b[0m\u001b[0mDataFrame\u001b[0m\u001b[0;34m(\u001b[0m\u001b[0mlist\u001b[0m\u001b[0;34m(\u001b[0m\u001b[0mdb\u001b[0m\u001b[0;34m.\u001b[0m\u001b[0mreview\u001b[0m\u001b[0;34m.\u001b[0m\u001b[0maggregate\u001b[0m\u001b[0;34m(\u001b[0m\u001b[0;34m{\u001b[0m \u001b[0;34m\"$sample\"\u001b[0m\u001b[0;34m:\u001b[0m\u001b[0;34m{\u001b[0m\u001b[0;34m\"size\"\u001b[0m\u001b[0;34m:\u001b[0m\u001b[0;36m3\u001b[0m\u001b[0;34m}\u001b[0m\u001b[0;34m}\u001b[0m\u001b[0;34m)\u001b[0m\u001b[0;34m)\u001b[0m\u001b[0;34m)\u001b[0m\u001b[0;34m\u001b[0m\u001b[0;34m\u001b[0m\u001b[0m\n\u001b[0m",
      "\u001b[0;32m~/opt/anaconda3/lib/python3.7/site-packages/pymongo/collection.py\u001b[0m in \u001b[0;36maggregate\u001b[0;34m(self, pipeline, session, **kwargs)\u001b[0m\n\u001b[1;32m   2378\u001b[0m                                    \u001b[0msession\u001b[0m\u001b[0;34m=\u001b[0m\u001b[0ms\u001b[0m\u001b[0;34m,\u001b[0m\u001b[0;34m\u001b[0m\u001b[0;34m\u001b[0m\u001b[0m\n\u001b[1;32m   2379\u001b[0m                                    \u001b[0mexplicit_session\u001b[0m\u001b[0;34m=\u001b[0m\u001b[0msession\u001b[0m \u001b[0;32mis\u001b[0m \u001b[0;32mnot\u001b[0m \u001b[0;32mNone\u001b[0m\u001b[0;34m,\u001b[0m\u001b[0;34m\u001b[0m\u001b[0;34m\u001b[0m\u001b[0m\n\u001b[0;32m-> 2380\u001b[0;31m                                    **kwargs)\n\u001b[0m\u001b[1;32m   2381\u001b[0m \u001b[0;34m\u001b[0m\u001b[0m\n\u001b[1;32m   2382\u001b[0m     \u001b[0;32mdef\u001b[0m \u001b[0maggregate_raw_batches\u001b[0m\u001b[0;34m(\u001b[0m\u001b[0mself\u001b[0m\u001b[0;34m,\u001b[0m \u001b[0mpipeline\u001b[0m\u001b[0;34m,\u001b[0m \u001b[0;34m**\u001b[0m\u001b[0mkwargs\u001b[0m\u001b[0;34m)\u001b[0m\u001b[0;34m:\u001b[0m\u001b[0;34m\u001b[0m\u001b[0;34m\u001b[0m\u001b[0m\n",
      "\u001b[0;32m~/opt/anaconda3/lib/python3.7/site-packages/pymongo/collection.py\u001b[0m in \u001b[0;36m_aggregate\u001b[0;34m(self, aggregation_command, pipeline, cursor_class, session, explicit_session, **kwargs)\u001b[0m\n\u001b[1;32m   2294\u001b[0m         cmd = aggregation_command(\n\u001b[1;32m   2295\u001b[0m             \u001b[0mself\u001b[0m\u001b[0;34m,\u001b[0m \u001b[0mcursor_class\u001b[0m\u001b[0;34m,\u001b[0m \u001b[0mpipeline\u001b[0m\u001b[0;34m,\u001b[0m \u001b[0mkwargs\u001b[0m\u001b[0;34m,\u001b[0m \u001b[0mexplicit_session\u001b[0m\u001b[0;34m,\u001b[0m\u001b[0;34m\u001b[0m\u001b[0;34m\u001b[0m\u001b[0m\n\u001b[0;32m-> 2296\u001b[0;31m             user_fields={'cursor': {'firstBatch': 1}}, use_cursor=use_cursor)\n\u001b[0m\u001b[1;32m   2297\u001b[0m         return self.__database.client._retryable_read(\n\u001b[1;32m   2298\u001b[0m             \u001b[0mcmd\u001b[0m\u001b[0;34m.\u001b[0m\u001b[0mget_cursor\u001b[0m\u001b[0;34m,\u001b[0m \u001b[0mcmd\u001b[0m\u001b[0;34m.\u001b[0m\u001b[0mget_read_preference\u001b[0m\u001b[0;34m(\u001b[0m\u001b[0msession\u001b[0m\u001b[0;34m)\u001b[0m\u001b[0;34m,\u001b[0m \u001b[0msession\u001b[0m\u001b[0;34m,\u001b[0m\u001b[0;34m\u001b[0m\u001b[0;34m\u001b[0m\u001b[0m\n",
      "\u001b[0;32m~/opt/anaconda3/lib/python3.7/site-packages/pymongo/aggregation.py\u001b[0m in \u001b[0;36m__init__\u001b[0;34m(self, *args, **kwargs)\u001b[0m\n\u001b[1;32m    173\u001b[0m         \u001b[0;31m# Pop additional option and initialize parent class.\u001b[0m\u001b[0;34m\u001b[0m\u001b[0;34m\u001b[0m\u001b[0;34m\u001b[0m\u001b[0m\n\u001b[1;32m    174\u001b[0m         \u001b[0muse_cursor\u001b[0m \u001b[0;34m=\u001b[0m \u001b[0mkwargs\u001b[0m\u001b[0;34m.\u001b[0m\u001b[0mpop\u001b[0m\u001b[0;34m(\u001b[0m\u001b[0;34m\"use_cursor\"\u001b[0m\u001b[0;34m,\u001b[0m \u001b[0;32mTrue\u001b[0m\u001b[0;34m)\u001b[0m\u001b[0;34m\u001b[0m\u001b[0;34m\u001b[0m\u001b[0m\n\u001b[0;32m--> 175\u001b[0;31m         \u001b[0msuper\u001b[0m\u001b[0;34m(\u001b[0m\u001b[0m_CollectionAggregationCommand\u001b[0m\u001b[0;34m,\u001b[0m \u001b[0mself\u001b[0m\u001b[0;34m)\u001b[0m\u001b[0;34m.\u001b[0m\u001b[0m__init__\u001b[0m\u001b[0;34m(\u001b[0m\u001b[0;34m*\u001b[0m\u001b[0margs\u001b[0m\u001b[0;34m,\u001b[0m \u001b[0;34m**\u001b[0m\u001b[0mkwargs\u001b[0m\u001b[0;34m)\u001b[0m\u001b[0;34m\u001b[0m\u001b[0;34m\u001b[0m\u001b[0m\n\u001b[0m\u001b[1;32m    176\u001b[0m \u001b[0;34m\u001b[0m\u001b[0m\n\u001b[1;32m    177\u001b[0m         \u001b[0;31m# Remove the cursor document if the user has set use_cursor to False.\u001b[0m\u001b[0;34m\u001b[0m\u001b[0;34m\u001b[0m\u001b[0;34m\u001b[0m\u001b[0m\n",
      "\u001b[0;32m~/opt/anaconda3/lib/python3.7/site-packages/pymongo/aggregation.py\u001b[0m in \u001b[0;36m__init__\u001b[0;34m(self, target, cursor_class, pipeline, options, explicit_session, user_fields, result_processor)\u001b[0m\n\u001b[1;32m     38\u001b[0m         \u001b[0mself\u001b[0m\u001b[0;34m.\u001b[0m\u001b[0m_target\u001b[0m \u001b[0;34m=\u001b[0m \u001b[0mtarget\u001b[0m\u001b[0;34m\u001b[0m\u001b[0;34m\u001b[0m\u001b[0m\n\u001b[1;32m     39\u001b[0m \u001b[0;34m\u001b[0m\u001b[0m\n\u001b[0;32m---> 40\u001b[0;31m         \u001b[0mcommon\u001b[0m\u001b[0;34m.\u001b[0m\u001b[0mvalidate_list\u001b[0m\u001b[0;34m(\u001b[0m\u001b[0;34m'pipeline'\u001b[0m\u001b[0;34m,\u001b[0m \u001b[0mpipeline\u001b[0m\u001b[0;34m)\u001b[0m\u001b[0;34m\u001b[0m\u001b[0;34m\u001b[0m\u001b[0m\n\u001b[0m\u001b[1;32m     41\u001b[0m         \u001b[0mself\u001b[0m\u001b[0;34m.\u001b[0m\u001b[0m_pipeline\u001b[0m \u001b[0;34m=\u001b[0m \u001b[0mpipeline\u001b[0m\u001b[0;34m\u001b[0m\u001b[0;34m\u001b[0m\u001b[0m\n\u001b[1;32m     42\u001b[0m         \u001b[0mself\u001b[0m\u001b[0;34m.\u001b[0m\u001b[0m_performs_write\u001b[0m \u001b[0;34m=\u001b[0m \u001b[0;32mFalse\u001b[0m\u001b[0;34m\u001b[0m\u001b[0;34m\u001b[0m\u001b[0m\n",
      "\u001b[0;32m~/opt/anaconda3/lib/python3.7/site-packages/pymongo/common.py\u001b[0m in \u001b[0;36mvalidate_list\u001b[0;34m(option, value)\u001b[0m\n\u001b[1;32m    448\u001b[0m     \u001b[0;34m\"\"\"Validates that 'value' is a list.\"\"\"\u001b[0m\u001b[0;34m\u001b[0m\u001b[0;34m\u001b[0m\u001b[0m\n\u001b[1;32m    449\u001b[0m     \u001b[0;32mif\u001b[0m \u001b[0;32mnot\u001b[0m \u001b[0misinstance\u001b[0m\u001b[0;34m(\u001b[0m\u001b[0mvalue\u001b[0m\u001b[0;34m,\u001b[0m \u001b[0mlist\u001b[0m\u001b[0;34m)\u001b[0m\u001b[0;34m:\u001b[0m\u001b[0;34m\u001b[0m\u001b[0;34m\u001b[0m\u001b[0m\n\u001b[0;32m--> 450\u001b[0;31m         \u001b[0;32mraise\u001b[0m \u001b[0mTypeError\u001b[0m\u001b[0;34m(\u001b[0m\u001b[0;34m\"%s must be a list\"\u001b[0m \u001b[0;34m%\u001b[0m \u001b[0;34m(\u001b[0m\u001b[0moption\u001b[0m\u001b[0;34m,\u001b[0m\u001b[0;34m)\u001b[0m\u001b[0;34m)\u001b[0m\u001b[0;34m\u001b[0m\u001b[0;34m\u001b[0m\u001b[0m\n\u001b[0m\u001b[1;32m    451\u001b[0m     \u001b[0;32mreturn\u001b[0m \u001b[0mvalue\u001b[0m\u001b[0;34m\u001b[0m\u001b[0;34m\u001b[0m\u001b[0m\n\u001b[1;32m    452\u001b[0m \u001b[0;34m\u001b[0m\u001b[0m\n",
      "\u001b[0;31mTypeError\u001b[0m: pipeline must be a list"
     ]
    }
   ],
   "source": [
    "df_review = pd.DataFrame(list(db.review.aggregate({\"$sample\":{\"size\":3}})))"
   ]
  },
  {
   "cell_type": "code",
   "execution_count": 90,
   "metadata": {},
   "outputs": [
    {
     "data": {
      "text/plain": [
       "{'_id': ObjectId('5fb94ec16260c7605330c932'),\n",
       " 'review_id': 'LG2ZaYiOgpr2DK_90pYjNw',\n",
       " 'user_id': 'V34qejxNsCbcgD8C0HVk-Q',\n",
       " 'business_id': 'HQl28KMwrEKHqhFrrDqVNQ',\n",
       " 'stars': 5.0,\n",
       " 'useful': 1,\n",
       " 'funny': 0,\n",
       " 'cool': 0,\n",
       " 'text': \"I love Deagan's. I do. I really do. The atmosphere is cozy and festive. The shrimp tacos and house fries are my standbys. The fries are sometimes good and sometimes great, and the spicy dipping sauce they come with is to die for. The beer list is amazing and the cocktails are great. The prices are mid-level, so it's not a cheap dive you can go to every week, but rather a treat when you do. Try it out. You won't be disappointed!\",\n",
       " 'date': '2015-12-05 03:18:11'}"
      ]
     },
     "execution_count": 90,
     "metadata": {},
     "output_type": "execute_result"
    }
   ],
   "source": [
    "db.review.find_one({})"
   ]
  },
  {
   "cell_type": "code",
   "execution_count": 127,
   "metadata": {},
   "outputs": [],
   "source": [
    "review_sample = db.review.aggregate([ { \"$sample\": { \"size\": 20000 } } ])"
   ]
  },
  {
   "cell_type": "code",
   "execution_count": 128,
   "metadata": {},
   "outputs": [
    {
     "data": {
      "text/plain": [
       "[]"
      ]
     },
     "execution_count": 128,
     "metadata": {},
     "output_type": "execute_result"
    }
   ],
   "source": [
    "list(test)"
   ]
  },
  {
   "cell_type": "code",
   "execution_count": 129,
   "metadata": {},
   "outputs": [],
   "source": [
    "df_review_sample = pd.DataFrame(list(review_sample))"
   ]
  },
  {
   "cell_type": "code",
   "execution_count": 130,
   "metadata": {},
   "outputs": [
    {
     "data": {
      "text/html": [
       "<div>\n",
       "<style scoped>\n",
       "    .dataframe tbody tr th:only-of-type {\n",
       "        vertical-align: middle;\n",
       "    }\n",
       "\n",
       "    .dataframe tbody tr th {\n",
       "        vertical-align: top;\n",
       "    }\n",
       "\n",
       "    .dataframe thead th {\n",
       "        text-align: right;\n",
       "    }\n",
       "</style>\n",
       "<table border=\"1\" class=\"dataframe\">\n",
       "  <thead>\n",
       "    <tr style=\"text-align: right;\">\n",
       "      <th></th>\n",
       "      <th>_id</th>\n",
       "      <th>review_id</th>\n",
       "      <th>user_id</th>\n",
       "      <th>business_id</th>\n",
       "      <th>stars</th>\n",
       "      <th>useful</th>\n",
       "      <th>funny</th>\n",
       "      <th>cool</th>\n",
       "      <th>text</th>\n",
       "      <th>date</th>\n",
       "    </tr>\n",
       "  </thead>\n",
       "  <tbody>\n",
       "    <tr>\n",
       "      <th>0</th>\n",
       "      <td>5fb94edd6260c7605338fde0</td>\n",
       "      <td>DNyr7RRyIHeTB0qSKL7bPg</td>\n",
       "      <td>_3LNp4ZdM2z44PJezecz5g</td>\n",
       "      <td>aFqPf3gy0C7SvkB3iklE7g</td>\n",
       "      <td>4.0</td>\n",
       "      <td>2</td>\n",
       "      <td>1</td>\n",
       "      <td>1</td>\n",
       "      <td>Great experience during my short stay in Phoen...</td>\n",
       "      <td>2014-11-12 00:12:36</td>\n",
       "    </tr>\n",
       "    <tr>\n",
       "      <th>1</th>\n",
       "      <td>5fb950326260c760539804d1</td>\n",
       "      <td>lXxJbPHsVpzuVRVBbK3uRw</td>\n",
       "      <td>VyH30Uk_aMJT1QptcDaSgw</td>\n",
       "      <td>jCNBZnkIFv_0omLVTgNR6Q</td>\n",
       "      <td>3.0</td>\n",
       "      <td>0</td>\n",
       "      <td>0</td>\n",
       "      <td>0</td>\n",
       "      <td>Food was decent. However, ordered a to go deli...</td>\n",
       "      <td>2018-09-20 07:59:48</td>\n",
       "    </tr>\n",
       "    <tr>\n",
       "      <th>2</th>\n",
       "      <td>5fb94f736260c7605362e910</td>\n",
       "      <td>y-Ax6HaYzhxqDYpG8SHrWA</td>\n",
       "      <td>K6RPOP0IRkZddCKD1S6FUA</td>\n",
       "      <td>9S7RUjzkdpU4MDxUxkvLvg</td>\n",
       "      <td>1.0</td>\n",
       "      <td>0</td>\n",
       "      <td>1</td>\n",
       "      <td>0</td>\n",
       "      <td>Our server was obviously not in the mindframe ...</td>\n",
       "      <td>2016-06-25 02:46:10</td>\n",
       "    </tr>\n",
       "    <tr>\n",
       "      <th>3</th>\n",
       "      <td>5fb950386260c7605399d426</td>\n",
       "      <td>pN-WLXH0wMQM71-lEZGVOQ</td>\n",
       "      <td>KpkSr869jNIhJix3cGM8OQ</td>\n",
       "      <td>0uR48n5SYcLE_DLcjONZPg</td>\n",
       "      <td>5.0</td>\n",
       "      <td>0</td>\n",
       "      <td>0</td>\n",
       "      <td>0</td>\n",
       "      <td>I have to say I love subway but after now tryi...</td>\n",
       "      <td>2016-11-09 01:23:52</td>\n",
       "    </tr>\n",
       "    <tr>\n",
       "      <th>4</th>\n",
       "      <td>5fb94f326260c7605350f37d</td>\n",
       "      <td>tOgwHvAj8VKijvEyQRY_YQ</td>\n",
       "      <td>N1B-P3MVLmZT5yArrK2dYw</td>\n",
       "      <td>UPph80wgbHn-jX9F3fKC6w</td>\n",
       "      <td>5.0</td>\n",
       "      <td>1</td>\n",
       "      <td>0</td>\n",
       "      <td>0</td>\n",
       "      <td>We used Germaine for my cat, Chester.  Sadly, ...</td>\n",
       "      <td>2019-02-18 00:40:24</td>\n",
       "    </tr>\n",
       "  </tbody>\n",
       "</table>\n",
       "</div>"
      ],
      "text/plain": [
       "                        _id               review_id                 user_id  \\\n",
       "0  5fb94edd6260c7605338fde0  DNyr7RRyIHeTB0qSKL7bPg  _3LNp4ZdM2z44PJezecz5g   \n",
       "1  5fb950326260c760539804d1  lXxJbPHsVpzuVRVBbK3uRw  VyH30Uk_aMJT1QptcDaSgw   \n",
       "2  5fb94f736260c7605362e910  y-Ax6HaYzhxqDYpG8SHrWA  K6RPOP0IRkZddCKD1S6FUA   \n",
       "3  5fb950386260c7605399d426  pN-WLXH0wMQM71-lEZGVOQ  KpkSr869jNIhJix3cGM8OQ   \n",
       "4  5fb94f326260c7605350f37d  tOgwHvAj8VKijvEyQRY_YQ  N1B-P3MVLmZT5yArrK2dYw   \n",
       "\n",
       "              business_id  stars  useful  funny  cool  \\\n",
       "0  aFqPf3gy0C7SvkB3iklE7g    4.0       2      1     1   \n",
       "1  jCNBZnkIFv_0omLVTgNR6Q    3.0       0      0     0   \n",
       "2  9S7RUjzkdpU4MDxUxkvLvg    1.0       0      1     0   \n",
       "3  0uR48n5SYcLE_DLcjONZPg    5.0       0      0     0   \n",
       "4  UPph80wgbHn-jX9F3fKC6w    5.0       1      0     0   \n",
       "\n",
       "                                                text                 date  \n",
       "0  Great experience during my short stay in Phoen...  2014-11-12 00:12:36  \n",
       "1  Food was decent. However, ordered a to go deli...  2018-09-20 07:59:48  \n",
       "2  Our server was obviously not in the mindframe ...  2016-06-25 02:46:10  \n",
       "3  I have to say I love subway but after now tryi...  2016-11-09 01:23:52  \n",
       "4  We used Germaine for my cat, Chester.  Sadly, ...  2019-02-18 00:40:24  "
      ]
     },
     "execution_count": 130,
     "metadata": {},
     "output_type": "execute_result"
    }
   ],
   "source": [
    "df_review_sample.head()"
   ]
  },
  {
   "cell_type": "code",
   "execution_count": 184,
   "metadata": {},
   "outputs": [],
   "source": [
    "df_review_sample.to_csv(\"data/review_sample.csv\")"
   ]
  },
  {
   "cell_type": "markdown",
   "metadata": {},
   "source": [
    "# K-Means"
   ]
  },
  {
   "cell_type": "code",
   "execution_count": 131,
   "metadata": {},
   "outputs": [],
   "source": [
    "import os\n",
    "from sklearn.feature_extraction.text import TfidfVectorizer\n",
    "from sklearn.cluster import KMeans\n",
    "from collections import Counter\n",
    "from scipy.spatial.distance import pdist, squareform\n",
    "import matplotlib.pyplot as plt\n",
    "from scipy.cluster.hierarchy import linkage, dendrogram"
   ]
  },
  {
   "cell_type": "code",
   "execution_count": 132,
   "metadata": {},
   "outputs": [
    {
     "data": {
      "text/plain": [
       "KMeans(algorithm='auto', copy_x=True, init='k-means++', max_iter=300,\n",
       "       n_clusters=8, n_init=10, n_jobs=None, precompute_distances='auto',\n",
       "       random_state=None, tol=0.0001, verbose=0)"
      ]
     },
     "execution_count": 132,
     "metadata": {},
     "output_type": "execute_result"
    }
   ],
   "source": [
    "# Applying K-Means\n",
    "\n",
    "vectorizer = TfidfVectorizer(stop_words='english')\n",
    "X = vectorizer.fit_transform(df_review_sample['text'])\n",
    "features = vectorizer.get_feature_names()\n",
    "kmeans = KMeans()\n",
    "kmeans.fit(X)"
   ]
  },
  {
   "cell_type": "code",
   "execution_count": 133,
   "metadata": {},
   "outputs": [
    {
     "name": "stdout",
     "output_type": "stream",
     "text": [
      "\n",
      " cluster centers:\n",
      "[[1.21817797e-03 9.69731505e-05 0.00000000e+00 ... 0.00000000e+00\n",
      "  0.00000000e+00 0.00000000e+00]\n",
      " [1.49307415e-03 3.59392932e-04 0.00000000e+00 ... 5.27509627e-05\n",
      "  5.27509627e-05 4.38914540e-05]\n",
      " [4.65648508e-03 1.70782779e-03 2.08705003e-05 ... 0.00000000e+00\n",
      "  0.00000000e+00 0.00000000e+00]\n",
      " ...\n",
      " [8.46471855e-04 1.47932559e-04 0.00000000e+00 ... 0.00000000e+00\n",
      "  0.00000000e+00 0.00000000e+00]\n",
      " [3.49288765e-04 3.80984531e-04 0.00000000e+00 ... 0.00000000e+00\n",
      "  0.00000000e+00 0.00000000e+00]\n",
      " [1.38903440e-03 3.70473116e-05 0.00000000e+00 ... 0.00000000e+00\n",
      "  0.00000000e+00 0.00000000e+00]]\n"
     ]
    }
   ],
   "source": [
    "# Printing centroids as vectors\n",
    "\n",
    "print(\"\\n cluster centers:\")\n",
    "print(kmeans.cluster_centers_)"
   ]
  },
  {
   "cell_type": "code",
   "execution_count": 134,
   "metadata": {},
   "outputs": [
    {
     "name": "stdout",
     "output_type": "stream",
     "text": [
      "\n",
      " top features (words) for each cluster:\n",
      "0, recommend, job, hair, time, great, highly, friendly, nails, staff, did\n",
      "1, place, like, good, love, just, nice, best, time, great, really\n",
      "2, service, car, told, said, time, customer, minutes, just, asked, called\n",
      "3, pizza, crust, good, great, place, cheese, sauce, order, toppings, wings\n",
      "4, chicken, good, ordered, food, sauce, fries, burger, place, like, salad\n",
      "5, great, food, service, place, friendly, love, good, amazing, atmosphere, staff\n",
      "6, sushi, roll, rolls, good, place, service, fresh, great, tuna, food\n",
      "7, food, good, service, place, restaurant, really, time, delicious, friendly, staff\n"
     ]
    }
   ],
   "source": [
    "# Printing centroids as words\n",
    "# Find the top 10 features for each cluster.\n",
    "top_centroids = kmeans.cluster_centers_.argsort()[:,-1:-11:-1]\n",
    "print(\"\\n top features (words) for each cluster:\")\n",
    "for num, centroid in enumerate(top_centroids):\n",
    "    print(f\"{num}, {', '.join(features[i] for i in centroid)}\")"
   ]
  },
  {
   "cell_type": "code",
   "execution_count": 135,
   "metadata": {},
   "outputs": [
    {
     "name": "stdout",
     "output_type": "stream",
     "text": [
      "\n",
      " top features for each cluster with 1000 max features:\n",
      "0: time, service, did, car, customer, told, said, just, work, called\n",
      "1: chicken, good, ordered, food, sauce, like, place, fries, burger, salad\n",
      "2: love, place, great, food, good, amazing, friendly, service, best, staff\n",
      "3: great, service, food, place, friendly, staff, good, amazing, definitely, time\n",
      "4: pizza, crust, good, great, place, cheese, sauce, order, best, toppings\n",
      "5: food, good, service, place, restaurant, time, really, great, just, like\n",
      "6: sushi, roll, rolls, good, place, service, fresh, great, food, tuna\n",
      "7: place, like, good, just, nice, best, time, staff, ve, really\n"
     ]
    }
   ],
   "source": [
    "# Limit the number of features and see if the words of the topics change.\n",
    "vectorizer = TfidfVectorizer(stop_words='english', max_features=1000)\n",
    "X = vectorizer.fit_transform(df_review_sample['text'])\n",
    "features = vectorizer.get_feature_names()\n",
    "kmeans = KMeans()\n",
    "kmeans.fit(X)\n",
    "top_centroids = kmeans.cluster_centers_.argsort()[:,-1:-11:-1]\n",
    "print(\"\\n top features for each cluster with 1000 max features:\")\n",
    "for num, centroid in enumerate(top_centroids):\n",
    "    print(f\"{num}: {', '.join(features[i] for i in centroid)}\")"
   ]
  },
  {
   "cell_type": "code",
   "execution_count": 136,
   "metadata": {},
   "outputs": [
    {
     "name": "stdout",
     "output_type": "stream",
     "text": [
      "\n",
      " random sample of stars in each cluster\n",
      "cluster 0:\n",
      "    2.0\n",
      "    1.0\n",
      "    1.0\n",
      "cluster 1:\n",
      "    3.0\n",
      "    4.0\n",
      "    4.0\n",
      "cluster 2:\n",
      "    5.0\n",
      "    4.0\n",
      "    5.0\n",
      "cluster 3:\n",
      "    5.0\n",
      "    5.0\n",
      "    5.0\n",
      "cluster 4:\n",
      "    5.0\n",
      "    2.0\n",
      "    5.0\n",
      "cluster 5:\n",
      "    4.0\n",
      "    4.0\n",
      "    3.0\n",
      "cluster 6:\n",
      "    4.0\n",
      "    5.0\n",
      "    1.0\n",
      "cluster 7:\n",
      "    4.0\n",
      "    4.0\n",
      "    1.0\n"
     ]
    }
   ],
   "source": [
    "print(\"\\n random sample of stars in each cluster\")\n",
    "assigned_cluster = kmeans.transform(X).argmin(axis=1)\n",
    "for i in range(kmeans.n_clusters):\n",
    "    cluster = np.arange(0, X.shape[0])[assigned_cluster==i]\n",
    "    sample_reviews = np.random.choice(cluster, 3, replace=False)\n",
    "    print(f\"cluster {i}:\")\n",
    "    for review in sample_reviews:\n",
    "        print(f\"    {df_review_sample.loc[review]['stars']}\")"
   ]
  },
  {
   "cell_type": "code",
   "execution_count": 137,
   "metadata": {},
   "outputs": [],
   "source": [
    "kmeans = KMeans(n_clusters=10)\n",
    "kmeans.fit(X)\n",
    "assigned_cluster = kmeans.transform(X).argmin(axis=1)\n"
   ]
  },
  {
   "cell_type": "code",
   "execution_count": 125,
   "metadata": {},
   "outputs": [
    {
     "name": "stdout",
     "output_type": "stream",
     "text": [
      "Cluster 0:\n",
      "     5.0 (26 reviews)\n",
      "     1.0 (3 reviews)\n",
      "     2.0 (3 reviews)\n",
      "     4.0 (1 reviews)\n",
      "Cluster 1:\n",
      "     5.0 (95 reviews)\n",
      "     4.0 (48 reviews)\n",
      "     3.0 (24 reviews)\n",
      "     2.0 (15 reviews)\n",
      "     1.0 (12 reviews)\n",
      "Cluster 2:\n",
      "     5.0 (58 reviews)\n",
      "     4.0 (25 reviews)\n",
      "     3.0 (4 reviews)\n",
      "     2.0 (2 reviews)\n",
      "Cluster 3:\n",
      "     5.0 (112 reviews)\n",
      "     1.0 (56 reviews)\n",
      "     4.0 (34 reviews)\n",
      "     3.0 (14 reviews)\n",
      "     2.0 (14 reviews)\n",
      "Cluster 4:\n",
      "     1.0 (55 reviews)\n",
      "     4.0 (24 reviews)\n",
      "     5.0 (22 reviews)\n",
      "     2.0 (20 reviews)\n",
      "     3.0 (17 reviews)\n",
      "Cluster 5:\n",
      "     5.0 (14 reviews)\n",
      "     4.0 (12 reviews)\n",
      "     2.0 (5 reviews)\n",
      "     3.0 (3 reviews)\n",
      "     1.0 (3 reviews)\n",
      "Cluster 6:\n",
      "     4.0 (26 reviews)\n",
      "     5.0 (20 reviews)\n",
      "     3.0 (11 reviews)\n",
      "     1.0 (7 reviews)\n",
      "     2.0 (5 reviews)\n",
      "Cluster 7:\n",
      "     5.0 (66 reviews)\n",
      "     4.0 (31 reviews)\n",
      "     1.0 (17 reviews)\n",
      "     2.0 (9 reviews)\n",
      "     3.0 (8 reviews)\n",
      "Cluster 8:\n",
      "     4.0 (17 reviews)\n",
      "     5.0 (17 reviews)\n",
      "     1.0 (9 reviews)\n",
      "     3.0 (9 reviews)\n",
      "     2.0 (4 reviews)\n",
      "Cluster 9:\n",
      "     4.0 (13 reviews)\n",
      "     5.0 (9 reviews)\n",
      "     3.0 (1 reviews)\n"
     ]
    }
   ],
   "source": [
    "for i in range(kmeans.n_clusters):\n",
    "    cluster = np.arange(0, X.shape[0])[assigned_cluster==i]\n",
    "    topics = df_review_sample.loc[cluster].dropna()['stars']\n",
    "    most_common = Counter(topics).most_common()\n",
    "    print(f\"Cluster {i}:\")\n",
    "    for j in range (len(most_common)):\n",
    "        print(f\"     {most_common[j][0]} ({most_common[j][1]} reviews)\")"
   ]
  },
  {
   "cell_type": "code",
   "execution_count": 138,
   "metadata": {},
   "outputs": [],
   "source": [
    "#code to group all the reviews by each business\n",
    "review_df_agg=df_review_sample.groupby('business_id')['text'].sum()\n"
   ]
  },
  {
   "cell_type": "code",
   "execution_count": 139,
   "metadata": {},
   "outputs": [],
   "source": [
    "#renaming the columns business_id for index and all_reviews for all aggregated reviews\n",
    "review_df_for_sklearn=pd.DataFrame({'business_id':review_df_agg.index,'all_reviews':review_df_agg.values})\n",
    "ds"
   ]
  },
  {
   "cell_type": "code",
   "execution_count": 140,
   "metadata": {},
   "outputs": [],
   "source": [
    "#Merging both reviews and business dataframes on column business_id as it the unique and common column for both dataframes\n",
    "review_business=pd.merge(review_df_for_sklearn,df_business,on='business_id',how='left')\n"
   ]
  },
  {
   "cell_type": "code",
   "execution_count": 141,
   "metadata": {},
   "outputs": [
    {
     "data": {
      "text/plain": [
       "(14787, 16)"
      ]
     },
     "execution_count": 141,
     "metadata": {},
     "output_type": "execute_result"
    }
   ],
   "source": [
    "#checking the shape of merged dataframe\n",
    "review_business.shape"
   ]
  },
  {
   "cell_type": "code",
   "execution_count": 148,
   "metadata": {},
   "outputs": [],
   "source": [
    "#as the review_count has different values it needs to be normalized\n",
    "from scipy.stats import zscore\n",
    "\n",
    "review_count_normalized=zscore(review_business['review_count'])\n"
   ]
  },
  {
   "cell_type": "code",
   "execution_count": 149,
   "metadata": {},
   "outputs": [
    {
     "data": {
      "text/plain": [
       "array([ 3.96960576,  0.45829154, -0.48233059, ...,  0.03795903,\n",
       "       -0.18502223, -0.35161743])"
      ]
     },
     "execution_count": 149,
     "metadata": {},
     "output_type": "execute_result"
    }
   ],
   "source": [
    "review_count_normalized"
   ]
  },
  {
   "cell_type": "code",
   "execution_count": 151,
   "metadata": {},
   "outputs": [
    {
     "data": {
      "text/plain": [
       "(14787,)"
      ]
     },
     "execution_count": 151,
     "metadata": {},
     "output_type": "execute_result"
    }
   ],
   "source": [
    "review_count_normalized.shape"
   ]
  },
  {
   "cell_type": "code",
   "execution_count": 153,
   "metadata": {},
   "outputs": [
    {
     "name": "stdout",
     "output_type": "stream",
     "text": [
      "<class 'scipy.sparse.csr.csr_matrix'>\n",
      "[[0.         0.         0.         ... 0.         0.         0.        ]\n",
      " [0.         0.         0.         ... 0.         0.         0.19798269]\n",
      " [0.         0.         0.         ... 0.         0.         0.        ]\n",
      " ...\n",
      " [0.         0.         0.         ... 0.         0.         0.        ]\n",
      " [0.         0.         0.         ... 0.         0.         0.        ]\n",
      " [0.         0.         0.         ... 0.         0.         0.        ]]\n"
     ]
    }
   ],
   "source": [
    "#using tf-idf to do feature extraction from review contents for models\n",
    "import sklearn.feature_extraction.text as sk_text\n",
    "vectorizer=sk_text.TfidfVectorizer(stop_words='english',max_features=1000,min_df=2)\n",
    "matrix=vectorizer.fit_transform(review_business['all_reviews'])\n",
    "\n",
    "print(type(matrix))\n",
    "print(matrix.toarray())\n",
    "\n"
   ]
  },
  {
   "cell_type": "code",
   "execution_count": 154,
   "metadata": {},
   "outputs": [
    {
     "name": "stdout",
     "output_type": "stream",
     "text": [
      "['00', '10', '100', '11', '12', '15', '20', '24', '25', '30', '40', '45', '50', '99', 'able', 'absolutely', 'accommodating', 'actually', 'add', 'added', 'addition', 'affordable', 'afternoon', 'ago', 'ahead', 'air', 'airport', 'amazing', 'ambiance', 'answer', 'anymore', 'apparently', 'appetizer', 'appetizers', 'appointment', 'appreciate', 'area', 'aren', 'arrived', 'asian', 'ask', 'asked', 'asking', 'ate', 'atmosphere', 'attention', 'attentive', 'attitude', 'authentic', 'available', 'average', 'avocado', 'avoid', 'away', 'awesome', 'awful', 'baby', 'bacon', 'bad', 'bag', 'baked', 'bar', 'barely', 'bartender', 'based', 'basically', 'bathroom', 'bbq', 'beans', 'beautiful', 'bed', 'beef', 'beer', 'beers', 'believe', 'best', 'better', 'big', 'birthday', 'bit', 'bite', 'black', 'bland', 'blue', 'book', 'bottle', 'bought', 'bowl', 'box', 'boyfriend', 'bread', 'break', 'breakfast', 'bring', 'broth', 'brought', 'brunch', 'buffet', 'building', 'bun', 'burger', 'burgers', 'burrito', 'business', 'busy', 'butter', 'buy', 'cafe', 'cake', 'called', 'came', 'car', 'card', 'care', 'case', 'cash', 'cashier', 'casino', 'cause', 'center', 'certainly', 'chain', 'chairs', 'chance', 'change', 'changed', 'charge', 'charged', 'charlotte', 'cheap', 'check', 'checked', 'checking', 'cheese', 'chef', 'chicken', 'chili', 'chinese', 'chips', 'chocolate', 'choice', 'choices', 'choose', 'chose', 'city', 'class', 'clean', 'cleaned', 'cleaning', 'clear', 'clearly', 'close', 'closed', 'club', 'cocktail', 'coffee', 'cold', 'color', 'combo', 'come', 'comes', 'comfortable', 'coming', 'company', 'compared', 'complaint', 'complete', 'completely', 'considering', 'contact', 'convenient', 'conversation', 'cook', 'cooked', 'cool', 'corn', 'corner', 'cost', 'couldn', 'counter', 'couple', 'course', 'cover', 'crab', 'craving', 'crazy', 'cream', 'creamy', 'credit', 'crispy', 'crowd', 'crowded', 'crust', 'cup', 'curry', 'customer', 'customers', 'cut', 'cute', 'dark', 'date', 'daughter', 'day', 'days', 'deal', 'decent', 'decided', 'decor', 'deep', 'definitely', 'delicious', 'delivered', 'delivery', 'desk', 'despite', 'dessert', 'desserts', 'did', 'didn', 'die', 'different', 'dining', 'dinner', 'dip', 'dirty', 'disappointed', 'disappointing', 'discount', 'dish', 'dishes', 'doctor', 'does', 'doesn', 'dog', 'dogs', 'doing', 'dollars', 'don', 'dont', 'door', 'double', 'downtown', 'dr', 'dress', 'dressing', 'drink', 'drinks', 'drive', 'dry', 'duck', 'early', 'easily', 'easy', 'eat', 'eaten', 'eating', 'efficient', 'egg', 'eggs', 'email', 'employee', 'employees', 'end', 'ended', 'enjoy', 'enjoyed', 'entire', 'entree', 'environment', 'especially', 'establishment', 'evening', 'event', 'exactly', 'excellent', 'excited', 'expect', 'expectations', 'expected', 'expecting', 'expensive', 'experience', 'experienced', 'explained', 'extra', 'extremely', 'eye', 'face', 'fact', 'fair', 'fairly', 'family', 'fan', 'fancy', 'fantastic', 'far', 'fast', 'favorite', 'fee', 'feel', 'feeling', 'felt', 'filled', 'filling', 'finally', 'fine', 'finish', 'finished', 'fish', 'fix', 'fixed', 'flavor', 'flavorful', 'flavors', 'floor', 'food', 'foods', 'forever', 'forget', 'forgot', 'forward', 'free', 'french', 'fresh', 'friday', 'fried', 'friend', 'friendly', 'friends', 'fries', 'frozen', 'fruit', 'fun', 'future', 'game', 'games', 'garlic', 'gave', 'gem', 'general', 'generous', 'gets', 'getting', 'girl', 'girls', 'given', 'giving', 'glad', 'glass', 'goes', 'going', 'gone', 'good', 'got', 'gotten', 'grab', 'greasy', 'great', 'green', 'greeted', 'grill', 'grilled', 'group', 'groupon', 'guess', 'guests', 'guy', 'guys', 'gym', 'hair', 'half', 'hand', 'hands', 'happen', 'happened', 'happy', 'hard', 'hate', 'haven', 'having', 'head', 'healthy', 'hear', 'heard', 'heat', 'help', 'helped', 'helpful', 'high', 'higher', 'highly', 'hit', 'hold', 'home', 'homemade', 'honest', 'honestly', 'hope', 'horrible', 'hostess', 'hot', 'hotel', 'hour', 'hours', 'house', 'huge', 'hungry', 'husband', 'ice', 'idea', 'immediately', 'impressed', 'included', 'including', 'incredible', 'incredibly', 'indian', 'ingredients', 'inside', 'instead', 'insurance', 'interesting', 'interior', 'isn', 'issue', 'issues', 'italian', 'item', 'items', 'job', 'joint', 'juicy', 'just', 'kept', 'kids', 'kind', 'kinda', 'kitchen', 'knew', 'know', 'knowledgeable', 'knows', 'korean', 'la', 'lack', 'ladies', 'lady', 'lamb', 'large', 'las', 'late', 'later', 'leave', 'leaving', 'left', 'let', 'lettuce', 'level', 'life', 'light', 'like', 'liked', 'limited', 'line', 'list', 'literally', 'little', 'live', 'lived', 'living', 'll', 'lobster', 'local', 'located', 'location', 'locations', 'lol', 'long', 'longer', 'look', 'looked', 'looking', 'looks', 'lost', 'lot', 'lots', 'loud', 'lounge', 'love', 'loved', 'lovely', 'low', 'lunch', 'mac', 'machine', 'main', 'make', 'makes', 'making', 'mall', 'man', 'management', 'manager', 'market', 'massage', 'matter', 'maybe', 'meal', 'meals', 'mean', 'means', 'meat', 'meats', 'mediocre', 'medium', 'meet', 'mention', 'mentioned', 'menu', 'met', 'mexican', 'middle', 'milk', 'min', 'mind', 'mini', 'mins', 'minute', 'minutes', 'miss', 'missing', 'mix', 'mixed', 'modern', 'mom', 'monday', 'money', 'month', 'months', 'morning', 'mouth', 'moved', 'moving', 'multiple', 'music', 'nail', 'nails', 'near', 'nearly', 'need', 'needed', 'needs', 'negative', 'neighborhood', 'new', 'nice', 'nicely', 'night', 'nights', 'non', 'noodle', 'noodles', 'normal', 'normally', 'notch', 'note', 'notice', 'noticed', 'number', 'obviously', 'offer', 'offered', 'offers', 'office', 'oh', 'oil', 'ok', 'okay', 'old', 'ones', 'onion', 'onions', 'online', 'open', 'opened', 'opinion', 'option', 'options', 'orange', 'order', 'ordered', 'ordering', 'orders', 'original', 'outdoor', 'outside', 'outstanding', 'overall', 'overly', 'overpriced', 'owner', 'owners', 'packed', 'paid', 'pain', 'pancakes', 'paper', 'park', 'parking', 'party', 'pass', 'past', 'pasta', 'patient', 'patio', 'pay', 'paying', 'people', 'perfect', 'perfection', 'perfectly', 'person', 'personal', 'pho', 'phoenix', 'phone', 'pick', 'picked', 'picture', 'pictures', 'pie', 'piece', 'pieces', 'pizza', 'place', 'placed', 'places', 'plan', 'plate', 'plates', 'play', 'playing', 'pleasant', 'pleased', 'plenty', 'plus', 'pm', 'point', 'polite', 'pool', 'poor', 'pork', 'portion', 'portions', 'positive', 'possible', 'potato', 'potatoes', 'prefer', 'prepared', 'pretty', 'previous', 'price', 'priced', 'prices', 'pricey', 'pricing', 'prime', 'probably', 'problem', 'problems', 'process', 'product', 'products', 'professional', 'provided', 'pulled', 'purchase', 'purchased', 'quality', 'questions', 'quick', 'quickly', 'quiet', 'quite', 'ramen', 'rare', 'rating', 'read', 'ready', 'real', 'really', 'reason', 'reasonable', 'reasonably', 'received', 'recently', 'recommend', 'recommended', 'red', 'regular', 'remember', 'repair', 'reservation', 'reservations', 'rest', 'restaurant', 'restaurants', 'return', 'returned', 'returning', 'review', 'reviews', 'rib', 'ribs', 'rice', 'right', 'rock', 'roll', 'rolls', 'room', 'rooms', 'rude', 'run', 'running', 'rush', 'sad', 'said', 'salad', 'salads', 'sales', 'salmon', 'salon', 'salsa', 'salt', 'salty', 'sandwich', 'sandwiches', 'sat', 'satisfied', 'saturday', 'sauce', 'sauces', 'sausage', 'save', 'saw', 'say', 'saying', 'says', 'school', 'scottsdale', 'seafood', 'seasoned', 'seat', 'seated', 'seating', 'seats', 'second', 'section', 'seeing', 'seen', 'selection', 'sell', 'sent', 'seriously', 'serve', 'served', 'server', 'servers', 'service', 'services', 'serving', 'set', 'share', 'shared', 'shop', 'shopping', 'shops', 'short', 'shot', 'showed', 'shows', 'shrimp', 'sides', 'sign', 'similar', 'simple', 'simply', 'single', 'sit', 'sitting', 'situation', 'size', 'sized', 'skin', 'slice', 'slightly', 'slow', 'small', 'smaller', 'smell', 'smile', 'soft', 'solid', 'son', 'soon', 'sorry', 'sort', 'soup', 'sour', 'space', 'speak', 'special', 'specials', 'spend', 'spent', 'spice', 'spicy', 'split', 'spot', 'spring', 'staff', 'stand', 'standard', 'star', 'stars', 'start', 'started', 'station', 'stay', 'stayed', 'staying', 'steak', 'stop', 'stopped', 'store', 'stores', 'straight', 'street', 'strip', 'stuff', 'stuffed', 'style', 'summer', 'sunday', 'super', 'supposed', 'sure', 'surprise', 'surprised', 'sushi', 'sweet', 'table', 'tables', 'taco', 'tacos', 'taken', 'takes', 'taking', 'talk', 'talking', 'taste', 'tasted', 'tastes', 'tasting', 'tasty', 'tea', 'team', 'tell', 'tender', 'terrible', 'texture', 'thai', 'thank', 'thanks', 'thing', 'things', 'think', 'thinking', 'thought', 'time', 'times', 'tiny', 'tip', 'toast', 'today', 'told', 'tomato', 'tonight', 'took', 'toppings', 'toronto', 'total', 'totally', 'touch', 'town', 'traditional', 'treat', 'treated', 'tried', 'trip', 'truck', 'true', 'truly', 'trust', 'try', 'trying', 'tuna', 'turn', 'turned', 'tv', 'twice', 'type', 'typical', 'understand', 'unfortunately', 'unique', 'unless', 'update', 'use', 'used', 'using', 'usual', 'usually', 'valley', 'value', 'variety', 've', 'vegan', 'vegas', 'vegetarian', 'veggie', 'veggies', 'vehicle', 'vibe', 'view', 'visit', 'visited', 'visiting', 'wait', 'waited', 'waiter', 'waiting', 'waitress', 'walk', 'walked', 'walking', 'wall', 'want', 'wanted', 'warm', 'wash', 'wasn', 'waste', 'watch', 'watching', 'water', 'way', 'wedding', 'week', 'weekend', 'weeks', 'weird', 'welcoming', 'went', 'weren', 'west', 'white', 'wife', 'willing', 'window', 'wine', 'wings', 'wish', 'woman', 'won', 'wonderful', 'word', 'work', 'worked', 'workers', 'working', 'works', 'world', 'worse', 'worst', 'worth', 'wouldn', 'wow', 'write', 'wrong', 'yeah', 'year', 'years', 'yelp', 'yes', 'yesterday', 'young', 'yum', 'yummy']\n"
     ]
    }
   ],
   "source": [
    "print(vectorizer.get_feature_names())"
   ]
  },
  {
   "cell_type": "code",
   "execution_count": 155,
   "metadata": {},
   "outputs": [],
   "source": [
    "#converting the matrix to array format\n",
    "tfif_data=matrix.toarray()\n"
   ]
  },
  {
   "cell_type": "code",
   "execution_count": 156,
   "metadata": {},
   "outputs": [
    {
     "data": {
      "text/plain": [
       "(14787, 1000)"
      ]
     },
     "execution_count": 156,
     "metadata": {},
     "output_type": "execute_result"
    }
   ],
   "source": [
    "#know the shape of the previous array\n",
    "tfif_data.shape"
   ]
  },
  {
   "cell_type": "code",
   "execution_count": 158,
   "metadata": {},
   "outputs": [
    {
     "data": {
      "text/plain": [
       "array([[ 0.        ,  0.        ,  0.        , ...,  0.        ,\n",
       "         0.        ,  3.96960576],\n",
       "       [ 0.        ,  0.        ,  0.        , ...,  0.        ,\n",
       "         0.19798269,  0.45829154],\n",
       "       [ 0.        ,  0.        ,  0.        , ...,  0.        ,\n",
       "         0.        , -0.48233059],\n",
       "       ...,\n",
       "       [ 0.        ,  0.        ,  0.        , ...,  0.        ,\n",
       "         0.        ,  0.03795903],\n",
       "       [ 0.        ,  0.        ,  0.        , ...,  0.        ,\n",
       "         0.        , -0.18502223],\n",
       "       [ 0.        ,  0.        ,  0.        , ...,  0.        ,\n",
       "         0.        , -0.35161743]])"
      ]
     },
     "execution_count": 158,
     "metadata": {},
     "output_type": "execute_result"
    }
   ],
   "source": [
    "#merging review_count and tfid_data arrays\n",
    "concat_matrix=np.column_stack((tfif_data,review_count_normalized))\n",
    "concat_matrix"
   ]
  },
  {
   "cell_type": "markdown",
   "metadata": {},
   "source": [
    "# Models\n",
    "\n",
    "## Linear Regression\n"
   ]
  },
  {
   "cell_type": "code",
   "execution_count": 160,
   "metadata": {},
   "outputs": [
    {
     "name": "stdout",
     "output_type": "stream",
     "text": [
      "(11829, 1001)\n",
      "(2958, 1001)\n"
     ]
    }
   ],
   "source": [
    "#applying linear regression model by giving X as concat matrix and y as stars column\n",
    "\n",
    "# import the class\n",
    "from sklearn.linear_model import LinearRegression\n",
    "from sklearn.model_selection import train_test_split\n",
    "from sklearn import metrics\n",
    "\n",
    "X=concat_matrix\n",
    "y=review_business['stars']\n",
    "\n",
    "#dividing the data in to training and test dataset\n",
    "X_train, X_test, y_train, y_test = train_test_split(X,y,test_size=.2,random_state =1)\n",
    "print(X_train.shape)\n",
    "print(X_test.shape)"
   ]
  },
  {
   "cell_type": "code",
   "execution_count": 161,
   "metadata": {},
   "outputs": [
    {
     "name": "stdout",
     "output_type": "stream",
     "text": [
      "Final score (MSE): 0.47698708945704993\n",
      "Final score (RMSE): 0.6906425192942076\n"
     ]
    }
   ],
   "source": [
    "# instantiate the model (using the default parameters)\n",
    "lr=LinearRegression()\n",
    "\n",
    "# fit the model with data\n",
    "lr.fit(X_train,y_train)\n",
    "\n",
    "pred = lr.predict(X_test)\n",
    "\n",
    "score = metrics.mean_squared_error(pred,y_test)\n",
    "print(\"Final score (MSE): {}\".format(score))\n",
    "\n",
    "# Measure RMSE error.  RMSE is common for regression.\n",
    "score = np.sqrt(metrics.mean_squared_error(pred,y_test))\n",
    "print(\"Final score (RMSE): {}\".format(score))"
   ]
  },
  {
   "cell_type": "markdown",
   "metadata": {},
   "source": [
    "# Classification Models"
   ]
  },
  {
   "cell_type": "code",
   "execution_count": 162,
   "metadata": {},
   "outputs": [],
   "source": [
    "from sklearn import preprocessing\n",
    "\n",
    "#one hot encoding on stars column \n",
    "le = preprocessing.LabelEncoder()\n",
    "le.fit(review_business['stars'])\n",
    "\n",
    "list(le.classes_)\n",
    "\n",
    "y = le.transform(review_business['stars'])"
   ]
  },
  {
   "cell_type": "code",
   "execution_count": 163,
   "metadata": {},
   "outputs": [],
   "source": [
    "#splitting the data in to training and test datasets\n",
    "X_train, X_test,y_train,y_test = train_test_split(concat_matrix,y,test_size=0.25,random_state=1)"
   ]
  },
  {
   "cell_type": "markdown",
   "metadata": {},
   "source": [
    "## Support Vector Machine Model"
   ]
  },
  {
   "cell_type": "code",
   "execution_count": 164,
   "metadata": {},
   "outputs": [],
   "source": [
    "from sklearn.svm import SVC\n",
    "\n",
    "clf = SVC()\n",
    "clf.fit(X_train,y_train)\n",
    "y_pred=clf.predict(X_test)"
   ]
  },
  {
   "cell_type": "code",
   "execution_count": 165,
   "metadata": {},
   "outputs": [
    {
     "name": "stdout",
     "output_type": "stream",
     "text": [
      "Accuracy of SVM on test set: 0.33\n"
     ]
    }
   ],
   "source": [
    "from sklearn import metrics\n",
    "import matplotlib.pyplot as plt\n",
    "print('Accuracy of SVM on test set: {:.2f}'.format(clf.score(X_test, y_test)))"
   ]
  },
  {
   "cell_type": "markdown",
   "metadata": {},
   "source": [
    "## Nearest Neighbor Model"
   ]
  },
  {
   "cell_type": "code",
   "execution_count": 166,
   "metadata": {},
   "outputs": [],
   "source": [
    "#knn classfrom sklearn.neighbors import KNeighborsClassifierifier\n",
    "from sklearn.neighbors import KNeighborsClassifier\n",
    "\n",
    "knn = KNeighborsClassifier(n_neighbors=1)\n",
    "knn.fit(X_train, y_train)\n",
    "y_pred = knn.predict(X_test)"
   ]
  },
  {
   "cell_type": "code",
   "execution_count": 167,
   "metadata": {},
   "outputs": [
    {
     "name": "stdout",
     "output_type": "stream",
     "text": [
      "Accuracy of nearest neighbor classifier on test set: 0.22\n"
     ]
    }
   ],
   "source": [
    "from sklearn import metrics\n",
    "print('Accuracy of nearest neighbor classifier on test set: {:.2f}'.format(knn.score(X_test, y_test)))"
   ]
  },
  {
   "cell_type": "markdown",
   "metadata": {},
   "source": [
    "## Logistic Regression"
   ]
  },
  {
   "cell_type": "code",
   "execution_count": 168,
   "metadata": {},
   "outputs": [
    {
     "name": "stderr",
     "output_type": "stream",
     "text": [
      "/Users/saehuh/opt/anaconda3/lib/python3.7/site-packages/sklearn/linear_model/_logistic.py:940: ConvergenceWarning: lbfgs failed to converge (status=1):\n",
      "STOP: TOTAL NO. of ITERATIONS REACHED LIMIT.\n",
      "\n",
      "Increase the number of iterations (max_iter) or scale the data as shown in:\n",
      "    https://scikit-learn.org/stable/modules/preprocessing.html\n",
      "Please also refer to the documentation for alternative solver options:\n",
      "    https://scikit-learn.org/stable/modules/linear_model.html#logistic-regression\n",
      "  extra_warning_msg=_LOGISTIC_SOLVER_CONVERGENCE_MSG)\n"
     ]
    },
    {
     "data": {
      "text/plain": [
       "LogisticRegression(C=1.0, class_weight=None, dual=False, fit_intercept=True,\n",
       "                   intercept_scaling=1, l1_ratio=None, max_iter=100,\n",
       "                   multi_class='auto', n_jobs=None, penalty='l2',\n",
       "                   random_state=None, solver='lbfgs', tol=0.0001, verbose=0,\n",
       "                   warm_start=False)"
      ]
     },
     "execution_count": 168,
     "metadata": {},
     "output_type": "execute_result"
    }
   ],
   "source": [
    "#logistic Regression\n",
    "\n",
    "# import the class\n",
    "from sklearn.linear_model import LogisticRegression\n",
    "\n",
    "# instantiate the model (using the default parameters)\n",
    "logreg = LogisticRegression()\n",
    "\n",
    "# fit the model with data\n",
    "logreg.fit(X_train, y_train)"
   ]
  },
  {
   "cell_type": "code",
   "execution_count": 169,
   "metadata": {},
   "outputs": [
    {
     "name": "stdout",
     "output_type": "stream",
     "text": [
      "Accuracy of logistic regression classifier on test set: 0.32\n"
     ]
    }
   ],
   "source": [
    "from sklearn import metrics\n",
    "y_pred = logreg.predict(X_test)\n",
    "print('Accuracy of logistic regression classifier on test set: {:.2f}'.format(logreg.score(X_test, y_test))) \n"
   ]
  },
  {
   "cell_type": "markdown",
   "metadata": {},
   "source": [
    "## Min-Max Normalization for Multionominal Naive Bayes as it does not take negative values which happens in z-score normalization."
   ]
  },
  {
   "cell_type": "code",
   "execution_count": 173,
   "metadata": {},
   "outputs": [],
   "source": [
    "minmax=review_business['review_count'].max()-review_business['review_count'].min()\n",
    "nmn_reviewcount=(review_business['review_count']-review_business['review_count'].min())/minmax\n",
    "nmn_rc_nparray=nmn_reviewcount.values\n",
    "nmn_rc_nparray.shape\n",
    "import numpy as np\n",
    "concat_matrix=np.column_stack((tfif_data,nmn_rc_nparray))\n",
    "X=concat_matrix"
   ]
  },
  {
   "cell_type": "markdown",
   "metadata": {},
   "source": [
    "## Multi-Nominal Naive Bayes Model\n"
   ]
  },
  {
   "cell_type": "code",
   "execution_count": 174,
   "metadata": {},
   "outputs": [
    {
     "data": {
      "text/plain": [
       "MultinomialNB(alpha=1.0, class_prior=None, fit_prior=True)"
      ]
     },
     "execution_count": 174,
     "metadata": {},
     "output_type": "execute_result"
    }
   ],
   "source": [
    "from sklearn.naive_bayes import MultinomialNB\n",
    "clf=MultinomialNB()\n",
    "X_train,X_test,y_train,y_test= train_test_split(X,y,test_size=0.3,random_state=0)\n",
    "\n",
    "clf.fit(X_train,y_train)\n"
   ]
  },
  {
   "cell_type": "code",
   "execution_count": 175,
   "metadata": {},
   "outputs": [
    {
     "name": "stdout",
     "output_type": "stream",
     "text": [
      "Accuracy of Multinomial on test set: 0.31\n"
     ]
    }
   ],
   "source": [
    "from sklearn.metrics import confusion_matrix\n",
    "from sklearn.metrics import classification_report\n",
    "import matplotlib.pyplot as plt\n",
    "\n",
    "y_pred=clf.predict(X_test)\n",
    "print('Accuracy of Multinomial on test set: {:.2f}'.format(clf.score(X_test, y_test)))"
   ]
  },
  {
   "cell_type": "markdown",
   "metadata": {},
   "source": [
    "# Tensofflow Regression"
   ]
  },
  {
   "cell_type": "code",
   "execution_count": 177,
   "metadata": {},
   "outputs": [
    {
     "name": "stdout",
     "output_type": "stream",
     "text": [
      "Tensor Flow Version: 2.3.1\n"
     ]
    }
   ],
   "source": [
    "import tensorflow as tf\n",
    "print(\"Tensor Flow Version: {}\".format(tf.__version__))"
   ]
  },
  {
   "cell_type": "code",
   "execution_count": 179,
   "metadata": {},
   "outputs": [],
   "source": [
    "import io\n",
    "import requests\n",
    "import os\n",
    "from sklearn.model_selection import train_test_split\n",
    "from sklearn import preprocessing\n",
    "from sklearn import metrics\n",
    "from keras.models import Sequential\n",
    "from keras.layers.core import Dense, Activation\n",
    "from keras.callbacks import EarlyStopping\n",
    "from keras.callbacks import ModelCheckpoint\n",
    "\n",
    "x=concat_matrix\n",
    "\n",
    "le = preprocessing.LabelEncoder()\n",
    "le.fit(review_business['stars'])\n",
    "\n",
    "list(le.classes_)\n",
    "\n",
    "y = le.transform(review_business['stars'])\n",
    "\n",
    "# Split into train/test\n",
    "x_train, x_test, y_train, y_test = train_test_split(x, y, test_size=0.25, random_state=42)"
   ]
  },
  {
   "cell_type": "code",
   "execution_count": 185,
   "metadata": {},
   "outputs": [
    {
     "name": "stdout",
     "output_type": "stream",
     "text": [
      "Epoch 1/100\n",
      "463/463 - 1s - loss: 7.7454\n",
      "Epoch 2/100\n",
      "463/463 - 1s - loss: 2.0308\n",
      "Epoch 3/100\n",
      "463/463 - 1s - loss: 1.8051\n",
      "Epoch 4/100\n",
      "463/463 - 1s - loss: 1.7463\n",
      "Epoch 5/100\n",
      "463/463 - 1s - loss: 1.7065\n",
      "Epoch 6/100\n",
      "463/463 - 1s - loss: 1.6354\n",
      "Epoch 7/100\n",
      "463/463 - 0s - loss: 1.5253\n",
      "Epoch 8/100\n",
      "463/463 - 1s - loss: 1.3935\n",
      "Epoch 9/100\n",
      "463/463 - 1s - loss: 1.2484\n",
      "Epoch 10/100\n",
      "463/463 - 1s - loss: 1.1183\n",
      "Epoch 11/100\n",
      "463/463 - 1s - loss: 1.0096\n",
      "Epoch 12/100\n",
      "463/463 - 1s - loss: 0.9263\n",
      "Epoch 13/100\n",
      "463/463 - 1s - loss: 0.8577\n",
      "Epoch 14/100\n",
      "463/463 - 1s - loss: 0.8018\n",
      "Epoch 15/100\n",
      "463/463 - 0s - loss: 0.7576\n",
      "Epoch 16/100\n",
      "463/463 - 1s - loss: 0.7173\n",
      "Epoch 17/100\n",
      "463/463 - 1s - loss: 0.6838\n",
      "Epoch 18/100\n",
      "463/463 - 1s - loss: 0.6547\n",
      "Epoch 19/100\n",
      "463/463 - 1s - loss: 0.6280\n",
      "Epoch 20/100\n",
      "463/463 - 1s - loss: 0.6032\n",
      "Epoch 21/100\n",
      "463/463 - 1s - loss: 0.5809\n",
      "Epoch 22/100\n",
      "463/463 - 1s - loss: 0.5597\n",
      "Epoch 23/100\n",
      "463/463 - 1s - loss: 0.5412\n",
      "Epoch 24/100\n",
      "463/463 - 1s - loss: 0.5213\n",
      "Epoch 25/100\n",
      "463/463 - 1s - loss: 0.5041\n",
      "Epoch 26/100\n",
      "463/463 - 1s - loss: 0.4891\n",
      "Epoch 27/100\n",
      "463/463 - 0s - loss: 0.4715\n",
      "Epoch 28/100\n",
      "463/463 - 1s - loss: 0.4588\n",
      "Epoch 29/100\n",
      "463/463 - 1s - loss: 0.4457\n",
      "Epoch 30/100\n",
      "463/463 - 1s - loss: 0.4307\n",
      "Epoch 31/100\n",
      "463/463 - 1s - loss: 0.4175\n",
      "Epoch 32/100\n",
      "463/463 - 1s - loss: 0.4054\n",
      "Epoch 33/100\n",
      "463/463 - 0s - loss: 0.3959\n",
      "Epoch 34/100\n",
      "463/463 - 1s - loss: 0.3848\n",
      "Epoch 35/100\n",
      "463/463 - 1s - loss: 0.3688\n",
      "Epoch 36/100\n",
      "463/463 - 1s - loss: 0.3588\n",
      "Epoch 37/100\n",
      "463/463 - 0s - loss: 0.3521\n",
      "Epoch 38/100\n",
      "463/463 - 1s - loss: 0.3379\n",
      "Epoch 39/100\n",
      "463/463 - 1s - loss: 0.3285\n",
      "Epoch 40/100\n",
      "463/463 - 1s - loss: 0.3165\n",
      "Epoch 41/100\n",
      "463/463 - 1s - loss: 0.3045\n",
      "Epoch 42/100\n",
      "463/463 - 0s - loss: 0.2975\n",
      "Epoch 43/100\n",
      "463/463 - 1s - loss: 0.2917\n",
      "Epoch 44/100\n",
      "463/463 - 0s - loss: 0.2774\n",
      "Epoch 45/100\n",
      "463/463 - 0s - loss: 0.2719\n",
      "Epoch 46/100\n",
      "463/463 - 1s - loss: 0.2605\n",
      "Epoch 47/100\n",
      "463/463 - 1s - loss: 0.2583\n",
      "Epoch 48/100\n",
      "463/463 - 1s - loss: 0.2468\n",
      "Epoch 49/100\n",
      "463/463 - 0s - loss: 0.2414\n",
      "Epoch 50/100\n",
      "463/463 - 1s - loss: 0.2351\n",
      "Epoch 51/100\n",
      "463/463 - 1s - loss: 0.2323\n",
      "Epoch 52/100\n",
      "463/463 - 1s - loss: 0.2255\n",
      "Epoch 53/100\n",
      "463/463 - 0s - loss: 0.2212\n",
      "Epoch 54/100\n",
      "463/463 - 1s - loss: 0.2142\n",
      "Epoch 55/100\n",
      "463/463 - 0s - loss: 0.2080\n",
      "Epoch 56/100\n",
      "463/463 - 0s - loss: 0.2038\n",
      "Epoch 57/100\n",
      "463/463 - 1s - loss: 0.2041\n",
      "Epoch 58/100\n",
      "463/463 - 0s - loss: 0.1979\n",
      "Epoch 59/100\n",
      "463/463 - 1s - loss: 0.1935\n",
      "Epoch 60/100\n",
      "463/463 - 1s - loss: 0.1873\n",
      "Epoch 61/100\n",
      "463/463 - 1s - loss: 0.1829\n",
      "Epoch 62/100\n",
      "463/463 - 1s - loss: 0.1795\n",
      "Epoch 63/100\n",
      "463/463 - 1s - loss: 0.1782\n",
      "Epoch 64/100\n",
      "463/463 - 1s - loss: 0.1751\n",
      "Epoch 65/100\n",
      "463/463 - 1s - loss: 0.1752\n",
      "Epoch 66/100\n",
      "463/463 - 1s - loss: 0.1701\n",
      "Epoch 67/100\n",
      "463/463 - 1s - loss: 0.1666\n",
      "Epoch 68/100\n",
      "463/463 - 1s - loss: 0.1602\n",
      "Epoch 69/100\n",
      "463/463 - 1s - loss: 0.1590\n",
      "Epoch 70/100\n",
      "463/463 - 1s - loss: 0.1595\n",
      "Epoch 71/100\n",
      "463/463 - 1s - loss: 0.1558\n",
      "Epoch 72/100\n",
      "463/463 - 1s - loss: 0.1548\n",
      "Epoch 73/100\n",
      "463/463 - 1s - loss: 0.1532\n",
      "Epoch 74/100\n",
      "463/463 - 1s - loss: 0.1484\n",
      "Epoch 75/100\n",
      "463/463 - 1s - loss: 0.1458\n",
      "Epoch 76/100\n",
      "463/463 - 1s - loss: 0.1441\n",
      "Epoch 77/100\n",
      "463/463 - 1s - loss: 0.1414\n",
      "Epoch 78/100\n",
      "463/463 - 1s - loss: 0.1375\n",
      "Epoch 79/100\n",
      "463/463 - 1s - loss: 0.1373\n",
      "Epoch 80/100\n",
      "463/463 - 1s - loss: 0.1367\n",
      "Epoch 81/100\n",
      "463/463 - 1s - loss: 0.1333\n",
      "Epoch 82/100\n",
      "463/463 - 1s - loss: 0.1294\n",
      "Epoch 83/100\n",
      "463/463 - 0s - loss: 0.1289\n",
      "Epoch 84/100\n",
      "463/463 - 1s - loss: 0.1312\n",
      "Epoch 85/100\n",
      "463/463 - 1s - loss: 0.1279\n",
      "Epoch 86/100\n",
      "463/463 - 1s - loss: 0.1256\n",
      "Epoch 87/100\n",
      "463/463 - 1s - loss: 0.1226\n",
      "Epoch 88/100\n",
      "463/463 - 1s - loss: 0.1238\n",
      "Epoch 89/100\n",
      "463/463 - 1s - loss: 0.1182\n",
      "Epoch 90/100\n",
      "463/463 - 1s - loss: 0.1168\n",
      "Epoch 91/100\n",
      "463/463 - 1s - loss: 0.1176\n",
      "Epoch 92/100\n",
      "463/463 - 1s - loss: 0.1149\n",
      "Epoch 93/100\n",
      "463/463 - 1s - loss: 0.1168\n",
      "Epoch 94/100\n",
      "463/463 - 1s - loss: 0.1152\n",
      "Epoch 95/100\n",
      "463/463 - 1s - loss: 0.1110\n",
      "Epoch 96/100\n",
      "463/463 - 1s - loss: 0.1083\n",
      "Epoch 97/100\n",
      "463/463 - 1s - loss: 0.1078\n",
      "Epoch 98/100\n",
      "463/463 - 1s - loss: 0.1093\n",
      "Epoch 99/100\n",
      "463/463 - 1s - loss: 0.1097\n",
      "Epoch 100/100\n",
      "463/463 - 1s - loss: 0.1050\n",
      "Shape: (14787, 1)\n",
      "[[5.953715 ]\n",
      " [5.8572187]\n",
      " [7.135842 ]\n",
      " ...\n",
      " [6.115957 ]\n",
      " [6.9937625]\n",
      " [5.0160418]]\n",
      "Final score (RMSE): 0.30036420735604\n"
     ]
    }
   ],
   "source": [
    "from keras.models import Sequential\n",
    "from keras.layers.core import Dense, Activation\n",
    "import io\n",
    "import requests\n",
    "from sklearn import metrics\n",
    "\n",
    "model = Sequential()\n",
    "\n",
    "model.add(Dense(25, input_dim=x.shape[1], activation='relu')) # Hidden 1     #  why input_dim=x.shape[1]?  \n",
    "model.add(Dense(10, activation='relu')) # Hidden 2\n",
    "model.add(Dense(1)) # Output\n",
    "\n",
    "model.compile(loss='mean_squared_error', optimizer='adam')\n",
    "\n",
    "model.fit(x,y,verbose=2,epochs=100)    # Verbosity mode. 0 = silent, 1 = progress bar, 2 = one line per epoch.\n",
    "\n",
    "pred = model.predict(x)\n",
    "print(\"Shape: {}\".format(pred.shape))\n",
    "print(pred)\n",
    "\n",
    "# Measure RMSE error.  RMSE is common for regression.\n",
    "score = np.sqrt(metrics.mean_squared_error(pred,y))\n",
    "print(\"Final score (RMSE): {}\".format(score))"
   ]
  },
  {
   "cell_type": "code",
   "execution_count": 186,
   "metadata": {},
   "outputs": [
    {
     "name": "stdout",
     "output_type": "stream",
     "text": [
      "0\n",
      "Epoch 1/100\n",
      "347/347 - 1s - loss: 3.1664 - val_loss: 2.0237\n",
      "Epoch 2/100\n",
      "347/347 - 1s - loss: 1.8063 - val_loss: 2.0667\n",
      "Epoch 3/100\n",
      "347/347 - 1s - loss: 1.6751 - val_loss: 2.0124\n",
      "Epoch 4/100\n",
      "347/347 - 1s - loss: 1.5059 - val_loss: 2.0147\n",
      "Epoch 5/100\n",
      "347/347 - 1s - loss: 1.2698 - val_loss: 2.2473\n",
      "Epoch 6/100\n",
      "347/347 - 1s - loss: 1.0106 - val_loss: 2.3170\n",
      "Epoch 7/100\n",
      "347/347 - 1s - loss: 0.7468 - val_loss: 2.4360\n",
      "Epoch 8/100\n",
      "347/347 - 1s - loss: 0.5581 - val_loss: 2.5004\n",
      "Epoch 00008: early stopping\n",
      "1\n",
      "Epoch 1/100\n",
      "347/347 - 1s - loss: 3.2502 - val_loss: 2.1509\n",
      "Epoch 2/100\n",
      "347/347 - 1s - loss: 1.8366 - val_loss: 1.9739\n",
      "Epoch 3/100\n",
      "347/347 - 1s - loss: 1.7349 - val_loss: 2.0728\n",
      "Epoch 4/100\n",
      "347/347 - 1s - loss: 1.6201 - val_loss: 2.1159\n",
      "Epoch 5/100\n",
      "347/347 - 1s - loss: 1.4618 - val_loss: 2.0564\n",
      "Epoch 6/100\n",
      "347/347 - 1s - loss: 1.2590 - val_loss: 2.2885\n",
      "Epoch 7/100\n",
      "347/347 - 1s - loss: 1.0146 - val_loss: 2.3039\n",
      "Epoch 00007: early stopping\n",
      "2\n",
      "Epoch 1/100\n",
      "347/347 - 1s - loss: 3.2028 - val_loss: 1.9667\n",
      "Epoch 2/100\n",
      "347/347 - 1s - loss: 1.8395 - val_loss: 2.1927\n",
      "Epoch 3/100\n",
      "347/347 - 1s - loss: 1.7328 - val_loss: 2.3449\n",
      "Epoch 4/100\n",
      "347/347 - 1s - loss: 1.6109 - val_loss: 1.9720\n",
      "Epoch 5/100\n",
      "347/347 - 1s - loss: 1.4157 - val_loss: 2.0541\n",
      "Epoch 6/100\n",
      "347/347 - 1s - loss: 1.1968 - val_loss: 2.1548\n",
      "Epoch 00006: early stopping\n",
      "3\n",
      "Epoch 1/100\n",
      "347/347 - 1s - loss: 3.3998 - val_loss: 2.0738\n",
      "Epoch 2/100\n",
      "347/347 - 1s - loss: 1.8177 - val_loss: 1.9877\n",
      "Epoch 3/100\n",
      "347/347 - 1s - loss: 1.6960 - val_loss: 2.0745\n",
      "Epoch 4/100\n",
      "347/347 - 1s - loss: 1.5672 - val_loss: 2.0265\n",
      "Epoch 5/100\n",
      "347/347 - 1s - loss: 1.3643 - val_loss: 2.1112\n",
      "Epoch 6/100\n",
      "347/347 - 1s - loss: 1.1169 - val_loss: 2.1275\n",
      "Epoch 7/100\n",
      "347/347 - 1s - loss: 0.8642 - val_loss: 2.2535\n",
      "Epoch 00007: early stopping\n",
      "4\n",
      "Epoch 1/100\n",
      "347/347 - 1s - loss: 3.1763 - val_loss: 2.0555\n",
      "Epoch 2/100\n",
      "347/347 - 1s - loss: 1.8015 - val_loss: 1.9806\n",
      "Epoch 3/100\n",
      "347/347 - 1s - loss: 1.6549 - val_loss: 2.4733\n",
      "Epoch 4/100\n",
      "347/347 - 1s - loss: 1.4482 - val_loss: 2.0966\n",
      "Epoch 5/100\n",
      "347/347 - 1s - loss: 1.1613 - val_loss: 2.1526\n",
      "Epoch 6/100\n",
      "347/347 - 1s - loss: 0.8538 - val_loss: 2.2668\n",
      "Epoch 7/100\n",
      "347/347 - 1s - loss: 0.6091 - val_loss: 2.3885\n",
      "Epoch 00007: early stopping\n",
      "Training finished...Loading the best model\n",
      "\n",
      "Final score (MSE): 1.966697514241245\n",
      "Final score (RMSE): 1.402389929456585\n"
     ]
    }
   ],
   "source": [
    "# Define ModelCheckpoint outside the loop\n",
    "checkpointer = ModelCheckpoint(filepath=\"best_weight1.hdf5\", verbose=0, save_best_only=True) # save best model\n",
    "\n",
    "for i in range(5):\n",
    "    print(i)\n",
    "\n",
    "    # Build network\n",
    "    model = Sequential()\n",
    "    model.add(Dense(100, input_dim=x.shape[1], activation='relu'))\n",
    "    model.add(Dense(50, activation='relu'))\n",
    "    model.add(Dense(50, activation='relu'))\n",
    "    model.add(Dense(1)) # Output\n",
    "\n",
    "    model.compile(loss='mean_squared_error', optimizer='rmsprop')\n",
    "\n",
    "    monitor = EarlyStopping(monitor='val_loss', min_delta=1e-3, patience=5, verbose=1, mode='auto')\n",
    "\n",
    "    model.fit(x_train,y_train,validation_data=(x_test,y_test),callbacks=[monitor,checkpointer],verbose=2,epochs=100)\n",
    "\n",
    "\n",
    "print('Training finished...Loading the best model')  \n",
    "print()\n",
    "model.load_weights(\"best_weight1.hdf5\") # load weights from best model\n",
    "\n",
    "# Predict\n",
    "pred = model.predict(x_test)\n",
    "\n",
    "# Measure MSE error.  \n",
    "score = metrics.mean_squared_error(pred,y_test)\n",
    "print(\"Final score (MSE): {}\".format(score))\n",
    "\n",
    "# Measure RMSE error.  RMSE is common for regression.\n",
    "score = np.sqrt(metrics.mean_squared_error(pred,y_test))\n",
    "print(\"Final score (RMSE): {}\".format(score))\n",
    "\n"
   ]
  },
  {
   "cell_type": "code",
   "execution_count": null,
   "metadata": {},
   "outputs": [],
   "source": []
  }
 ],
 "metadata": {
  "kernelspec": {
   "display_name": "Python 3",
   "language": "python",
   "name": "python3"
  },
  "language_info": {
   "codemirror_mode": {
    "name": "ipython",
    "version": 3
   },
   "file_extension": ".py",
   "mimetype": "text/x-python",
   "name": "python",
   "nbconvert_exporter": "python",
   "pygments_lexer": "ipython3",
   "version": "3.7.6"
  }
 },
 "nbformat": 4,
 "nbformat_minor": 4
}
